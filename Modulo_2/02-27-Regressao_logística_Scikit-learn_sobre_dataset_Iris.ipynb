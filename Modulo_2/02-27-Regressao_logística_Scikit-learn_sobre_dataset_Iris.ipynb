{
 "cells": [
  {
   "cell_type": "markdown",
   "metadata": {},
   "source": [
    "# Regressão logística: Scikit-learn sobre dataset Iris\n",
    "\n",
    "## O que vamos fazer?\n",
    "- Descarregar o dataset Iris.\n",
    "- Pré-processar o dataset usando métodos de Scikit-learn.\n",
    "- Formar um modelo de classificação multiclasse por validação cruzada com Scikit-learn.\n",
    "\n",
    "Agora vamos resolver o mesmo modelo usando métodos de Scikit-learn. \n",
    "\n",
    "Pode ter como referência este exemplo: [Logistic regression 3-class classifier](https://scikit-learn.org/stable/auto_examples/linear_model/plot_iris_logistic.html):"
   ]
  },
  {
   "cell_type": "code",
   "execution_count": null,
   "metadata": {},
   "outputs": [],
   "source": [
    "# TODO: Importar todos os módulos necessários para esta célula"
   ]
  },
  {
   "cell_type": "markdown",
   "metadata": {},
   "source": [
    "## Carregar o dataset Iris"
   ]
  },
  {
   "cell_type": "code",
   "execution_count": null,
   "metadata": {},
   "outputs": [],
   "source": [
    "# TODO: Carregar o dataset Iris como arrays X e Y"
   ]
  },
  {
   "cell_type": "markdown",
   "metadata": {},
   "source": [
    "## Pré-processar os dados\n",
    "\n",
    "Pré-processar os dados com métodos de Scikit-learn, do mesmo modo que fez no exercício de Scikit-learn de regressão linear:\n",
    "\n",
    "- Reordená-los aleatoriamente. \n",
    "- Normalizar, se necessário.\n",
    "- Dividi-los em subsets de formação e testes\n",
    "\n",
    "Nesta ocasião, de novo, iremos fazer a validação cruzada por K-fold, já que o dataset é muito pequeno (150 exemplos)."
   ]
  },
  {
   "cell_type": "code",
   "execution_count": null,
   "metadata": {},
   "outputs": [],
   "source": [
    "# TODO: Reordenar os dados aleatoriamente"
   ]
  },
  {
   "cell_type": "code",
   "execution_count": null,
   "metadata": {},
   "outputs": [],
   "source": [
    "# TODO: Normalizar, se necessário"
   ]
  },
  {
   "cell_type": "code",
   "execution_count": null,
   "metadata": {},
   "outputs": [],
   "source": [
    "# TODO: Dividi-los em subsets de formação e testes"
   ]
  },
  {
   "cell_type": "markdown",
   "metadata": {},
   "source": [
    "## Formar um modelo inicial\n",
    "- Formar um modelo inicial sobre o subset de formação sem regularização. \n",
    "- Comprovar a idoneidade do modelo e voltar a formá-lo se necessário.\n",
    "\n",
    "A função de Scikit-learn que pode utilizar é [sklearn.linear_model.LogisticRegression](https://scikit-learn.org/stable/modules/generated/sklearn.linear_model.LogisticRegression.html) com esquema OvR (“one-vs-rest”, uma classe contra o resto).\n",
    "\n",
    "Avaliar sobre o subset de teste com o seu método de *score()*:"
   ]
  },
  {
   "cell_type": "code",
   "execution_count": null,
   "metadata": {},
   "outputs": [],
   "source": [
    "# TODO: Formar o seu modelo no subconjunto de formação não regularizada e avaliar sobre o de teste"
   ]
  },
  {
   "cell_type": "markdown",
   "metadata": {},
   "source": [
    "## Encontrar a regularização ótima através de validação cruzada\n",
    "- Formar um modelo por cada valor de regularização a considerar.\n",
    "- Forma-os e avalia-os sobre um fold do subset de formação usando K-fold. \n",
    "- Escolher o modelo e a sua regularização ótima.\n",
    "\n",
    "O método LogisticRegression aplica por defeito uma regularização L2 por defeito, mas podemos dar-lhe um valor de *C* determinado. *C* atua como o inverso do fator de regularização *lambda*, pelo que os valores menores, maior regularização:"
   ]
  },
  {
   "cell_type": "code",
   "execution_count": null,
   "metadata": {},
   "outputs": [],
   "source": [
    "# TODO: Formar um modelo diferente por cada C sobre um fold de K-fold diferente\n",
    "\n",
    "# Usar os valores de lambda que considerávamos em exercícios anteriores\n",
    "lambdas = [0., 1e-1, 1e1, 1e2, 1e3]\n",
    "# Calcular o C correspondente a cada um\n",
    "cs = [...]\n",
    "\n",
    "# Criar 5 splits de K-fold\n",
    "kf = [...]\n",
    "\n",
    "# Iterar sobre os 5 splits, para os seus modelos e avalia-os no subset do CV gerado\n",
    "log_models = [] \n",
    "best_model = None\n",
    "for train, cv in kf.split(X):\n",
    "    # Formar um modelo sobre o subset train\n",
    "    # Recordar estabelecer o parâmetro C correspondente\n",
    "    # Avaliar sobre o subset cv usando o seu método de score()\n",
    "    # Guardar o modelo com a melhor score na variável best_model e mostrar o C do melhor modelo\n",
    "    c = [...]\n",
    "    print('Regularização L2 usada:', c) \n",
    "    \n",
    "    log_models[...] = [...]\n",
    "    \n",
    "    # Se o modelo for melhor do que o melhor modelo até agora.\n",
    "    best_model = [...]\n",
    "    print('Regularização L2 do melhor modelo até agora:', c)"
   ]
  },
  {
   "cell_type": "markdown",
   "metadata": {},
   "source": [
    "## Avaliar o modelo finalmente sobre o subset de teste\n",
    "\n",
    "- Mostrar os coeficientes e intercept do melhor modelo. \n",
    "- Avaliar o melhor modelo sobre o subset de teste inicial.\n",
    "- Calcular os acertos e falhas no subset de teste e representá-los graficamente."
   ]
  },
  {
   "cell_type": "code",
   "execution_count": null,
   "metadata": {},
   "outputs": [],
   "source": [
    "# TODO: Avaliar o melhor modelo sobre o subset de teste inicial\n",
    "\n",
    "# Mostrar os coeficientes e intercept do melhor modelo formado\n",
    "print('Coeficientes de intercept do modelo formado')\n",
    "print()  # Mostrar o intercept como o primeiro coeficiente\n",
    "    \n",
    "# Realizar as previsões sobre o subset de teste\n",
    "y_test_pred = [...]\n",
    "\n",
    "# Calcular a métrica de avaliação do modelo de precisão (“accuracy”) média (o seu método score())\n",
    "mean_accuracy = [...]\n",
    "\n",
    "print('Precisão média: %.2f' % mean_accuracy)\n",
    "\n",
    "# Calcular os acertos e falhas no subset de teste e representá-los graficamente\n",
    "results = [...]\n",
    "\n",
    "# Representar graficamente\n",
    "plt.figure(1)\n",
    "\n",
    "# Completar com o seu código\n",
    "\n",
    "plt.show()"
   ]
  }
 ],
 "metadata": {
  "environment": {
   "name": "common-cpu.m54",
   "type": "gcloud",
   "uri": "gcr.io/deeplearning-platform-release/base-cpu:m54"
  },
  "kernelspec": {
   "display_name": "Python 3",
   "language": "python",
   "name": "python3"
  },
  "language_info": {
   "codemirror_mode": {
    "name": "ipython",
    "version": 3
   },
   "file_extension": ".py",
   "mimetype": "text/x-python",
   "name": "python",
   "nbconvert_exporter": "python",
   "pygments_lexer": "ipython3",
   "version": "3.8.8"
  }
 },
 "nbformat": 4,
 "nbformat_minor": 4
}
