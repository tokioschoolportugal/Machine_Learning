{
 "cells": [
  {
   "cell_type": "markdown",
   "metadata": {},
   "source": [
    "# Regressão logística: Scikit-learn sobre dataset Digits por OCR\n",
    "\n",
    "## O que vamos fazer?\n",
    "- Descarregar o dataset de dígitos escritos à mão para o classificar por OCR (“optical character recognition”). \n",
    "- Pré-processar o dataset usando métodos de Scikit-learn.\n",
    "- Formar um modelo de classificação multiclasse por CV com Scikit-learn.\n",
    "\n",
    "OCR é um conjunto de técnicas relacionadas com a aprendizagem mecânica e a aprendizagem profunda ou inteligência artificial que tenta reconhecer os caracteres escritos à mão de forma visual.\n",
    "\n",
    "Como o conjunto de caracteres é relativamente pequeno (10 classes), é um modelo que por vezes podemos resolver por classificação logística ou SVM de uma forma simples.\n",
    "\n",
    "\n",
    "- As características do dataset encontram-se aqui: [Optical recognition of handwritten digits dataset](https://scikit-learn.org/stable/datasets/index.html#digits-dataset)\n",
    "- Pode carregar com esta função: [sklearn.datasets.load_digits](https://scikit-learn.org/stable/modules/generated/sklearn.datasets.load_digits.html)\n",
    "- Pode ter como referência este notebook: [Recognizing hand-written digits](https://scikit-learn.org/stable/auto_examples/classification/plot_digits_classification.html)\n",
    "\n",
    "Repetir os passos do exercício anterior para formar um modelo de ML de OCR sobre este dataset com o método LogisticRegression de Scikit-learn:"
   ]
  },
  {
   "cell_type": "code",
   "execution_count": null,
   "metadata": {},
   "outputs": [],
   "source": [
    "# TODO: Importar de todos os módulos necessários para esta célula"
   ]
  },
  {
   "cell_type": "markdown",
   "metadata": {},
   "source": [
    "## Carregar o dataset Digits\n",
    "\n",
    "Antes de começar a trabalhar com o mesmo, representar graficamente alguns dos exemplos e as suas classes ou números associados:"
   ]
  },
  {
   "cell_type": "code",
   "execution_count": null,
   "metadata": {},
   "outputs": [],
   "source": [
    "# TODO: Carregar o dataset Digits como arrays X e Y e representar alguns dos exemplos"
   ]
  },
  {
   "cell_type": "markdown",
   "metadata": {},
   "source": [
    "## Pré-processar os dados\n",
    "\n",
    "Pré-processar os dados com métodos de Scikit-learn, do mesmo modo que fez no exercício de Scikit-learn de regressão linear:\n",
    "\n",
    "- Reordená-los aleatoriamente. \n",
    "- Normalizar, se necessário.\n",
    "- Dividi-los em subsets de formação e testes.\n",
    "\n",
    "Nesta ocasião, mais uma vez, iremos fazer a validação cruzada por K-fold."
   ]
  },
  {
   "cell_type": "code",
   "execution_count": null,
   "metadata": {},
   "outputs": [],
   "source": [
    "# TODO: Reordenar os dados aleatoriamente"
   ]
  },
  {
   "cell_type": "code",
   "execution_count": null,
   "metadata": {},
   "outputs": [],
   "source": [
    "# TODO: Normalizar, se necessário"
   ]
  },
  {
   "cell_type": "code",
   "execution_count": null,
   "metadata": {},
   "outputs": [],
   "source": [
    "# TODO: Dividi-los em subsets de formação e testes"
   ]
  },
  {
   "cell_type": "markdown",
   "metadata": {},
   "source": [
    "## Formar um modelo inicial\n",
    "- Formar um modelo inicial sobre o subset de formação sem regularização. \n",
    "- Comprovar a adequação do modelo e voltar a formá-lo se necessário.\n",
    "\n",
    "Então, usar [sklearn.linear_model.LogisticRegression](https://scikit-learn.org/stable/modules/generated/sklearn.linear_model.LogisticRegression.html) com esquema OvR (“one-vs-rest”, uma classe contra o resto). \n",
    "\n",
    "Avaliar sobre o subset de teste com o seu método de *score()*:"
   ]
  },
  {
   "cell_type": "code",
   "execution_count": null,
   "metadata": {},
   "outputs": [],
   "source": [
    "# TODO: Formar o seu modelo no subset de formação sem regularizar e avaliar sobre o teste"
   ]
  },
  {
   "cell_type": "markdown",
   "metadata": {},
   "source": [
    "## Encontrar a regularização ótima através de validação cruzada\n",
    "- Formar um modelo por cada valor de regularização a considerar.\n",
    "- Forma-os e avaliá-los sobre um fold do subset de formação usando K-fold.\n",
    "- Escolher o modelo e a sua regularização ótima.\n",
    "\n",
    "\n",
    "Recordar que o método LogisticRegression usa o parâmetro de regularização L2 *C*:"
   ]
  },
  {
   "cell_type": "code",
   "execution_count": null,
   "metadata": {},
   "outputs": [],
   "source": [
    "# TODO: Formar um modelo diferente por cada C sobre um fold de K-fold diferente"
   ]
  },
  {
   "cell_type": "markdown",
   "metadata": {},
   "source": [
    "## Avaliar o modelo finalmente sobre o subset de teste\n",
    "\n",
    "- Mostrar os coeficientes e intercept do melhor modelo. \n",
    "- Avaliar o melhor modelo sobre o subset de teste inicial.\n",
    "- Calcular os acertos e falhas no subset de teste e representá-los graficamente.\n",
    "\n",
    "Como este dataset é muito visual, é melhor tentar mostrar visualmente todos os exemplos em que o modelo falhou, e pensar se seria capaz de reconhecer esse número.\n",
    "\n",
    "*Por vezes, mesmo um humano teria dificuldade em decifrar qual é o número baseado na letra da pessoa que escreve 8-)*"
   ]
  },
  {
   "cell_type": "code",
   "execution_count": null,
   "metadata": {},
   "outputs": [],
   "source": [
    "# TODO: Avaliar o melhor modelo sobre o subset de teste inicial e representar as suas falhas graficamente"
   ]
  }
 ],
 "metadata": {
  "environment": {
   "name": "common-cpu.m54",
   "type": "gcloud",
   "uri": "gcr.io/deeplearning-platform-release/base-cpu:m54"
  },
  "kernelspec": {
   "display_name": "Python 3",
   "language": "python",
   "name": "python3"
  },
  "language_info": {
   "codemirror_mode": {
    "name": "ipython",
    "version": 3
   },
   "file_extension": ".py",
   "mimetype": "text/x-python",
   "name": "python",
   "nbconvert_exporter": "python",
   "pygments_lexer": "ipython3",
   "version": "3.8.8"
  }
 },
 "nbformat": 4,
 "nbformat_minor": 4
}
