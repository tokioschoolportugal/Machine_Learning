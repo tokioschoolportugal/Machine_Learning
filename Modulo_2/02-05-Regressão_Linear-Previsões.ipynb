{
 "cells": [
  {
   "cell_type": "markdown",
   "metadata": {},
   "source": [
    "# Regressão linear: previsões"
   ]
  },
  {
   "cell_type": "markdown",
   "metadata": {},
   "source": [
    "O que vamos fazer?\n",
    "\n",
    "- Fazer previsões com um modelo"
   ]
  },
  {
   "cell_type": "markdown",
   "metadata": {},
   "source": [
    "## Tarefa 1: criar um dataset sintético\n",
    "\n",
    "Gerar um dataset sintético para esta tarefa. Neste caso, não vamos usar o dataset para calcular um Theta, os coeficientes do modelo, mas vamos usar a Theta para fazer previsões sobre novos exemplos"
   ]
  },
  {
   "cell_type": "code",
   "execution_count": null,
   "metadata": {},
   "outputs": [],
   "source": [
    "#  TODO: Gerar um dataset sintético, sem termo de erro, sob a forma que escolher\n",
    "\n",
    "m = 0\n",
    "n = 0\n",
    "\n",
    "X = [...]\n",
    "\n",
    "Theta = [...]\n",
    "\n",
    "Y = [...]\n",
    "\n",
    "# Verificar os valores e dimensões (forma ou “shape”) dos vetores\n",
    "print('Theta a estimar') \n",
    "print()\n",
    "\n",
    "print('Primeiras 10 filas e 5 colunas de X e Y:') \n",
    "print()\n",
    "print()\n",
    "\n",
    "print('Dimensões de X e Y:') \n",
    "print('shape', 'shape')"
   ]
  },
  {
   "cell_type": "markdown",
   "metadata": {},
   "source": [
    "## Tarefa 2: fazer previsões com o modelo\n",
    "\n",
    "O modelo compõe-se apenas dos coeficientes Theta, não precisamos de X ou Y para definir o modelo.\n",
    "\n",
    "Uma vez obtido o Theta ótimo, formando o modelo ou gerando o dataset diretamente como nesta ocasião, vamos usar a \n",
    "equação de regressão linear para fazer previsões:\n",
    "\n",
    "$Y_{pred} = X \\times \\Theta^{-1}$"
   ]
  },
  {
   "cell_type": "code",
   "execution_count": null,
   "metadata": {},
   "outputs": [],
   "source": [
    "# TODO: Fazer previsões usando os coeficientes Theta\n",
    "\n",
    "def predict(x, theta):\n",
    "    \n",
    "    \"\"\" Fazer previsões para novos exemplos\n",
    "    Argumentos posicionais:\n",
    "    x -- array 2D de Numpu com os valores das variáveis independentes dos exemplos, de tamanho m x n \n",
    "    theta -- array 1D Numpy com os pesos dos coeficientes do modelo, de tamanho 1 x n (vetor fila)\n",
    "    Devolver:\n",
    "    y_pred -- array 1D de Numpy com a variável dependente/objetivo, de tamanho m x 1 \n",
    "    \"\"\"\n",
    "    \n",
    "    y_pred = [...]\n",
    "    \n",
    "    return y_pred"
   ]
  },
  {
   "cell_type": "markdown",
   "metadata": {},
   "source": [
    "Para fazer previsões, comprovar que obtém um valor muito semelhante ao Y original:"
   ]
  },
  {
   "cell_type": "code",
   "execution_count": null,
   "metadata": {},
   "outputs": [],
   "source": [
    "#  TODO: Comprovar a diferença entre as suas previsões e o Y original\n",
    "\n",
    "y_pred = predict(x, theta)\n",
    "\n",
    "# Calcular a diferença em valor absoluto entre a Y_pred e a Y original\n",
    "diff = [...]\n",
    "\n",
    "print(diff)"
   ]
  },
  {
   "cell_type": "markdown",
   "metadata": {},
   "source": [
    "Para criar múltiplos subgráficos, atreve-se a usar a função subplots de Matplotlib? \n",
    "\n",
    "https://matplotlib.org/3.1.0/gallery/subplots_axes_and_figures/subplots_demo.html"
   ]
  },
  {
   "cell_type": "code",
   "execution_count": null,
   "metadata": {},
   "outputs": [],
   "source": [
    "#  TODO: Representar graficamente as previsões e o Y original\n",
    "\n",
    "plt.figure()\n",
    "\n",
    "# Representar um gráfico de pontos com o Y original vs o X, e o Y previsto vs o X, com cores diferentes mas com etiquectas de cada cor\n",
    "\n",
    "plt.title('Previsões') \n",
    "plt.xlabel('X') \n",
    "plt.ylabel('Y real')\n",
    "\n",
    "plt.plot([...])\n",
    "\n",
    "plt.grid() \n",
    "plt.show()"
   ]
  },
  {
   "cell_type": "markdown",
   "metadata": {},
   "source": [
    "Desta forma tão simples podemos fazer previsões com um modelo.\n",
    "\n",
    "Nos laboratórios seguintes vamos ver como fazer para modelos que formamos nós mesmos.\n",
    "\n",
    "### Previsões sobre um dataset com termo de erro\n",
    "\n",
    "Por outro lado, estas previsões correspondem bem com os valores de Y originais, já que o dataset não tinha nenhum termo de erro ou variação.\n",
    "\n",
    "E se voltar ao código de geração do seu dataset sintético e o modificar para adicionar um termo de erro? Neste caso, como se \n",
    "irão comportar as previsões? Será que vão corresponder ao Y original?\n",
    "\n",
    "Pode comprovar modificando a célula de código original e voltando a executar o resto."
   ]
  }
 ],
 "metadata": {
  "environment": {
   "name": "common-cpu.m54",
   "type": "gcloud",
   "uri": "gcr.io/deeplearning-platform-release/base-cpu:m54"
  },
  "kernelspec": {
   "display_name": "Python 3",
   "language": "python",
   "name": "python3"
  },
  "language_info": {
   "codemirror_mode": {
    "name": "ipython",
    "version": 3
   },
   "file_extension": ".py",
   "mimetype": "text/x-python",
   "name": "python",
   "nbconvert_exporter": "python",
   "pygments_lexer": "ipython3",
   "version": "3.8.8"
  }
 },
 "nbformat": 4,
 "nbformat_minor": 4
}
