{
 "cells": [
  {
   "cell_type": "markdown",
   "metadata": {},
   "source": [
    "# Teorema de Bayes: sensibilidade e especificidade\n",
    "\n",
    "## O que vamos fazer?\n",
    "- Implementar o cálculo das probabilidades pelo teorema de Bayes em Python\n",
    "- Repetir várias experiências para verificar efeitos de sensibilidade e especificidade\n",
    "\n",
    "Este vai ser um exercício curto e rápido, no qual não vamos introduzir novos conceitos.\n",
    "\n",
    "Na sessão do curso, os diapositivos e o manual do aluno resolvemos alguns exercícios sobre o Teorema de Bayes para ter uma ideia de como se comporta, e como pode diferenciar-se da nossa intuição.\n",
    "\n",
    "Agora vamos implementá-lo programaticamente para termos a oportunidade de repetir mais destes exemplos, resolvendo os cálculos com o Python, e representar graficamente os resultados"
   ]
  },
  {
   "cell_type": "markdown",
   "metadata": {},
   "source": [
    "## Implementar o Teorema de Bayes numa função\n",
    "\n",
    "Vamos começar por implementar o Teorema de Bayes numa função de Python. \n",
    "\n",
    "Para isso, completar o código da seguinte célula:"
   ]
  },
  {
   "cell_type": "code",
   "execution_count": null,
   "metadata": {},
   "outputs": [],
   "source": [
    "# TODO: Implementar uma função com o Teorema de Bayes\n",
    "\n",
    "def bayes_theorem(p_a, p_b_dado_a, p_b_dado_no_a):\n",
    "    \"\"\" Devolver a probabilidade de B dado A segundo o Teorema de Bayes\n",
    "    \n",
    "    Todas as variáveis são percentagens em formato float (ou seja, 10% -> \n",
    "    \n",
    "    0.1) Argumentos posicionais:\n",
    "    p_a -- probabilidade a priori\n",
    "    p_b_dado_a -- probabilidade de que se dê o evento B dado o evento A \n",
    "    p_b_dado_no_a -- probabilidade de que se dê o evento B não dado o evento A\n",
    "    \n",
    "    Devolver:\n",
    "    p_a_dado_b -- probabilidade de que se dê o evento A dado o evento B \n",
    "    \"\"\"\n",
    "    \n",
    "    return p_a_dado_b"
   ]
  },
  {
   "cell_type": "markdown",
   "metadata": {},
   "source": [
    "## Resolver vários exemplos e comprovar os resultados\n",
    "\n",
    "Para comprovar a sua implementação, comprovar com os exemplos já feitos nos diapositivos: \n",
    "\n",
    "Exemplo 1:\n",
    "- P(C) = 0,01\n",
    "- P(+|C) = 0,9\n",
    "- P(+|!C) = 0,2\n",
    "- P(C|+) = 0,0435\n",
    "\n",
    "Exemplo 2:\n",
    "- P(C) = 0,01\n",
    "- P(+|C) = 0,85\n",
    "- P(+|!C) = 0,15\n",
    "- P(C|+) = 0,0541\n",
    "\n",
    "Exemplo 3:\n",
    "- P(C) = 0,01\n",
    "- P(+|C) = 0,9\n",
    "- P(+|!C) = 0,05\n",
    "- P(C|+) = 0,1538\n",
    "\n",
    "Recordar que pode modificar os valores de uma célula de código e re-executá-la."
   ]
  },
  {
   "cell_type": "code",
   "execution_count": null,
   "metadata": {},
   "outputs": [],
   "source": [
    "# TODO: Resolver os exemplos anteriores\n",
    "\n",
    "p_a = 0,01\n",
    "p_b_dado_a = 0,9\n",
    "p_b_dado_no_a = 0,2 \n",
    "p_a_dado_b = [...]\n",
    "\n",
    "print('Probabilidade a priori de cancro:', p_a) \n",
    "print('Sensibilidade do teste:', p_b_dado_a) \n",
    "print('Especificidade do teste:', \n",
    "p_b_dado_no_a)\n",
    "print('Probabilidade de cancro se o teste é positivo:', p_a_dado_b)"
   ]
  },
  {
   "cell_type": "markdown",
   "metadata": {},
   "source": [
    "Uma vez comprovada a sua implementação, *porque não a aproveitar para calcular vários exemplos mais e comprovar o seu resultado?*"
   ]
  },
  {
   "cell_type": "markdown",
   "metadata": {},
   "source": [
    "## Representar os efeitos da sensibilidade e especificidade graficamente\n",
    "\n",
    "Como vimos, a probabilidade a posteriori variou muito, dependendo da sensibilidade e especificidade escolhidas.\n",
    "\n",
    "Para concluir o exercício, representar graficamente como varia a probabilidade a posteriori em função da sensibilidade num gráfico, e em outra função da especificidade.\n",
    "\n",
    "Para o fazer, no primeiro gráfico estabelece uma especificidade constante, e no segundo uma sensibilidade constante:"
   ]
  },
  {
   "cell_type": "code",
   "execution_count": null,
   "metadata": {},
   "outputs": [],
   "source": [
    "# TODO: Representar graficamente os efeitos da sensibilidade e especificidade no Teorema de Bayes\n",
    "\n",
    "p_a = 0,01\n",
    "\n",
    "# Criar um array com um espaço linear de +/- 25% sobre os valores base de 0,9 e 0,2, respetivamente, com 10\n",
    "Sensibilidade = [...] \n",
    "Especificidade = \n",
    "[...]\n",
    "\n",
    "# Calcular os resultados das probabilidades a posteriori\n",
    "# Mantém como constante o valor central da sensibilidade e a especificidade\n",
    "res1 = [...]\n",
    "res2 = [...]\n",
    "\n",
    "fig, axs = plt.subplot(2) \n",
    "\n",
    "plt.title()\n",
    "\n",
    "axs[0] = plt.plot(res1) \n",
    "axs[1] = plt.plot(res2)\n",
    "\n",
    "plt.show()"
   ]
  }
 ],
 "metadata": {
  "environment": {
   "name": "common-cpu.m54",
   "type": "gcloud",
   "uri": "gcr.io/deeplearning-platform-release/base-cpu:m54"
  },
  "kernelspec": {
   "display_name": "Python 3",
   "language": "python",
   "name": "python3"
  },
  "language_info": {
   "codemirror_mode": {
    "name": "ipython",
    "version": 3
   },
   "file_extension": ".py",
   "mimetype": "text/x-python",
   "name": "python",
   "nbconvert_exporter": "python",
   "pygments_lexer": "ipython3",
   "version": "3.8.8"
  }
 },
 "nbformat": 4,
 "nbformat_minor": 4
}
