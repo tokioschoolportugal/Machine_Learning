{
 "cells": [
  {
   "cell_type": "markdown",
   "metadata": {},
   "source": [
    "# Regressão linear: Dataset imobiliário real\n",
    "\n",
    "## O que vamos fazer?\n",
    "- Formar um modelo de ML de regressão linear multivariável sobre um dataset imobiliário real"
   ]
  },
  {
   "cell_type": "markdown",
   "metadata": {},
   "source": [
    "## Dataset de preços imobiliários de Boston\n",
    "\n",
    "Este dataset é pequeno, apenas 506 exemplos e 13 características, mas é um dataset real que podemos utilizar para comprovara implementação do nosso modelo de formar e começar a resolver exercícios com dados reais.\n",
    "\n",
    "Pode encontrar o dataset e exemplos de como o descarregar aqui: https://scikit-learn.org/stable/modules/generated/sklearn.datasets.load_boston.html#sklearn.datasets.load_boston\n",
    "\n",
    "Comprovar o dataset. Talvez tenha de fazer alguma pequena modificação sobre os dados ou a sua implementação para o resolver segundo o método que temos vindo a utilizar"
   ]
  },
  {
   "cell_type": "markdown",
   "metadata": {},
   "source": [
    "## Formar o modelo, comprovar o seu processo de formação e avaliar o seu resultado final\n",
    "\n",
    "\n",
    "Para este exercício não terá instruções concretas, um guia ou um modelo de células de código, mas queremos dar-lhe a liberdade e a possibilidade de resolver o seu primeiro problema real, a partir do 0.\n",
    "\n",
    "Os objetivos deste exercício são, novamente:\n",
    "\n",
    "1. Descarregar o dataset para formar o modelo\n",
    "1. Formar um modelo de regressão linear multivariável no dataset, que irá tratar prever as avaliações imobiliárias em Boston.\n",
    "1. Comprovar o processo de formação do modelo\n",
    "1. Avaliar o modelo através de comprovar o seu peso final e a gráfica dos seus resíduos\n",
    "\n",
    "Para isso, fixar-se nos passos que seguiu nos exercícios anteriores e copie aqui as células e código necessários para o resolver.\n",
    "\n",
    "Ânimo!"
   ]
  }
 ],
 "metadata": {
  "environment": {
   "name": "common-cpu.m54",
   "type": "gcloud",
   "uri": "gcr.io/deeplearning-platform-release/base-cpu:m54"
  },
  "kernelspec": {
   "display_name": "Python 3",
   "language": "python",
   "name": "python3"
  },
  "language_info": {
   "codemirror_mode": {
    "name": "ipython",
    "version": 3
   },
   "file_extension": ".py",
   "mimetype": "text/x-python",
   "name": "python",
   "nbconvert_exporter": "python",
   "pygments_lexer": "ipython3",
   "version": "3.8.8"
  }
 },
 "nbformat": 4,
 "nbformat_minor": 4
}
