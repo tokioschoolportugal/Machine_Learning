{
 "cells": [
  {
   "cell_type": "markdown",
   "metadata": {},
   "source": [
    "# Regressão linear: Scikit-learn sobre dataset Diabetes\n",
    "\n",
    "## O que vamos fazer?\n",
    "- Analisar o dataset de amostra de diabetes de Scikit-learn\n",
    "- Formar um modelo de regressão linear multivariável sobre o mesmo \n",
    "- Descobrir o modelo de regressão linear de Lasso\n",
    "- Comparar o CV incluído em LassoCV com um CV feito manualmente\n",
    "\n",
    "Para este exercício pode contar com as seguintes referências, entre outras:\n",
    "- [Diabetes dataset](https://scikit-learn.org/stable/datasets/index.html#diabetes-dataset)\n",
    "- [sklearn.datasets.load_diabetes](https://scikit-learn.org/stable/modules/generated/sklearn.datasets.load_diabetes.html#sklearn.datasets.load_diabetes)\n",
    "- [Cross-validation on Diabetes dataset exercise](https://scikit-learn.org/stable/auto_examples/exercises/plot_cv_diabetes.html)\n",
    "- [sklearn.model_selection.GridSearchCV](https://scikit-learn.org/stable/modules/generated/sklearn.model_selection.GridSearchCV.html)"
   ]
  },
  {
   "cell_type": "code",
   "execution_count": null,
   "metadata": {},
   "outputs": [],
   "source": [
    "# TODO: Importar todos os módulos necessários para esta célula"
   ]
  },
  {
   "cell_type": "markdown",
   "metadata": {},
   "source": [
    "## Carregar o dataset de Diabetes\n",
    "\n",
    "Antes de começar a trabalhar com um dataset novo, é interessante rever as suas características e mostrar por ecrã alguns exemplos para fazermos uma ideia de que dados contém, em que formato, etc:"
   ]
  },
  {
   "cell_type": "code",
   "execution_count": null,
   "metadata": {},
   "outputs": [],
   "source": [
    "# TODO: Carregar o dataset de Diabetes\n",
    "# Primeiro carregá-lo como um objeto tipo Bunch, analisa as suas características e mostra alguns exemplos\n",
    "# Logo modifica o seu código e carregá-lo como uma tupla (X, Y)"
   ]
  },
  {
   "cell_type": "markdown",
   "metadata": {},
   "source": [
    "## Pré-processar os dados\n",
    "- Reordená-los aleatoriamente \n",
    "- Normalizá-los\n",
    "- Dividi-los em subsets de formação e testes\n",
    "\n",
    "*Nota*: Antes de normalizar os dados de um novo dataset, comprovar que é necessário e que não se normalizaram já previamente.\n",
    "\n",
    "*Pista*: [Diabetes dataset](https://scikit-learn.org/stable/datasets/index.html#diabetes-dataset)"
   ]
  },
  {
   "cell_type": "code",
   "execution_count": null,
   "metadata": {},
   "outputs": [],
   "source": [
    "# TODO: Reordenar os dados aleatoriamente"
   ]
  },
  {
   "cell_type": "code",
   "execution_count": null,
   "metadata": {},
   "outputs": [],
   "source": [
    "# TODO: Normalizar os exemplos se necessário"
   ]
  },
  {
   "cell_type": "code",
   "execution_count": null,
   "metadata": {},
   "outputs": [],
   "source": [
    "# TODO: Dividir os dataset e um subset de formação e testes"
   ]
  },
  {
   "cell_type": "markdown",
   "metadata": {},
   "source": [
    "## Formar um modelo inicial\n",
    "\n",
    "- Formar um modelo inicial sobre o subset de formação sem regularização. \n",
    "- Comprovar a adequação do modelo.\n",
    "- Comprovar se há desvio ou sobreajuste\n",
    "\n",
    "Para isso, volte a usar um modelo de regressão linear mais simples, como o LinearRegression:"
   ]
  },
  {
   "cell_type": "code",
   "execution_count": null,
   "metadata": {},
   "outputs": [],
   "source": [
    "# TODO: Formar um modelo de regressão linear mais simples sobre o subset de formação sem regularização."
   ]
  },
  {
   "cell_type": "code",
   "execution_count": null,
   "metadata": {},
   "outputs": [],
   "source": [
    "# TODO: Comprovar a adequação do modelo avaliando-o sobre o set de teste com várias métricas"
   ]
  },
  {
   "cell_type": "code",
   "execution_count": 2,
   "metadata": {},
   "outputs": [],
   "source": [
    "# TODO: Comprovar se a avaliação sobre ambos os subsets é semelhante com o mean_squared_error"
   ]
  },
  {
   "cell_type": "markdown",
   "metadata": {},
   "source": [
    "## Formar o modelo com CV\n",
    "\n",
    "- Formar um modelo por cada valor de regularização a considerar. \n",
    "- Forma-os e avalia-os sobre o subset de formação por K-fold.\n",
    "- Escolher o modelo e a sua regularização ótimos.\n",
    "\n",
    "Formar o modelo pelo algoritmo de [Lasso](https://scikit-learn.org/stable/modules/linear_model.html#lasso):"
   ]
  },
  {
   "cell_type": "code",
   "execution_count": null,
   "metadata": {},
   "outputs": [],
   "source": [
    "# TODO: Formar um modelo diferente por cada alpha sobre um fold de K-fold diferente, avaliar e escolher\n",
    "# o modelo de melhor precisão usando GridSearchCV"
   ]
  },
  {
   "cell_type": "markdown",
   "metadata": {},
   "source": [
    "Pode basear-se no notebook do exercício referenciado."
   ]
  },
  {
   "cell_type": "markdown",
   "metadata": {},
   "source": [
    "*Bonus opcional*: Atreve-se a fazer a mesma representação gráfica da avaliação de cada modelo para múltiplos *alphas*?"
   ]
  },
  {
   "cell_type": "markdown",
   "metadata": {},
   "source": [
    "## Avaliar o modelo finalmente sobre o subset de teste\n",
    "\n",
    "- Mostrar os coeficientes e intercept do melhor modelo. \n",
    "- Avaliar o melhor modelo sobre o subset de teste inicial. \n",
    "- Calcular os resíduos no subset de teste e representá-los."
   ]
  },
  {
   "cell_type": "code",
   "execution_count": null,
   "metadata": {},
   "outputs": [],
   "source": [
    "# TODO: Avaliar o melhor modelo sobre o subset de teste inicial e calcular os seus resíduos"
   ]
  },
  {
   "cell_type": "markdown",
   "metadata": {},
   "source": [
    "## *Bonus*: Comparar os resultados da nossa CV com os de LassoCV\n",
    "\n",
    "Vários algoritmos permitem usar uma implementação adicional que já realiza a otimização por CV internamente, como é o caso de [LassoCV](https://scikit-learn.org/stable/modules/generated/sklearn.linear_model.LassoCV.html#sklearn.linear_model.LassoCV).\n",
    "\n",
    "No entanto, em muitos casos não podemos confiar de tudo o que escolheram o melhor *alpha*. Por isso, pode ser interessante comparar os resultados de LassoCV com os do nosso modelo de Lasso com CV manual.\n",
    "\n",
    "Igual ao que se faz na última parte do exercício, *atreve-se a implementá-lo por si mesmo*?\n",
    "\n",
    "Responder a estas 2 perguntas:\n",
    "- A pergunta incorporada no notebook referenciado: quanto pode confiar na seleção de *alpha* de LassoCV?\n",
    "- São similares os alphas escolhidos por LassoCV e suas precisões às do nosso modelo?"
   ]
  },
  {
   "cell_type": "code",
   "execution_count": 1,
   "metadata": {},
   "outputs": [],
   "source": [
    "# TODO: Comparar os resultados do nosso modelo formado por CV manualmente perante aos de LassoCV"
   ]
  }
 ],
 "metadata": {
  "environment": {
   "name": "common-cpu.m54",
   "type": "gcloud",
   "uri": "gcr.io/deeplearning-platform-release/base-cpu:m54"
  },
  "kernelspec": {
   "display_name": "Python 3",
   "language": "python",
   "name": "python3"
  },
  "language_info": {
   "codemirror_mode": {
    "name": "ipython",
    "version": 3
   },
   "file_extension": ".py",
   "mimetype": "text/x-python",
   "name": "python",
   "nbconvert_exporter": "python",
   "pygments_lexer": "ipython3",
   "version": "3.8.8"
  }
 },
 "nbformat": 4,
 "nbformat_minor": 4
}
