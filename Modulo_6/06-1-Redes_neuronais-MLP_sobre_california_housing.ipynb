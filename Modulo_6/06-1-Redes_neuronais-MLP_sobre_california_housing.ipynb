{
 "cells": [
  {
   "cell_type": "markdown",
   "metadata": {},
   "source": [
    "# Redes neuronais: Regressão linear\n",
    "\n",
    "## O que vamos fazer?\n",
    "- Usar o dataset de California Housing \n",
    "- Formar uma rede neuronal multicamadas\n",
    "- Otimizar a sua regularização por validação cruzada \n",
    "- Avaliar a rede neuronal no subset de teste\n",
    "\n",
    "Vamos formar a nossa primeira rede neuronal (RNN). Neste caso, iremos formar um RNN profundo ou multi-camadas para regressão, com a função de ativação RELU (“REctified Linear Unit function”).\n",
    "\n",
    "O dataset de regressão no qual iremos formar o modelo será um dataset real: o dataset de previsão de preços imobiliários de California Housing, incluído no Scikit-learn\n",
    "\n",
    "Referências:\n",
    "- [California Housing dataset](https://scikit-learn.org/stable/datasets/index.html#california-housing-dataset)\n",
    "- [sklearn.datasets.fetch_california_housing](https://scikit-learn.org/stable/modules/generated/sklearn.datasets.fetch_california_housing.html)\n",
    "- [Neuronal network models: Regression](https://scikit-learn.org/stable/modules/neural_networks_supervised.html#regression)\n",
    "- [sklearn.neural_network.MLPRegressor](https://scikit-learn.org/stable/modules/generated/sklearn.neural_network.MLPRegressor.html)"
   ]
  },
  {
   "cell_type": "code",
   "execution_count": null,
   "metadata": {},
   "outputs": [],
   "source": [
    "# TODO: Importar de todos os módulos necessários para esta célula"
   ]
  },
  {
   "cell_type": "markdown",
   "metadata": {},
   "source": [
    "## Descarregar o dataset e analisá-lo\n",
    "\n",
    "Descarregar o dataset de California Housing em formato *(data.data, data.target)* e analisá-lo quanto às suas características, dimensionalidade, etc..\n",
    "\n",
    "\n",
    "P. ex., *necessita de ser normalizado? Estão ordenados aleatoriamente os exemplos?*"
   ]
  },
  {
   "cell_type": "code",
   "execution_count": null,
   "metadata": {},
   "outputs": [],
   "source": [
    "# TODO: Descarregar o dataset e analisar alguns dos seus exemplos"
   ]
  },
  {
   "cell_type": "markdown",
   "metadata": {},
   "source": [
    "## Pré-processar os dados\n",
    "\n",
    "Novamente, vamos pré-processar os dados seguindo os nossos passos habituais, sempre que seja necessário:\n",
    "- Reordenar os dados aleatoriamente. \n",
    "- Normalizar.\n",
    "- Dividir em subsets de formação e teste (usar validação cruzada por K-fold)."
   ]
  },
  {
   "cell_type": "code",
   "execution_count": null,
   "metadata": {},
   "outputs": [],
   "source": [
    "# TODO: Reordenar os dados aleatoriamente"
   ]
  },
  {
   "cell_type": "code",
   "execution_count": null,
   "metadata": {},
   "outputs": [],
   "source": [
    "# TODO: Normalizar os dados"
   ]
  },
  {
   "cell_type": "code",
   "execution_count": null,
   "metadata": {},
   "outputs": [],
   "source": [
    "# TODO: Dividi-los em subsets de formação e testes"
   ]
  },
  {
   "cell_type": "markdown",
   "metadata": {},
   "source": [
    "## Formar uma RNN multicamada inicial\n",
    "\n",
    "Mais uma vez, para comprovar a nossa implementação e que um modelo de regressão linear por RNN em multicamadas poderia resolver este dataset, vamos formar um RNN inicial, sem regularização\n",
    "\n",
    "Formar sobre o subset de formação e avaliá-lo com o seu método de *score()* no subset de teste:"
   ]
  },
  {
   "cell_type": "code",
   "execution_count": null,
   "metadata": {},
   "outputs": [],
   "source": [
    "# TODO: Entrena una RNN multicapa sin regularización\n",
    "# Como topología, usa 2 capas intermedias de 25 nodos cada una\n",
    "hidden_layer_sizes = (25, 25)"
   ]
  },
  {
   "cell_type": "markdown",
   "metadata": {},
   "source": [
    "## Otimizar a RNN por validação cruzada\n",
    "\n",
    "Vamos otimizar os diferentes hiper-parâmetros da RNN para o nosso modelo por CV, usando o K-fold. \n",
    "\n",
    "Vamos usar o [sklearn.model_selection.GridSearchCV](https://scikit-learn.org/stable/modules/generated/sklearn.model_selection.GridSearchCV.html)  uma vez que temos de otimizar 2 valores à vez:\n",
    "- *hidden_layer_sizes*:  n.º de camadas ocultas e de neurónios por camada, no intervalo [1, 4] camadas ocultas e [10, 50] neurónios por camada.\n",
    "- *alpha*: parâmetro de regularização L2 no intervalo [10^0, 10^7].\n",
    "\n",
    "Segundo os recursos do seu ambiente de trabalho e do tempo que leva a formar os modelos, pode avaliar quantos valores considerar conveniente nestes intervalos:"
   ]
  },
  {
   "cell_type": "code",
   "execution_count": null,
   "metadata": {},
   "outputs": [],
   "source": [
    "# TODO: Formar uma RNN multicamada otimizando os seus hiper-parâmetros hidden_layer_sizes e alpha por CV"
   ]
  },
  {
   "cell_type": "code",
   "execution_count": null,
   "metadata": {},
   "outputs": [],
   "source": [
    "# TODO: Escolher o modelo melhor entre os formados"
   ]
  },
  {
   "cell_type": "markdown",
   "metadata": {},
   "source": [
    "## Avaliar a RNN sobre o subset de teste\n",
    "\n",
    "Finalmente, avaliar a RNN sobre o subset de teste usando o seu método *score()*, o coeficiente de determinação R^2:"
   ]
  },
  {
   "cell_type": "code",
   "execution_count": null,
   "metadata": {},
   "outputs": [],
   "source": [
    "# TODO: Avaliar a RNN sobre o subset de teste"
   ]
  }
 ],
 "metadata": {
  "environment": {
   "name": "common-cpu.m54",
   "type": "gcloud",
   "uri": "gcr.io/deeplearning-platform-release/base-cpu:m54"
  },
  "kernelspec": {
   "display_name": "Python 3",
   "language": "python",
   "name": "python3"
  },
  "language_info": {
   "codemirror_mode": {
    "name": "ipython",
    "version": 3
   },
   "file_extension": ".py",
   "mimetype": "text/x-python",
   "name": "python",
   "nbconvert_exporter": "python",
   "pygments_lexer": "ipython3",
   "version": "3.8.8"
  }
 },
 "nbformat": 4,
 "nbformat_minor": 4
}
