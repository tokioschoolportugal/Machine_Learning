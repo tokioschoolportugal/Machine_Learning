{
 "cells": [
  {
   "cell_type": "markdown",
   "metadata": {},
   "source": [
    "# K-means: Agrupamento sobre dataset Iris e comparação com classificação\n",
    "\n",
    "## O que vamos fazer?\n",
    "- Descarregar o dataset Iris.\n",
    "- Formar um modelo de agrupamento por K-means usando Scikit-learn. \n",
    "- Avaliar graficamente os resultados do modelo.\n",
    "- Formar um modelo de classificação por SVM sobre o mesmo dataset. \n",
    "- Avaliar os resultados da classificação.\n",
    "- Comparar ambos os modelos e os seus resultados\n",
    "\n",
    "Neste exercício, vamos aplicar ambos os algoritmos no dataset de Iris, utilizados anteriormente na classificação. Assim, podemos comparar ambos os tipos de aprendizagem, a aprendizagem supervisionada da classificação e a aprendizagem não supervisionada do agrupamento.\n",
    "\n",
    "Normalmente podemos confundir os dois tipos de modelos, ou pensar que podemos utilizá-los para casos de uso semelhante. No entanto, devemos ter sempre presente a diferença fundamental entre eles: que a classificação é aprendizagem supervisionada e o aprupamento não é supervisionado."
   ]
  },
  {
   "cell_type": "code",
   "execution_count": null,
   "metadata": {},
   "outputs": [],
   "source": [
    "# TODO: Importar todos os módulos necessários para esta célula"
   ]
  },
  {
   "cell_type": "markdown",
   "metadata": {},
   "source": [
    "## Descarregar o dataset Iris\n",
    "\n",
    "Descarregar o dataset Iris em formato *X* e *Y* para o utilizar neste exercício. \n",
    "\n",
    "Pode usar a função: [sklearn.datasets.load_iris](https://scikit-learn.org/stable/modules/generated/sklearn.datasets.load_iris.html)."
   ]
  },
  {
   "cell_type": "code",
   "execution_count": null,
   "metadata": {},
   "outputs": [],
   "source": [
    "# TODO: Descarregar o dataset Iris"
   ]
  },
  {
   "cell_type": "markdown",
   "metadata": {},
   "source": [
    "Atreve-se a representar em 3D as suas 3 primeiras características? Comprimento das sépalas, largura das sépalas e comprimento das pétalas.\n",
    "\n",
    "Vê uma diferenciação clara entre as classes? Aprecia vários polos de dados?\n",
    "\n",
    "Pode utilizar estes exercícios como referência:\n",
    "\n",
    "- [The Iris Dataset](https://scikit-learn.org/stable/modules/generated/sklearn.datasets.load_iris.html)\n",
    "- [3D scatterplot](https://matplotlib.org/3.1.1/gallery/mplot3d/scatter3d.html)\n",
    "- [K-means Clustering](https://scikit-learn.org/stable/auto_examples/cluster/plot_cluster_iris.html)"
   ]
  },
  {
   "cell_type": "code",
   "execution_count": null,
   "metadata": {},
   "outputs": [],
   "source": [
    "#  TODO: Representar em 3D 3 características do dataset 4-dimensional"
   ]
  },
  {
   "cell_type": "markdown",
   "metadata": {},
   "source": [
    "Para analisar melhor o dataset, tentar representar outra escolha de 3 características diferentes, incluindo também a largura das pétalas.\n",
    "\n",
    "Entre estas combinações de características, representadas em diferentes gráficos, *pode encontrar uma diferença mais clara entre as classes? Vários polos de dados agrupados?*\n",
    "\n",
    "Perante tais dados, que podem ser vistos como difíceis para os nossos 2 tipos de modelos, vamos formá-los para comprovar os seus \n",
    "resultados."
   ]
  },
  {
   "cell_type": "markdown",
   "metadata": {},
   "source": [
    "## Pré-processar os dados\n",
    "\n",
    "Vamos pré-processar os dados da forma habitual:\n",
    "- Reordenar aleatoriamente os exemplos. \n",
    "- Normalizar.\n",
    "- Dividi-los em subsets de formação e teste.\n",
    "\n",
    "Vamos usar exclusivamente o subset de formação para formar os nossos modelos e o de teste para os avaliar, também para os K-means. \n",
    "Desta forma, vamos assegurar-nos de que ambos os tipos de modelos foram formados e avaliados em condições de igualdade."
   ]
  },
  {
   "cell_type": "markdown",
   "metadata": {},
   "source": [
    "## Formar um modelo de agrupamento por K-means usando Scikit-learn\n",
    "\n",
    "Vamos formar um modelo K-means usando o método Scikit.learn [sklearn.cluster.KMeans](https://scikit-learn.org/stable/modules/generated/sklearn.cluster.KMeans.html).\n",
    "\n",
    "Este método aceita uma série de polos *n_clusters* e efetua várias inicializações com diferentes centroides originais, pelo que não teremos de efetuar uma validação cruzada no mesmo\n",
    "\n",
    "Formar um modelo K-means 3 polos no subset de formação:"
   ]
  },
  {
   "cell_type": "code",
   "execution_count": null,
   "metadata": {},
   "outputs": [],
   "source": [
    "# TODO: Formar um modelo de K-means com Scikit-learn para 3 polos"
   ]
  },
  {
   "cell_type": "markdown",
   "metadata": {},
   "source": [
    "## Avaliar os seus resultados graficamente"
   ]
  },
  {
   "cell_type": "markdown",
   "metadata": {},
   "source": [
    "Nesta ocasião, para avaliar o modelo de K-means vamos usar o subset de teste final, já que dispomos do mesmo. \n",
    "Avaliar esse modelo com o seu método *score()* e com o coeficiente de silhueta:"
   ]
  },
  {
   "cell_type": "code",
   "execution_count": null,
   "metadata": {},
   "outputs": [],
   "source": [
    "# TODO: Avaliar esse modelo sem usar Y ou o subset de teste"
   ]
  },
  {
   "cell_type": "markdown",
   "metadata": {},
   "source": [
    "Representar graficamente os seus resultados:"
   ]
  },
  {
   "cell_type": "code",
   "execution_count": null,
   "metadata": {},
   "outputs": [],
   "source": [
    "# TODO: Representar graficamente os centroides e os exemplos atribuídos de cada cluster"
   ]
  },
  {
   "cell_type": "markdown",
   "metadata": {},
   "source": [
    "## Formar um modelo de classificação por SVM sobre o dataset Iris\n",
    "\n",
    "Agora, formar um modelo de classificação usando [sklearn.svm.SVC](https://scikit-learn.org/stable/modules/generated/sklearn.svm.SVC.html) sobre o dataset Iris\n",
    "\n",
    "Avaliar vários valores do hiper-parâmetro *C* e os kernels disponíveis com [sklearn.model_selection.GridSearchCV](https://scikit-learn.org/stable/modules/generated/sklearn.model_selection.GridSearchCV.html).\n",
    "\n",
    "*Nota*: Para o hiper-parâmetro *gamma*, pode usar diretamente o valor por defeito de SVC.\n",
    "\n",
    "Pode usar este exercício como referência:: [Plot differente SVM classifiers in the Iris Dataset](https://scikit-learn.org/stable/auto_examples/svm/plot_iris_svc.html)."
   ]
  },
  {
   "cell_type": "code",
   "execution_count": null,
   "metadata": {},
   "outputs": [],
   "source": [
    "# TODO: Formar um modelo de SVC otimizando os seus hiper-parâmetros e kernel usado por CV com K-fold"
   ]
  },
  {
   "cell_type": "markdown",
   "metadata": {},
   "source": [
    "## Avaliar os seus resultados graficamente\n",
    "\n",
    "Como fizemos nos exercícios da sessão anterior, avaliar o modelo finalmente sobre o subset de teste e representar a suas previsões graficamente:"
   ]
  },
  {
   "cell_type": "code",
   "execution_count": null,
   "metadata": {},
   "outputs": [],
   "source": [
    "# TODO: Avaliar o melhor modelo sobre o subset de teste"
   ]
  },
  {
   "cell_type": "code",
   "execution_count": null,
   "metadata": {},
   "outputs": [],
   "source": [
    "# TODO: Representar as suas previsões graficamente"
   ]
  },
  {
   "cell_type": "markdown",
   "metadata": {},
   "source": [
    "## Comparar ambos os modelos e os seus resultados\n",
    "\n",
    "Embora as duas tarefas, agrupamento e classificação, sejam intrinsecamente diferentes, podemos comparar estes resultados para realçar as suas diferenças.\n",
    "\n",
    "Para isso, pode comparar a atribuição de exemplos a cada polo em agrupamento e a cada classe em classificação.\n",
    "\n",
    "*Nota*: Ter em mente a dificuldade inerente dos exemplos e características deste dataset Iris\n",
    "\n",
    "- *Existe uma grande diferença no n.º de exemplos que seriam atribuídos a um polo em agrupamento e classe diferente na classificação?*\n",
    "- *Que modelo acerta mais? Será um agrupamento capaz de ter um resultado semelhante a um modelo de classificação, quando podemos avaliar a classe real?*\n",
    "- *Como é a divisão do espaço n-dimensional em ambos os casos? O espaço atribuído às classes e aos aglomerados é semelhante nas representações gráficas?*"
   ]
  },
  {
   "cell_type": "code",
   "execution_count": null,
   "metadata": {},
   "outputs": [],
   "source": []
  }
 ],
 "metadata": {
  "environment": {
   "name": "common-cpu.m54",
   "type": "gcloud",
   "uri": "gcr.io/deeplearning-platform-release/base-cpu:m54"
  },
  "kernelspec": {
   "display_name": "Python 3",
   "language": "python",
   "name": "python3"
  },
  "language_info": {
   "codemirror_mode": {
    "name": "ipython",
    "version": 3
   },
   "file_extension": ".py",
   "mimetype": "text/x-python",
   "name": "python",
   "nbconvert_exporter": "python",
   "pygments_lexer": "ipython3",
   "version": "3.8.8"
  }
 },
 "nbformat": 4,
 "nbformat_minor": 4
}
