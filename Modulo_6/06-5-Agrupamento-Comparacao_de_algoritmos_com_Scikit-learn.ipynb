{
 "cells": [
  {
   "cell_type": "markdown",
   "metadata": {},
   "source": [
    "# Agrupamento: Comparação de algoritmos com Scikit-learn\n",
    "\n",
    "## O que vamos fazer?\n",
    "- Comparar os diferentes algoritmos de agrupamento disponíveis em Scikit-learn. \n",
    "- Comprovar os pressupostos do algoritmo de K-means\n",
    "\n",
    "Neste exercício não vai desenvolver um novo código, mas simplesmente descarregar e executar 2 notebooks a partir da documentação Scikit-learn:\n",
    "- [Comparing different clustering algorithms on toy datasets](https://scikit-learn.org/stable/auto_examples/cluster/plot_cluster_comparison.html)\n",
    "- [Demonstration of k-means assumptions](https://scikit-learn.org/stable/auto_examples/cluster/plot_kmeans_assumptions.html)\n",
    "\n",
    "Como conclusões, poderíamos adicionar muitas, como por ex.:\n",
    "- Nenhum algoritmo de agrupamento trabalha bem em todos os casos, com todos os datasets. \n",
    "- A análise prévia de dados é ainda mais necessária na formação destes algoritmos.\n",
    "- A pré-visualização irá ajudar muito, embora seja bastante difícil de fazer sem redução da dimensionalidade. \n",
    "- O problema do agrupamento é inerentemente difícil de resolver\n",
    "\n",
    "\n",
    "Copiar as células de código, analisar os resultados, modificar alguns parâmetros para verificar as suas intuições e responder às perguntas no final do exercício:"
   ]
  },
  {
   "cell_type": "markdown",
   "metadata": {},
   "source": [
    "## Comparando diferentes algoritmos de agrupamento em datasets de amostra\n",
    "\n",
    "O problema do agrupamento é inerentemente difícil de resolver com precisão, uma vez que não existem resultados previamente conhecidos que possamos utilizar para monitorizar a nossa aprendizagem, e a escolha de polos corretos pode ser bastante difícil, além de subjetiva.\n",
    "\n",
    "Existem muitos algoritmos de agrupamento diferentes que podemos utilizar, para além dos K-means e as suas variantes, e cada um deles irá funcionar melhor ou pior, em função da distribuição de dados do dataset.\n",
    "\n",
    "Copiar o código do exercício **Comparing different clustering algorithms on toy datasets** e comprovar por si mesmo:\n"
   ]
  },
  {
   "cell_type": "code",
   "execution_count": null,
   "metadata": {},
   "outputs": [],
   "source": [
    "# TODO: Executar o código do exercício correspondente"
   ]
  },
  {
   "cell_type": "markdown",
   "metadata": {},
   "source": [
    "## Demonstração dos pressupostos do algoritmo de K-means\n",
    "\n",
    "Em concreto, para o algoritmo K-means e, em geral, para as suas variações, irá funcionar mal em datasets com as seguintes distribuições de exemplos:\n",
    "- Um número incorreto de blobs ou polos utilizados para formar o modelo. \n",
    "- Datasets com formas não esféricas muito próximos entre si.\n",
    "- Variação entre polos próximos muito diferentes entre si.\n",
    "\n",
    "Em contraste, funciona bastante bem em polos separados com variação semelhante, embora o n.º de exemplos seja muito diferente.\n",
    "\n",
    "Copiar o código do exercício **Demonstration of k-means assumptions** e confirmar por si mesmo:"
   ]
  },
  {
   "cell_type": "code",
   "execution_count": null,
   "metadata": {},
   "outputs": [],
   "source": [
    "# TODO: Executar o código do exercício correspondente"
   ]
  },
  {
   "cell_type": "markdown",
   "metadata": {},
   "source": [
    "Modificar os parâmetros do dataset utilizado para ver se os pressupostos se continuam a cumprir"
   ]
  },
  {
   "cell_type": "markdown",
   "metadata": {},
   "source": [
    "## Perguntas a responder\n",
    "\n",
    "Por favor, responder às seguintes perguntas, editando esta célula Markdown com as suas respostas após cada pergunta. Dividimos as perguntas em 2 blocos, cada um relativo a um dos notebooks de documentação Scikit-learn, por isso, quando falamos de datasets e algoritmos, referimo-nos apenas aos que aparecem nesse notebook.\n",
    "\n",
    "### Comparando diferentes algoritmos de agrupamento em datasets de amostra\n",
    "1. Pergunta: Pode descrever pelas suas próprias palavras os 6 datasets diferentes utilizados?\n",
    "    1. Nota: Parece uma pergunta parva, mas embora as diferenças sejam óbvias, ter de parar e descrevê-las ajuda-o a olhar bem e escrever pode ajudar a ver se encaixa com alguma(s) característica(s) de outro dataset na vida real.\n",
    "    1. Dataset 1:\n",
    "    1. Dataset 2:\n",
    "    1. Dataset 3:\n",
    "    1. Dataset 4:\n",
    "    1. Dataset 5:\n",
    "    1. Dataset 6:\n",
    "1. Pergunta: Compare os diferentes algoritmos nos diferentes datasets. “Dê uma nota” entre 1 e 5 a cada um deles para os comparar:\n",
    "    1. Exemplo: MiniBatchKMeans: [1, 2, 2, 1, 5, 3]\n",
    "    1. Mini-batch KMeans: []\n",
    "    1. Affinity propagation: []\n",
    "    1. Mean shift: []\n",
    "    1. Spectral clustering: []\n",
    "    1. Ward: []\n",
    "    1. Agglomerative clustering: []\n",
    "    1. DB Scan: []\n",
    "    1. Optics: []\n",
    "    1. Birch: []\n",
    "    1. Gaussian mixture: []\n",
    "1. Pergunta: Escolha um algoritmo para resolver cada dataset ou situação e justifique a sua resposta:\n",
    "    1. Dataset 1:\n",
    "    1. Dataset 2:\n",
    "    1. Dataset 3:\n",
    "    1. Dataset 4:\n",
    "    1. Dataset 5:\n",
    "    1. Dataset 6:\n",
    "    \n",
    "### Demonstração dos pressupostos do algoritmo de K-means\n",
    "1. Pergunta: Já descreveu a maioria de datasets numa pergunta anterior. Mesmo assim, descreva o último dataset (“Unevenly sized blobs”):\n",
    "    1. Resposta:\n",
    "1. Pergunta: Para cada dataset ou caso, descreva o pressuposto de KMeans para a sua correta aplicação que acredita que cumpra ou não.\n",
    "    1. Dataset 1:\n",
    "    1. Dataset 2:\n",
    "    1. Dataset 3:\n",
    "    1. Dataset 4:\n",
    "1. Pergunta: Para cada dataset ou caso, ocorre-lhe uma possível transformação dos dados para outro espaço de variáveis (espaço linear, vetorial, etc.), ou uma transformação de outro tipo, que nos iria ajudar a resolver este problema com KMeans?\n",
    "    1. Nota: É uma pergunta complexa, não se preocupe se não tem uma resposta para cada caso, ou se não lhe ocorre nada, embora o incentivemos a tentar :).\n",
    "    1. Dataset 1:\n",
    "    1. Dataset 2:\n",
    "    1. Dataset 3:\n",
    "    1. Dataset 4:"
   ]
  },
  {
   "cell_type": "code",
   "execution_count": null,
   "metadata": {},
   "outputs": [],
   "source": []
  }
 ],
 "metadata": {
  "environment": {
   "name": "common-cpu.m54",
   "type": "gcloud",
   "uri": "gcr.io/deeplearning-platform-release/base-cpu:m54"
  },
  "kernelspec": {
   "display_name": "Python 3",
   "language": "python",
   "name": "python3"
  },
  "language_info": {
   "codemirror_mode": {
    "name": "ipython",
    "version": 3
   },
   "file_extension": ".py",
   "mimetype": "text/x-python",
   "name": "python",
   "nbconvert_exporter": "python",
   "pygments_lexer": "ipython3",
   "version": "3.8.8"
  }
 },
 "nbformat": 4,
 "nbformat_minor": 4
}
