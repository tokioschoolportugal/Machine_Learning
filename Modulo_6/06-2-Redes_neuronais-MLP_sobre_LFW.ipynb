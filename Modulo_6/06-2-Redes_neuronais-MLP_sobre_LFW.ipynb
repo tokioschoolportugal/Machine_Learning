{
 "cells": [
  {
   "cell_type": "markdown",
   "metadata": {},
   "source": [
    "# Redes neuronais: Classificação\n",
    "\n",
    "## O que vamos fazer?\n",
    "- Usar o dataset de Labeled Faces in the Wild\n",
    "- Formar uma rede neuronal multicamada de classificação\n",
    "- Otimizar a sua regularização por validação cruzada \n",
    "- Avaliar a rede neuronal no subset de teste\n",
    "\n",
    "Vamos formar outra rede neuronal (NNN), neste caso para a classificação. Para tal, iremos formar uma RNN profunda ou multicamada para classificação multiclasse, com a função de ativação sigmoide.\n",
    "\n",
    "O dataset de regressão no qual iremos formar o modelo será um dataset real: o dataset de caras de famosos Labeled Faces in the Wild, incluindo no Scikit-learn, na sua versão para o problema de reconhecer rostos.\n",
    "\n",
    "Referências:\n",
    "- [The Labeled Faces in the Wild face recognition dataset](https://scikit-learn.org/stable/datasets/index.html#labeled-faces-in-the-wild-dataset)\n",
    "- [sklearn.datasets.fetch_lfw_people](https://scikit-learn.org/stable/modules/generated/sklearn.datasets.fetch_lfw_people.html)\n",
    "- [Neuronal network models: Classification](https://scikit-learn.org/stable/modules/neural_networks_supervised.html#classification)\n",
    "- [sklearn.neural_network.MLPClassifier](https://scikit-learn.org/stable/modules/generated/sklearn.neural_network.MLPClassifier.html)"
   ]
  },
  {
   "cell_type": "code",
   "execution_count": null,
   "metadata": {},
   "outputs": [],
   "source": [
    "# TODO: Importar de todos os módulos necessários para esta célula"
   ]
  },
  {
   "cell_type": "markdown",
   "metadata": {},
   "source": [
    "## Descarregar o dataset e analisá-lo\n",
    "\n",
    "Descarregar o dataset de California Housing em formato (dataset.data, dataset.target) e analisá-lo pelas suas características, dimensionalidade, etc..\n",
    "\n",
    "P. ex., *necessita de ser normalizado? Estão ordenados aleatoriamente os exemplos?*"
   ]
  },
  {
   "cell_type": "code",
   "execution_count": null,
   "metadata": {},
   "outputs": [],
   "source": [
    "# TODO: Descarregar o dataset e analisar alguns dos seus exemplos"
   ]
  },
  {
   "cell_type": "markdown",
   "metadata": {},
   "source": [
    "## Pré-processar os dados\n",
    "\n",
    "De novo, vamos pré-processar os dados seguindo os nossos passos habituais, sempre que seja necessário:\n",
    "\n",
    "- Reordenar os dados aleatoriamente.\n",
    "- Normalizar.\n",
    "- Dividir em subsets de formação e teste (usar validação cruzada por K-fold)."
   ]
  },
  {
   "cell_type": "code",
   "execution_count": null,
   "metadata": {},
   "outputs": [],
   "source": [
    "# TODO: Reordenar os dados aleatoriamente"
   ]
  },
  {
   "cell_type": "code",
   "execution_count": null,
   "metadata": {},
   "outputs": [],
   "source": [
    "# TODO: Normalizar os dados"
   ]
  },
  {
   "cell_type": "code",
   "execution_count": null,
   "metadata": {},
   "outputs": [],
   "source": [
    "# TODO: Dividi-los em subsets de formação e testes"
   ]
  },
  {
   "cell_type": "markdown",
   "metadata": {},
   "source": [
    "## Formar uma RNN multicamada inicial\n",
    "\n",
    "Mais uma vez, para comprovar a nossa implementação e que um modelo de regressão linear por RNN em multicamadas poderia resolver este dataset, vamos formar uma RNN inicial, sem regularização.\n",
    "\n",
    "Formar sobre o subset de formação e avaliar com o seu método de *score()* no subset de teste:"
   ]
  },
  {
   "cell_type": "code",
   "execution_count": null,
   "metadata": {},
   "outputs": [],
   "source": [
    "# TODO: Formar uma RNN multicamada sem regularização\n",
    "# Como topologia, usar 2 camadas intermédias de 25 nós cada uma\n",
    "hidden_layer_sizes = (25, 25)\n",
    "\n",
    "# Usar a função de ativação logística sigmoide para formar a RNN\n",
    "activation = 'logistic'"
   ]
  },
  {
   "cell_type": "markdown",
   "metadata": {},
   "source": [
    "## Otimizar a RNN por validação cruzada\n",
    "\n",
    "Vamos otimizar os diferentes hiper-parâmetros da RNN para o nosso modelo por CV, usando o K-fold. \n",
    "\n",
    "Vamos usar o [sklearn.model_selection.GridSearchCV](https://scikit-learn.org/stable/modules/generated/sklearn.model_selection.GridSearchCV.html)  uma vez que temos de otimizar 2 valores à vez:\n",
    "- *hidden_layer_sizes*: o n.º de camadas ocultas e de neurónios por camada, no intervalo [1, 4] camadas ocultas e [10, 50] neurónios por camada.\n",
    "- *alpha*: parâmetro de regularização L2 no intervalo [10^0, 10^7].\n",
    "\n",
    "Segundo os recursos do seu ambiente de trabalho e do tempo que leva a formar os modelos, pode avaliar quantos valores considerar conveniente nestes intervalos:\n"
   ]
  },
  {
   "cell_type": "code",
   "execution_count": null,
   "metadata": {},
   "outputs": [],
   "source": [
    "# TODO: Formar uma RNN multicamada otimizando os seus hiper-parâmetros hidden_layer_sizes e alpha por CV"
   ]
  },
  {
   "cell_type": "code",
   "execution_count": null,
   "metadata": {},
   "outputs": [],
   "source": [
    "# TODO: Escolher o modelo melhor entre os formados"
   ]
  },
  {
   "cell_type": "markdown",
   "metadata": {},
   "source": [
    "## Avaliar a RNN sobre o subset de teste\n",
    "\n",
    "Finalmente, avaliar a RNN sobre o subset de teste usando o seu método *score()*, a precisão média das classificações:"
   ]
  },
  {
   "cell_type": "code",
   "execution_count": null,
   "metadata": {},
   "outputs": [],
   "source": [
    "# TODO: Avaliar a RNN sobre o subset de teste"
   ]
  },
  {
   "cell_type": "markdown",
   "metadata": {},
   "source": [
    "Representar alguns dos rostos previstas.\n",
    "\n",
    "Para isso, pode seguir este exemplo: [Faces recognition example using eigenfaces and SVMs](https://scikit-learn.org/stable/auto_examples/applications/plot_face_recognition.html)  (não se preocupe pelas *eigenfaces* nem os *eigenvalues*, não explicámos ainda este conceito no curso)."
   ]
  },
  {
   "cell_type": "markdown",
   "metadata": {},
   "source": [
    "*Bónus*: Comparar a precisão da sua RNN com a do modelo de SVM de classificação que usou sobre este mesmo dataset, *que modelo conseguiu maior precisão final?*"
   ]
  }
 ],
 "metadata": {
  "environment": {
   "name": "common-cpu.m54",
   "type": "gcloud",
   "uri": "gcr.io/deeplearning-platform-release/base-cpu:m54"
  },
  "kernelspec": {
   "display_name": "Python 3",
   "language": "python",
   "name": "python3"
  },
  "language_info": {
   "codemirror_mode": {
    "name": "ipython",
    "version": 3
   },
   "file_extension": ".py",
   "mimetype": "text/x-python",
   "name": "python",
   "nbconvert_exporter": "python",
   "pygments_lexer": "ipython3",
   "version": "3.8.8"
  }
 },
 "nbformat": 4,
 "nbformat_minor": 4
}
