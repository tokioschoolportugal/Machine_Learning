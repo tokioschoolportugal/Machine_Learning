{
 "cells": [
  {
   "cell_type": "markdown",
   "metadata": {},
   "source": [
    "# Introdução às livrarias usadas"
   ]
  },
  {
   "cell_type": "markdown",
   "metadata": {},
   "source": [
    "Neste notebook, vamos ver uma breve introdução às livrarias:\n",
    "- Jupyter \n",
    "- Numpy \n",
    "- Matplotlib \n",
    "- Scikit-learn\n",
    "\n",
    "O “kernel” ou linguagem usada pelo notebook e as livrarias é Python 3.\n",
    "\n",
    "Para este exercício, simplesmente executar todas as células e rever as diferentes funções utilizadas. Ao final do mesmo terá uns poucos exercícios para resolver."
   ]
  },
  {
   "cell_type": "code",
   "execution_count": null,
   "metadata": {},
   "outputs": [],
   "source": [
    "import numpy as np\n",
    "\n",
    "n = np.arange(27).reshape((3, 3, 3))\n",
    "\n",
    "print(n[:,2,2])\n",
    "print(n)"
   ]
  },
  {
   "cell_type": "markdown",
   "metadata": {},
   "source": [
    "## Jupyter"
   ]
  },
  {
   "cell_type": "markdown",
   "metadata": {},
   "source": [
    "Jupyter permite incluir num único documento \"células\" com código interativo, texto explicativo, resultados e gráficos. Código interativo posto que podemos modificar o código e executá-lo desde qualquer célula. \n",
    "\n",
    "Os notebooks de Jupyter são __colaborativos__, __facilmente partilhados__, __pensados para publicação__ e, sobretudo, __reproduzíveis__. Por tudo isso e mais são ideais para a educação, informática científica e, em especial, no big data e análise de dados."
   ]
  },
  {
   "cell_type": "markdown",
   "metadata": {},
   "source": [
    "Executar o código é tão simples como incluir uma célula de código e premir “Run” (ou CTRL + Enter):"
   ]
  },
  {
   "cell_type": "code",
   "execution_count": null,
   "metadata": {},
   "outputs": [],
   "source": [
    "import jupyter, numpy, matplotlib, sklearn\n",
    "print(jupyter.__version__)\n",
    "print(numpy.__version__)\n",
    "print(matplotlib.__version__)\n",
    "print(sklearn.__version__)"
   ]
  },
  {
   "cell_type": "markdown",
   "metadata": {},
   "source": [
    "Depois de cada célula mostra-se o resultado da sua execução, que pode ser intercalado com células de texto explicativo. Esse texto formata-se com [__markdown__](https://markdown.es/)."
   ]
  },
  {
   "cell_type": "code",
   "execution_count": null,
   "metadata": {},
   "outputs": [],
   "source": [
    "a = 1\n",
    "b = 2\n",
    "c = 4"
   ]
  },
  {
   "cell_type": "code",
   "execution_count": null,
   "metadata": {},
   "outputs": [],
   "source": [
    "print(a)\n",
    "print(b)\n",
    "print(c)"
   ]
  },
  {
   "cell_type": "code",
   "execution_count": null,
   "metadata": {},
   "outputs": [],
   "source": [
    "a = 'marcos'\n",
    "b = 'b'\n",
    "c = a + b\n",
    "print(c)"
   ]
  },
  {
   "cell_type": "markdown",
   "metadata": {},
   "source": [
    "Experimente executar de novo o código que imprime o valor das variáveis \"a\", \"b\" e \"c\". Referimos-nos a isto quando falamos de código interativo"
   ]
  },
  {
   "cell_type": "markdown",
   "metadata": {},
   "source": [
    "Inserir uma célula depois desta copiando o código da última célula de código, modificar os valores das variáveis “a” e “b” e executá-la. Ao ser um notebook interativo, pode incluir novas células para modificar a execução, por exemplo para encontrar erros ou compreender melhor como se executa o código."
   ]
  },
  {
   "cell_type": "markdown",
   "metadata": {},
   "source": [
    "## Numpy"
   ]
  },
  {
   "cell_type": "markdown",
   "metadata": {},
   "source": [
    "Livraria para o cálculo numérico de referência em Python."
   ]
  },
  {
   "cell_type": "code",
   "execution_count": null,
   "metadata": {},
   "outputs": [],
   "source": [
    "import numpy as np\n",
    "print(np.__version__)"
   ]
  },
  {
   "cell_type": "code",
   "execution_count": null,
   "metadata": {},
   "outputs": [],
   "source": [
    "a = np.array([1,2,3])\n",
    "print(a)\n",
    "print(type(a))"
   ]
  },
  {
   "cell_type": "code",
   "execution_count": null,
   "metadata": {},
   "outputs": [],
   "source": [
    "b = np.array([[1,2,3],[3,4,5]])\n",
    "print(b)\n",
    "print(b.ndim)\n",
    "print(b.shape)"
   ]
  },
  {
   "cell_type": "code",
   "execution_count": null,
   "metadata": {},
   "outputs": [],
   "source": [
    "b = b.reshape(3,2)\n",
    "print(b)\n",
    "print(b.ndim)\n",
    "print(b.shape)"
   ]
  },
  {
   "cell_type": "code",
   "execution_count": null,
   "metadata": {},
   "outputs": [],
   "source": [
    "c = np.array([1,2,3], ndmin = 3, dtype = complex)\n",
    "print(c)\n",
    "print(c.ndim)\n",
    "print(c.shape)\n",
    "print(c.dtype)"
   ]
  },
  {
   "cell_type": "code",
   "execution_count": null,
   "metadata": {},
   "outputs": [],
   "source": [
    "d = np.arange(24)\n",
    "print(d)\n",
    "print(d.ndim)\n",
    "e = d.reshape(2,4,3)\n",
    "print(e)\n",
    "print(e.ndim)"
   ]
  },
  {
   "cell_type": "code",
   "execution_count": null,
   "metadata": {},
   "outputs": [],
   "source": [
    "f = np.empty([3,2], dtype = int)\n",
    "g = np.zeros((2,2))\n",
    "h = np.ones(5)\n",
    "print(f)\n",
    "print(g)\n",
    "print(h)"
   ]
  },
  {
   "cell_type": "code",
   "execution_count": null,
   "metadata": {},
   "outputs": [],
   "source": [
    "i = np.asarray(range(4))\n",
    "print(i)"
   ]
  },
  {
   "cell_type": "code",
   "execution_count": null,
   "metadata": {},
   "outputs": [],
   "source": [
    "j = np.linspace(10,20,5)\n",
    "k = np.logspace(1,2,num=10)\n",
    "print(j)\n",
    "print(k)"
   ]
  },
  {
   "cell_type": "code",
   "execution_count": null,
   "metadata": {},
   "outputs": [],
   "source": [
    "l = np.arange(10)\n",
    "print(l)\n",
    "print(l[3])\n",
    "print(l[2:7])\n",
    "print(l[2:7:2])\n",
    "s = slice(2,7,2)\n",
    "print(l[s])\n",
    "l[3] = 42\n",
    "print(l)"
   ]
  },
  {
   "cell_type": "code",
   "execution_count": null,
   "metadata": {},
   "outputs": [],
   "source": [
    "m = np.array([[1,2,3],[4,5,6],[7,8,9]])\n",
    "print(m)\n",
    "print('Fila 1 à frente:\\n', m[1:]) \n",
    "print('Coluna 1 à frente:\\n', m[...,1:]) \n",
    "print('Elementos maiores de 5:\\n', m[m > 5])"
   ]
  },
  {
   "cell_type": "markdown",
   "metadata": {},
   "source": [
    "__Cuidado!__ Arrays não multiplicáveis pelas suas dimensões, produzem operações permitidas por broadcasting:"
   ]
  },
  {
   "cell_type": "code",
   "execution_count": null,
   "metadata": {},
   "outputs": [],
   "source": [
    "n = np.arange(1,5)\n",
    "m = np.arange(10,50,10)\n",
    "print(n)\n",
    "print(m)\n",
    "print(n.shape, m.shape)\n",
    "print(n * m)\n",
    "print(n + m)"
   ]
  },
  {
   "cell_type": "code",
   "execution_count": null,
   "metadata": {},
   "outputs": [],
   "source": [
    "o = np.random.rand(4,4)\n",
    "print(o)\n",
    "print(o.shape)\n",
    "p = n * o\n",
    "print(p)\n",
    "print(p.shape)"
   ]
  },
  {
   "cell_type": "code",
   "execution_count": null,
   "metadata": {},
   "outputs": [],
   "source": [
    "print(n)\n",
    "print(o)\n",
    "print(n + o)"
   ]
  },
  {
   "cell_type": "code",
   "execution_count": null,
   "metadata": {},
   "outputs": [],
   "source": [
    "q = np.arange(0,60,5).reshape(3,4)\n",
    "print(q)\n",
    "for x in np.nditer(q):\n",
    "    print(x)"
   ]
  },
  {
   "cell_type": "code",
   "execution_count": null,
   "metadata": {},
   "outputs": [],
   "source": [
    "print(q)\n",
    "print(q.flatten())\n",
    "print(q.transpose())\n",
    "print(q.T)"
   ]
  },
  {
   "cell_type": "code",
   "execution_count": null,
   "metadata": {},
   "outputs": [],
   "source": [
    "r = np.array([[1,2],[3,4]])\n",
    "s = np.array([[5,6],[7,8]])\n",
    "print(r)\n",
    "print(s)\n",
    "print('Concatenar:')\n",
    "print(np.concatenate((r,s)))\n",
    "print(np.concatenate((r,s),axis = 1))\n",
    "print('Stacking:')\n",
    "print(np.stack((r,s)))\n",
    "print(np.stack((r,s)).shape)\n",
    "print(np.stack((r,s),0))\n",
    "print(np.stack((r,s),1))\n",
    "print(np.stack((r,s),2))"
   ]
  },
  {
   "cell_type": "code",
   "execution_count": null,
   "metadata": {},
   "outputs": [],
   "source": [
    "t = np.arange(9)\n",
    "print(t)\n",
    "print(np.split(t,3))\n",
    "print(np.split(t,[4,7]))\n",
    "t = t.reshape(3,3)\n",
    "print(t)\n",
    "print(np.insert(t,2,[11,12]))\n",
    "print(np.insert(t,2,[11,12,13],axis = 0))\n",
    "print(np.insert(t,2,[11,12,13],axis = 1))\n",
    "print(np.delete(t,2))\n",
    "print(np.delete(t,2,axis = 0))\n",
    "print(np.delete(t,np.s_[::2]))"
   ]
  },
  {
   "cell_type": "markdown",
   "metadata": {},
   "source": [
    "Funções estatísticas:"
   ]
  },
  {
   "cell_type": "code",
   "execution_count": null,
   "metadata": {},
   "outputs": [],
   "source": [
    "print(s)\n",
    "print(s.max())\n",
    "print(s.min())\n",
    "print(s.ptp())    # Rango: max - min\n",
    "print(s.mean())\n",
    "print(np.mean(s))\n",
    "print(np.median(s))\n",
    "print(s.std())\n",
    "print(s.var())"
   ]
  },
  {
   "cell_type": "markdown",
   "metadata": {},
   "source": [
    "Álgebra linear, operações de matrizes:"
   ]
  },
  {
   "cell_type": "code",
   "execution_count": null,
   "metadata": {},
   "outputs": [],
   "source": [
    "import numpy.matlib\n",
    "\n",
    "print(np.matlib.empty((2,2)))\n",
    "print(type(np.matlib.empty((2,2))))\n",
    "print(np.matlib.zeros((2,2)))\n",
    "print(np.matlib.ones((2,2)))\n",
    "print(np.matlib.eye(4,4,-1))\n",
    "print(np.matlib.identity(3))\n",
    "print(np.matlib.rand(3,3))"
   ]
  },
  {
   "cell_type": "code",
   "execution_count": null,
   "metadata": {},
   "outputs": [],
   "source": [
    "u = np.matrix([[1,0],[0,1]])\n",
    "v = np.matrix([[4,1],[2,2]])\n",
    "w = np.matrix([1,2])\n",
    "print(u.shape)\n",
    "print(v.shape)\n",
    "print(w.shape)\n",
    "print(np.matmul(u,v))\n",
    "print(np.matmul(w,u))\n",
    "try:\n",
    "    print(np.matmul(u,w))\n",
    "except ValueError as e:\n",
    "    print(e)"
   ]
  },
  {
   "cell_type": "code",
   "execution_count": null,
   "metadata": {},
   "outputs": [],
   "source": [
    "print(v)\n",
    "print(np.linalg.inv(v))\n",
    "print(np.matmul(v, np.linalg.inv(v)))"
   ]
  },
  {
   "cell_type": "markdown",
   "metadata": {},
   "source": [
    "## Matplotlib"
   ]
  },
  {
   "cell_type": "markdown",
   "metadata": {},
   "source": [
    "Temos disponíveis os modos interativos no notebook e em linha."
   ]
  },
  {
   "cell_type": "code",
   "execution_count": null,
   "metadata": {},
   "outputs": [],
   "source": [
    "from matplotlib import pyplot as plt\n",
    "%matplotlib notebook\n",
    "#%matplotlib inline\n",
    "\n",
    "x = np.arange(1,11)\n",
    "y = 2 * x + 5\n",
    "plt.title('Matplotlib')\n",
    "plt.xlabel('x')\n",
    "plt.ylabel('y')\n",
    "plt.plot(x,y)\n",
    "plt.show()"
   ]
  },
  {
   "cell_type": "code",
   "execution_count": null,
   "metadata": {},
   "outputs": [],
   "source": [
    "plt.figure()    # Inicializar um novo gráfico, necessário para \"\"%matplotlib notebook\"\n",
    "\n",
    "plt.title('Matplotlib')\n",
    "plt.xlabel('x')\n",
    "plt.ylabel('y')\n",
    "plt.plot(x,y)\n",
    "plt.show()"
   ]
  },
  {
   "cell_type": "code",
   "execution_count": null,
   "metadata": {},
   "outputs": [],
   "source": [
    "plt.figure()\n",
    "\n",
    "plt.title('Matplotlib')\n",
    "plt.xlabel('y')\n",
    "plt.ylabel('x')\n",
    "plt.plot(y,x, '--y')\n",
    "plt.show()"
   ]
  },
  {
   "cell_type": "code",
   "execution_count": null,
   "metadata": {},
   "outputs": [],
   "source": [
    "x = [5,8,10]\n",
    "y = [12,16,6]\n",
    "x2 = [6,9,11]\n",
    "y2 = [6,15,7]\n",
    "\n",
    "plt.figure()\n",
    "\n",
    "plt.bar(x,y,align='center')\n",
    "plt.bar(x2,y2,color='g',align='center')\n",
    "plt.title('Gráfica barras')\n",
    "plt.ylabel('Y axis')\n",
    "plt.xlabel('X axis')\n",
    "plt.show()"
   ]
  },
  {
   "cell_type": "code",
   "execution_count": null,
   "metadata": {},
   "outputs": [],
   "source": [
    "t = np.array([22,87,5,43,56,73,55,54,11,20,51,5,79,31,27])\n",
    "\n",
    "hist,bins = np.histogram(t,bins=[0,20,40,60,80,100])\n",
    "print(hist, bins)\n",
    "\n",
    "plt.figure()\n",
    "\n",
    "plt.hist(t, bins)\n",
    "plt.title('Histograma')\n",
    "plt.show()"
   ]
  },
  {
   "cell_type": "code",
   "execution_count": null,
   "metadata": {},
   "outputs": [],
   "source": [
    "p = np.arange(0.,5.,0.2)\n",
    "\n",
    "plt.figure()\n",
    "\n",
    "plt.plot(p,p,'r--',p,p**2,'bs',p,p**3,'g^',linewidth=2.0)\n",
    "plt.show()"
   ]
  },
  {
   "cell_type": "code",
   "execution_count": null,
   "metadata": {},
   "outputs": [],
   "source": [
    "def f(t):\n",
    "    return np.exp(-t)*np.cos(2*np.pi*t)\n",
    "\n",
    "t1 = np.arange(0.,5.,0.1)\n",
    "t2 = np.arange(0.,5.,0.02)\n",
    "\n",
    "plt.figure(7)\n",
    "plt.subplot(211)\n",
    "plt.plot(t1,f(t1),'bo',t2,f(t2),'k')\n",
    "\n",
    "plt.subplot(212)\n",
    "plt.plot(t2,np.cos(2*np.pi*t2),'r--')\n",
    "plt.show()"
   ]
  },
  {
   "cell_type": "code",
   "execution_count": null,
   "metadata": {},
   "outputs": [],
   "source": [
    "plt.figure(8)\n",
    "plt.subplot(211)\n",
    "plt.plot([1,2,3])\n",
    "\n",
    "plt.figure(9)\n",
    "plt.plot([4,5,6])\n",
    "\n",
    "plt.figure(8)\n",
    "plt.subplot(212)\n",
    "plt.plot([4,5,6])"
   ]
  },
  {
   "cell_type": "code",
   "execution_count": null,
   "metadata": {},
   "outputs": [],
   "source": [
    "from mpl_toolkits.mplot3d import Axes3D\n",
    "from matplotlib import cm\n",
    "from matplotlib.ticker import LinearLocator, FormatStrFormatter\n",
    "\n",
    "fig = plt.figure()\n",
    "ax = fig.gca(projection='3d')\n",
    "\n",
    "x = np.arange(-5,5,0.25)\n",
    "y = np.arange(-5,5,0.25)\n",
    "x, y = np.meshgrid(x,y)\n",
    "z = np.sin(np.sqrt(x**2+y**2))\n",
    "\n",
    "surf = ax.plot_surface(x,y,z,cmap=cm.coolwarm,linewidth=0,\n",
    "                       antialiased=False)\n",
    "\n",
    "ax.set_zlim(-1.01,1.01)\n",
    "ax.zaxis.set_major_locator(LinearLocator(10))\n",
    "ax.zaxis.set_major_formatter(FormatStrFormatter('%.02f'))\n",
    "\n",
    "fig.colorbar(surf,shrink=0.5,aspect=5)\n",
    "\n",
    "plt.show()"
   ]
  },
  {
   "cell_type": "markdown",
   "metadata": {},
   "source": [
    "## Scikit-learn"
   ]
  },
  {
   "cell_type": "code",
   "execution_count": null,
   "metadata": {},
   "outputs": [],
   "source": [
    "from sklearn import datasets\n",
    "\n",
    "iris = datasets.load_iris()\n",
    "digits = datasets.load_digits()\n",
    "\n",
    "print(digits.data)\n",
    "print(digits.target)\n",
    "print(digits.images[0])"
   ]
  },
  {
   "cell_type": "code",
   "execution_count": null,
   "metadata": {},
   "outputs": [],
   "source": [
    "from sklearn import svm\n",
    "\n",
    "clf = svm.SVC(gamma=0.001,C=100.)\n",
    "\n",
    "clf.fit(digits.data[:-1],digits.target[:-1])\n",
    "\n",
    "plt.figure(figsize=(3,3))\n",
    "plt.imshow(digits.images[-1],cmap=plt.cm.gray_r,interpolation='nearest')\n",
    "plt.show()\n",
    "\n",
    "print(clf.predict(digits.data[-1:]))"
   ]
  },
  {
   "cell_type": "code",
   "execution_count": null,
   "metadata": {},
   "outputs": [],
   "source": [
    "import pickle\n",
    "\n",
    "s = pickle.dumps(clf)\n",
    "\n",
    "clf2 = pickle.loads(s)\n",
    "\n",
    "print(clf2.predict(digits.data[-1:]))"
   ]
  },
  {
   "cell_type": "markdown",
   "metadata": {},
   "source": [
    "## Exercícios"
   ]
  },
  {
   "cell_type": "markdown",
   "metadata": {},
   "source": [
    "### Criar um array de 3 dimensões e tamanho 2x3x4 com elementos aleatórios e imprimi-lo no ecrã"
   ]
  },
  {
   "cell_type": "code",
   "execution_count": null,
   "metadata": {},
   "outputs": [],
   "source": []
  },
  {
   "cell_type": "markdown",
   "metadata": {},
   "source": [
    "### Criar um novo array de 2 dimensões, de elementos aleatórios e tamanho 100x14, e inserir-lhe uma coluna de 1s à esquerda"
   ]
  },
  {
   "cell_type": "code",
   "execution_count": null,
   "metadata": {},
   "outputs": [],
   "source": []
  },
  {
   "cell_type": "markdown",
   "metadata": {},
   "source": [
    "### Criar um novo array de 2 dimensões, de elementos aleatórios e tamanho 1x15 e multiplicar o seu transposto pelo resultado do exercício anterior"
   ]
  },
  {
   "cell_type": "code",
   "execution_count": null,
   "metadata": {},
   "outputs": [],
   "source": []
  },
  {
   "cell_type": "markdown",
   "metadata": {},
   "source": [
    "### Representar num gráfico o resultado do exercício anterior"
   ]
  },
  {
   "cell_type": "code",
   "execution_count": null,
   "metadata": {},
   "outputs": [],
   "source": []
  }
 ],
 "metadata": {
  "environment": {
   "name": "common-cpu.m54",
   "type": "gcloud",
   "uri": "gcr.io/deeplearning-platform-release/base-cpu:m54"
  },
  "kernelspec": {
   "display_name": "Python 3",
   "language": "python",
   "name": "python3"
  },
  "language_info": {
   "codemirror_mode": {
    "name": "ipython",
    "version": 3
   },
   "file_extension": ".py",
   "mimetype": "text/x-python",
   "name": "python",
   "nbconvert_exporter": "python",
   "pygments_lexer": "ipython3",
   "version": "3.8.8"
  }
 },
 "nbformat": 4,
 "nbformat_minor": 4
}
