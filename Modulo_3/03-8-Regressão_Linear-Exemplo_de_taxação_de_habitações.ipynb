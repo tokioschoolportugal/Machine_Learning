{
 "cells": [
  {
   "cell_type": "markdown",
   "metadata": {},
   "source": [
    "# Regressão linear: Exemplo de taxação de habitações\n",
    "\n",
    "## O que vamos fazer?\n",
    "\n",
    "- Formar um modelo de regressão linear multivariável\n",
    "- Criar um dataset sintético seguindo uma estrutura de dataset real"
   ]
  },
  {
   "cell_type": "code",
   "execution_count": 2,
   "metadata": {},
   "outputs": [],
   "source": [
    "import time\n",
    "import numpy as np\n",
    "from matplotlib import pyplot as plt"
   ]
  },
  {
   "cell_type": "markdown",
   "metadata": {},
   "source": [
    "## Set de dados de taxação de habitações sintético\n",
    "\n",
    "Nesta ocasião vamos explorar como criar um dataset sintético, mas que siga a estrutura que queremos, para simular um dataset real.\n",
    "\n",
    "Neste caso, vamos utilizar um dataset imobiliário como exemplo, com o objetivo de formar um dataset imobiliário.\n",
    "\n",
    "Vamos criar um dataset com as seguintes características: \n",
    "\n",
    "Variável objetiva ou dependente\n",
    "- Preço de venda (int)\n",
    "\n",
    "Características, variáveis explicativas ou independentes:\n",
    "- Superfície útil (int)\n",
    "- Localização (int, representando a vizinhança)\n",
    "- Tipo de habitação (int representando apartamento, chalé, casa geminada, penthouse, etc)\n",
    "- Nº de divisões (int)\n",
    "- N.º de quartos de banho (int)\n",
    "- Garagem (int, 0/1 representando se tem ou não uma) \n",
    "- Superfície de áreas comuns (int)\n",
    "- Ano de construção (int)\n",
    "\n",
    "O nosso modelo tentará aproximar uma função linear multivariável que nos permite interpretar o mercado habitacional e fazer previsões sobre o preço de venda de novas habitações, com base na função linear:\n",
    "\n",
    "$Y = h_\\Theta(x) = X \\times \\Theta^T$\n",
    "Onde $h_\\Theta(x)$ é a hipótese linear."
   ]
  },
  {
   "cell_type": "markdown",
   "metadata": {},
   "source": [
    "### Criação do dataset sintético\n",
    "\n",
    "Primeiro, vamos criar um exemplo de uma casa com dados conhecidos, com os valores das suas características e o preço de venda:"
   ]
  },
  {
   "cell_type": "code",
   "execution_count": 3,
   "metadata": {},
   "outputs": [
    {
     "name": "stdout",
     "output_type": "stream",
     "text": [
      "Preço de venda da habitação: 80000\n",
      "Superfície útil: 100\n",
      "Localização: 4\n",
      "Tipo de habitação: 2\n",
      "N.º de quartos: 2\n",
      "N.º de casas de banho: 1\n",
      "Garagem (sim/não): 0\n",
      "Superfície de zonas comuns: 30\n",
      "Antiguidade: 10\n"
     ]
    }
   ],
   "source": [
    "x_ej1 = np.asarray([100, 4, 2, 2, 1, 0, 30, 10]) \n",
    "y_ej1 = np.asarray([80000])\n",
    "\n",
    "print('Preço de venda da habitação:', y_ej1[0]) \n",
    "print('Superfície útil:', x_ej1[0]) \n",
    "print('Localização:', x_ej1[1])\n",
    "print('Tipo de habitação:', x_ej1[2]) \n",
    "print('N.º de quartos:', x_ej1[3]) \n",
    "print('N.º de casas de banho:', x_ej1[4]) \n",
    "print('Garagem (sim/não):', x_ej1[5])\n",
    "print('Superfície de zonas comuns:', x_ej1[6])\n",
    "print('Antiguidade:', x_ej1[7])"
   ]
  },
  {
   "cell_type": "markdown",
   "metadata": {},
   "source": [
    "Desta forma, podemos criar novos exemplos com os valores que desejamos, como desejamos. \n",
    "\n",
    "Modificar os valores da habitação anterior para gerar outras habitações manualmente.\n",
    "\n",
    "Da mesma forma que criámos um exemplo de casa manualmente, vamos criar múltiplos exemplos aleatórios \n",
    "automaticamente:\n",
    "\n",
    "Nota: Por uma questão de simplicidade ao gerar números aleatórios com código, utilizamos float em vez de int nas mesmas gamas lógicas para as características das habitações."
   ]
  },
  {
   "cell_type": "code",
   "execution_count": 6,
   "metadata": {},
   "outputs": [
    {
     "name": "stdout",
     "output_type": "stream",
     "text": [
      "Primeiros 10 exemplos de X:\n",
      "[[0.37690517 0.60233122 0.48426421 0.32070805 0.7543396  0.78871677\n",
      "  0.93948556 0.65803187]\n",
      " [0.1675403  0.89531427 0.96192597 0.34025859 0.74110481 0.74284175\n",
      "  0.6636341  0.07619775]\n",
      " [0.07549999 0.8606109  0.24502205 0.34322255 0.24601274 0.65605788\n",
      "  0.27835417 0.63261552]\n",
      " [0.42254652 0.66055956 0.88394942 0.59032014 0.69405834 0.79315045\n",
      "  0.4907168  0.71152748]\n",
      " [0.6265914  0.03738934 0.86419462 0.9669103  0.52453549 0.53028953\n",
      "  0.98645771 0.93752546]\n",
      " [0.43331271 0.41518423 0.15036807 0.30312812 0.66694144 0.23422889\n",
      "  0.62992327 0.87895343]\n",
      " [0.1155821  0.1289977  0.65895722 0.54897135 0.30639528 0.36666834\n",
      "  0.14913157 0.32360678]\n",
      " [0.36499305 0.96440025 0.39825234 0.64280112 0.84536415 0.14721599\n",
      "  0.25439603 0.01548675]\n",
      " [0.92601011 0.72181151 0.71321712 0.70776589 0.96182293 0.56677957\n",
      "  0.44842234 0.76845757]\n",
      " [0.22944147 0.32835475 0.43153601 0.45764245 0.39211321 0.87636688\n",
      "  0.84659072 0.09856484]]\n",
      "Tamanho da matriz de exemplos:\n",
      "(100, 8)\n"
     ]
    }
   ],
   "source": [
    "m = 100          # nº de exemplos de habitações\n",
    "n = len(x_ej1)   # nº de características de cada casa\n",
    "\n",
    "X = np.random.rand(m, n)\n",
    "\n",
    "print('Primeiros 10 exemplos de X:') \n",
    "print(X[:10,:])\n",
    "print('Tamanho da matriz de exemplos:') \n",
    "print(X.shape)"
   ]
  },
  {
   "cell_type": "markdown",
   "metadata": {},
   "source": [
    "**Como podemos criar o vetor Y dos preços de venda do nosso conjunto de dados sintéticos, para que este siga a relação linear que queremos aproximar?**\n",
    "\n",
    "Para o fazer, devemos partir de um Theta_verd, como em exercícios anteriores.\n",
    "\n",
    "Por vezes, o problema é obter um Y no intervalo que desejamos, modificando cada valor do Theta_verd, o que pode ser bastante enfadonho.\n",
    "\n",
    "Em outros casos, uma alternativa seria criar X e Y manualmente, e depois calcular o Theta_verd correspondente a essas matrizes.\n",
    "\n",
    "Neste caso, iremos criar Theta_verd à mão para que possamos interpretar os seus valores:"
   ]
  },
  {
   "cell_type": "code",
   "execution_count": null,
   "metadata": {},
   "outputs": [],
   "source": [
    "x  = X[0,:]\n",
    "\n",
    "print('Ex. de habit. com características aleatórias:') \n",
    "print(x)\n",
    "\n",
    "Theta_verd = np.asarray([1000.,-500,10000,5000,2500,6000,50,-1500])\n",
    "\n",
    "print('\\nEx. de pesos de características criados manualmente:') \n",
    "print(Theta_verd)\n",
    "\n",
    "print('\\nO preço de venda de uma hab. é determinado pelas suas características::') \n",
    "print('Por cada m2 de superfície útil:', Theta_verd[0])\n",
    "print('Por cada km de distância ao centro:', Theta_verd[1]) \n",
    "print('Segundo o tipo de habitação:', Theta_verd[2]) \n",
    "print('Segundo o nº de habitações:', Theta_verd[3]) \n",
    "print('Segundo o nº de casas de banho:', Theta_verd[4]) \n",
    "print('Segundo se tem garagem:', Theta_verd[5])\n",
    "print('Por cada m2 de superfície de zonas comuns:', Theta_verd[6]) \n",
    "print('Por cada ano de antiguidade:', Theta_verd[7])"
   ]
  },
  {
   "cell_type": "markdown",
   "metadata": {},
   "source": [
    "Cada um destes pesos irá multiplicar a sua característica correspondente, somando o restante ao preço total da casa.\n",
    "\n",
    "No entanto, o nosso set de dados sintético e ideal falta um termo muito importante, o bias ou intercept: O bias é o termo b de qualquer reta $y = m * x \\times b$, e o que representa a soma de todas as constantes que afetam o nosso modelo ou o preço base, antes de ver-se modificado pelo resto de características.\n",
    "\n",
    "Este bias é muito importante porque um modelo não deve apenas poder aproximar pesos ou coeficientes que multipliquem as características dadas, mas também a valores constantes que não dependam das características concretas de cada exemplo.\n",
    "\n",
    "Ou o que é o mesmo: preço = coeficientes * características + bias.\n",
    "\n",
    "P. ex., no caso de habitações, seria o preço de partida de todas as habitações, se o tiver, independentemente das suas características, as quais somam ou restam a partir do mesmo. No caso de um estúdio sem quartos independentes, WC partilhado, sem garagem, etc., etc., onde todas as suas características foram 0, nos iria permitir determinar o seu preço de venda, que não seria de 0 € seguramente.\n",
    "\n",
    "Adicionamos a theta_verd um bias ou preço de partida de"
   ]
  },
  {
   "cell_type": "code",
   "execution_count": null,
   "metadata": {},
   "outputs": [],
   "source": [
    "# Cuidado! Ao que executamos esta célula estamos a adicionar uma coluna\n",
    "# de 1s a Theta_verd e X, pelo que apenas devemos executá-la uma vez\n",
    "\n",
    "Theta_verd = np.insert(Theta_verd, 0, 25000)   # 25 000 € de preço de partida = theta[0]\n",
    "X = np.insert(X, 0, np.ones(m), axis=1)\n",
    "\n",
    "\n",
    "print('Theta verdadeiro e 10 primeiros exemplos (filas) de X:')\n",
    "print(Theta_verd) \n",
    "print(X[:10,:])\n",
    "print('Tamanhos de X e Tetha verdadeiro:') \n",
    "print(X.shape)"
   ]
  },
  {
   "cell_type": "markdown",
   "metadata": {},
   "source": [
    "Contando com esse Theta_verd, podemos estabelecer o vetor Y dos preços de venda para os nossos exemplos:"
   ]
  },
  {
   "cell_type": "code",
   "execution_count": null,
   "metadata": {},
   "outputs": [],
   "source": [
    "# TODO: Modificar o seguinte código para adicionar um termo de erro aleatório a Y\n",
    "\n",
    "error = 0.1\n",
    "\n",
    "Y = np.matmul(X, Theta_verd)\n",
    "\n",
    "print('Preços de venda:') \n",
    "print(Y)\n",
    "print(Y.shape)"
   ]
  },
  {
   "cell_type": "markdown",
   "metadata": {},
   "source": [
    "*Nota*: Como não foram finalmente utilizados valores int, os preços de venda são também valores float"
   ]
  },
  {
   "cell_type": "markdown",
   "metadata": {},
   "source": [
    "## Formação do modelo\n",
    "\n",
    "Assim que o nosso conjunto de dados de formação estiver pronto, vamos formar o modelo de regressão linear.\n",
    "\n",
    "Para tal, copiar as células correspondentes dos últimos exercícios para formar o modelo com estes dados e avaliar o seu comportamento:"
   ]
  },
  {
   "cell_type": "code",
   "execution_count": 9,
   "metadata": {},
   "outputs": [],
   "source": [
    "# TODO: Copiar as células correspondentes para treinar um modelo de regressão linear e avaliar a sua formação.\n"
   ]
  },
  {
   "cell_type": "markdown",
   "metadata": {},
   "source": [
    "## Previsões \n",
    "\n",
    "Assim, se criarmos manualmente uma nova casa de exemplo com características aleatórias, podemos fazer uma previsão sobre o seu preço de venda:"
   ]
  },
  {
   "cell_type": "code",
   "execution_count": null,
   "metadata": {},
   "outputs": [],
   "source": [
    "# TODO: Criar uma nova casa com características aleatórias e calcula o Y previsto\n",
    "# Recordar adicionar a X um termo de bias\n",
    "x_pred = [...]\n",
    "\n",
    "y_pred = np.matmul(x_pred, theta)\n",
    "\n",
    "print('Ej. de casa aleatório') \n",
    "print(x_pred)\n",
    "\n",
    "print('Preço previsto para essas habitações:')\n",
    "print(y_pred)"
   ]
  },
  {
   "cell_type": "markdown",
   "metadata": {},
   "source": [
    "E o nosso dataset sintético original? Que preço de venda teria? E que resíduos teria o nosso modelo sobre eles?"
   ]
  },
  {
   "cell_type": "code",
   "execution_count": null,
   "metadata": {},
   "outputs": [],
   "source": [
    "# TODO: Calcular e representar graficamente os resíduos do modelo\n",
    "\n",
    "Y_pred = [...]\n",
    "\n",
    "resíduos = [...] \n",
    "\n",
    "plt.figure()\n",
    "\n",
    "# Dar um título à gráfica e etiquetas aos seus eixos\n",
    "\n",
    "plt.show()"
   ]
  }
 ],
 "metadata": {
  "environment": {
   "name": "common-cpu.m54",
   "type": "gcloud",
   "uri": "gcr.io/deeplearning-platform-release/base-cpu:m54"
  },
  "kernelspec": {
   "display_name": "Python 3",
   "language": "python",
   "name": "python3"
  },
  "language_info": {
   "codemirror_mode": {
    "name": "ipython",
    "version": 3
   },
   "file_extension": ".py",
   "mimetype": "text/x-python",
   "name": "python",
   "nbconvert_exporter": "python",
   "pygments_lexer": "ipython3",
   "version": "3.8.8"
  }
 },
 "nbformat": 4,
 "nbformat_minor": 4
}
