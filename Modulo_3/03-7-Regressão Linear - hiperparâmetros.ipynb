{
 "cells": [
  {
   "cell_type": "markdown",
   "metadata": {},
   "source": [
    "# Regressão linear: Hiper-parâmetros da formação\n",
    "\n",
    "O que vamos fazer?\n",
    "\n",
    "- Comprovar o efeito dos diferentes hiper-parâmetros na formação de um modelo\n",
    "\n",
    "## Efeito dos hiper-parâmetros\n",
    "\n",
    "Neste laboratório não vamos introduzir nenhum conceito novo, nem implementar nenhum código que não tenhamos implementado \n",
    "noutros exercícios prévios.\n",
    "\n",
    "O objetivo deste exercício é ter a oportunidade de comprovar como diferentes hiper-parâmetros e outras configurações afetam o nosso processo de formação.\n",
    "\n",
    "Para isso, basta copiar as suas células de código do exercício anterior (“regressão linear: Exemplo sobre dataset sintético”), vai modificar muitas vezes os hiper-parâmetros utilizados e comprovar o seu efeito sobre a formação, bem como validar novamente a sua implementação, que irá usar em múltiplos exercícios posteriores.\n",
    "\n",
    "Por certo, conhece já as hotkeys de JupyterLab? Irão ser muito úteis durante o curso: https://coderefinery.github.io/jupyter/02-interface/#keyboard-shortcuts"
   ]
  },
  {
   "cell_type": "code",
   "execution_count": 1,
   "metadata": {},
   "outputs": [],
   "source": [
    "import time\n",
    "import numpy as np\n",
    "from matplotlib import pyplot as plt"
   ]
  },
  {
   "cell_type": "markdown",
   "metadata": {},
   "source": [
    "## Criação do dataset sintético\n",
    "\n",
    "Copiar a célula do exercício anterior para criar um dataset sintético, com termo de bias e de erro. Dar um valor ao termo de erro distinto a 0."
   ]
  },
  {
   "cell_type": "code",
   "execution_count": 1,
   "metadata": {},
   "outputs": [],
   "source": [
    "# TODO: Copiar aqui o código da célula correspondente, ou copiar a célula completa e eliminar esta."
   ]
  },
  {
   "cell_type": "markdown",
   "metadata": {},
   "source": [
    "## Formação do modelo\n",
    "\n",
    "Copiar a célula com as funções de custo e o gradient descent e a célula que forma o modelo por gradient descent."
   ]
  },
  {
   "cell_type": "markdown",
   "metadata": {},
   "source": [
    "## Comprovar a formação do modelo\n",
    "\n",
    "Copiar a célula que representa graficamente o histórico da função de custo do seu modelo."
   ]
  },
  {
   "cell_type": "markdown",
   "metadata": {},
   "source": [
    "## Avaliação do modelo\n",
    "\n",
    "Copiar a célula que calcula e representa graficamente os resíduos do seu modelo.\n",
    "\n",
    "Adicionar a essa célula o cálculo do Y previsto (Y_pred) da célula anterior, já que sem essa variável o seu código não irá \n",
    "funcionar corretamente"
   ]
  },
  {
   "cell_type": "markdown",
   "metadata": {},
   "source": [
    "## Modificar os hiper-parâmetros e comprovar o seu efeito.\n",
    "\n",
    "Agora proceder à modificação a cada um dos diferentes hiper-parâmetros e como um conjunto e comprovar o seu efeito. Os \n",
    "hiper-parâmetros de formação e outros parâmetros de configuração que vamos modificar são os seguintes:\n",
    "1. m e n\n",
    "1. Termo de erro do dataset, erro\n",
    "1. Ratio de formação, alfa\n",
    "1. Parâmetro de convergência, e\n",
    "1. Número máximo de iterações\n",
    "\n",
    "Queremos que nesta tarefa seja o mais autónomo possível, que dedique este tempo para poder experimentar, descobrir por si próprio o comportamento desses parâmetros, para aprender a modificá-los no futuro, quando precisarmos de os modificar para otimizar a formação de modelos mais complexos.\n",
    "\n",
    "Então, porque não aproveitar para desfrutar e descobrir por si próprio o que pode acontecer quando os modificamos, tanto \n",
    "individualmente como um conjunto?\n",
    "\n",
    "Quando estiver pronto para continuar, pode passar para a secção final"
   ]
  },
  {
   "cell_type": "markdown",
   "metadata": {},
   "source": [
    "## Modificação dos hiper-parâmetros: perguntas e conclusões\n",
    "\n",
    "Como objetivo de avaliação do exercício, vamos incluir algumas perguntas simples para que possa responder em função das suas \n",
    "apreciações no ponto anterior. Pode modificar esta célula de markdown e adicionar as suas respostas às mesmas.\n",
    "\n",
    "1. O que acontece quando aumentamos o número de exemplos?\n",
    "1. Como é que isso afeta o tempo de formação?\n",
    "1. Como é que afeta a precisão ou o custo final do modelo?\n",
    "1. O que acontece quando aumentamos o número de características? Como afeta o tempo de formação e a precisão do modelo?\n",
    "1. Como é que o termo de erro afeta a sua formação? A sua precisão, o número de iterações até convergir...\n",
    "1. Como o número máximo de iterações afeta a formação? Tem alguma coisa a ver com o tempo de formação, precisão final, etc.?\n",
    "1. Existe um limite para o número máximo de iterações? Podemos aumentar este número até ao infinito para conseguir, por exemplo,melhorar a precisão?\n",
    "1. O número máximo de iterações e o parâmetro de convergência da formação estão relacionados?\n",
    "1. O parâmetro de convergência e o custo final do modelo estão relacionados?\n",
    "1. Como é que o ratio de formação afeta o modelo? Será que afeta a sua velocidade, a sua precisão?\n",
    "1. Podemos aumentar a taxa de formação para o infinito? Há algum limite para além do qual deixe de funcionar, tanto em valor máximo como mínimo?\n",
    "\n",
    "Curiosidades: vamos testar o seu ambiente de trabalho atual. Irá dar-nos uma ideia do seu poder, mas também uma referência \n",
    "para si, para o recordar no futuro e para conhecer os seus limites:\n",
    "1. Qual é o número máximo de exemplos e características que os seus recursos do seu ambiente de trabalho atual admitem? Fazer vários testes, e quando alcançar o limite das características, modificar o número de exemplos. Tirar cerca de 3 pontos de combinações de ambos os valores acima dos quais o seu ambiente lhe irá dar um erro de recurso.\n",
    "\n",
    "\n",
    "1. Ter uma ideia do tempo de formação necessário para um modelo típico no seu ambiente para um algoritmo básico, tal como a regressão linear. Com um termo de erro de 15%, um limite de iterações, ratio de aprendizagem e um parâmetro de convergência suficiente, anotar o tempo que demora o seu equipamento a formar o modelo. Tentar vários valores para o número de exemplos e características, por exemplo, tamanho do dataset “pequeno”, “médio” e “grande”.\n",
    "\n",
    "\n",
    "Por último, há alguma conclusão adicional que tenha descoberto e que não esteja incluída nas perguntas anteriores? Aguardamos com expetativa a sua resposta!"
   ]
  }
 ],
 "metadata": {
  "environment": {
   "name": "common-cpu.m54",
   "type": "gcloud",
   "uri": "gcr.io/deeplearning-platform-release/base-cpu:m54"
  },
  "kernelspec": {
   "display_name": "Python 3",
   "language": "python",
   "name": "python3"
  },
  "language_info": {
   "codemirror_mode": {
    "name": "ipython",
    "version": 3
   },
   "file_extension": ".py",
   "mimetype": "text/x-python",
   "name": "python",
   "nbconvert_exporter": "python",
   "pygments_lexer": "ipython3",
   "version": "3.8.8"
  }
 },
 "nbformat": 4,
 "nbformat_minor": 4
}
