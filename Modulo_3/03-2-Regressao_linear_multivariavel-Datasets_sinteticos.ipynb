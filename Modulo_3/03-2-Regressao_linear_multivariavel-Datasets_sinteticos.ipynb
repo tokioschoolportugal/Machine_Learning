{
 "cells": [
  {
   "cell_type": "markdown",
   "metadata": {},
   "source": [
    "# Regressão linear multivariável: Datasets sintéticos"
   ]
  },
  {
   "cell_type": "markdown",
   "metadata": {},
   "source": [
    "## O que vamos fazer?\n",
    "- Criar um dataset sintético (artificial) com Numpy\n",
    "- Criar um dataset sintético com um termo de erro aleatório\n",
    "- Criar um dataset sintético com parâmetros não considerados\n",
    "- Criar um dataset sintético usando Scikit-learn"
   ]
  },
  {
   "cell_type": "code",
   "execution_count": null,
   "metadata": {},
   "outputs": [],
   "source": [
    "import numpy as np\n",
    "\n",
    "from matplotlib import pyplot as plt"
   ]
  },
  {
   "cell_type": "markdown",
   "metadata": {},
   "source": [
    "Um dataset sintético é um exemplo de dataset criado artificialmente. Estes dataset são muito úteis para comprovar algoritmos e a nossa implementação, pois podemos controlar as características do dataset em todo o momento.\n",
    "\n",
    "Da mesma forma, uma vez que a influência do dataset de formação e a sua limpeza, pré-processamento, etc., são fundamentais para a formação de modelos ML, quando vamos fazer uma implementação pela primeira vez não seria difícil encontrar múltiplos datasets com características controladas e, em particular, estar seguro se possíveis erros na formação são causados pela nossa implementação ou pelos dados de origem.\n",
    "\n",
    "Completar o código nas células seguintes de acordo com as instruções para criar os diferentes dataset sintéticos."
   ]
  },
  {
   "cell_type": "markdown",
   "metadata": {},
   "source": [
    "## Tarefa 1: criar um dataset sistético com Numpy\n",
    "\n",
    "Para esta tarefa vamos criar um dataset sintético usando as funções Numpy. Com este método, podemos controlar completamente as \n",
    "características do dataset.\n",
    "\n",
    "Recordar a equação de regressão linear múltipla e as dimensões dos vetores:\n",
    "\n",
    "$Y = X \\times \\Theta^T$\n",
    "\n",
    "m = nº de exemplos\n",
    "\n",
    "n = número de características/coeficientes\n",
    "\n",
    "$Y_{m \\times 1}$\n",
    "\n",
    "$X_{m \\times n}$\n",
    "\n",
    "$\\Theta_{1 \\times n}$: Pode transpor $\\Theta$ ou implementar como um vetor coluna."
   ]
  },
  {
   "cell_type": "code",
   "execution_count": null,
   "metadata": {},
   "outputs": [],
   "source": [
    "# TODO: Criar as seguintes matrizes que definem o dataset original\n",
    "\n",
    "# Escolher alguns valores de m e n (tipo: int)\n",
    "m = 0\n",
    "n = 0\n",
    "\n",
    "# X é um array 2D m x n de números aleatórios entre -100 e 100.\n",
    "# Usar funções Numpy para gerar um array m x n de números aleatórios entre [0, 1)\n",
    "# Número aleatório no intervalo [a, b): ndarray * (b - a) + a, onde a = -100 e b = 100\n",
    "X = [...]\n",
    "\n",
    "# Inserir o termo bias b ou X0 para paralelizar a equação.\n",
    "# Inserir uma coluna de 1. (float) à esquerda de X com a função inserir np.insert() do Numpy\n",
    "X = X\n",
    "\n",
    "# Theta é um array 1D 1 x n que também podemos implementar como n x 1 (coluna ou linha)\n",
    "# gerar com n + 1 elementos aleatórios [0, 1) para adicionar o termo bias\n",
    "Theta = [...]\n",
    "\n",
    "# Computar Y multiplicando os vetores X e Theta com np.matmul()\n",
    "Y = [...]\n",
    "\n",
    "# Verificar os valores e dimensões (forma o \"shape\") das matrizes com a propriedade ndarray.shape\n",
    "print('Theta a estimar') \n",
    "print()\n",
    "print()\n",
    "\n",
    "print('Primeiras 10 filas e 5 colunas de X e Y:') \n",
    "print()\n",
    "print()\n",
    "\n",
    "print('Dimensões de X e Y:') \n",
    "print('shape', 'shape')"
   ]
  },
  {
   "cell_type": "code",
   "execution_count": null,
   "metadata": {},
   "outputs": [],
   "source": [
    "# TODO: Representar X vs Y num gráfico de pontos Matplotlib\n",
    "# A partir de agora, tentar usar etiquetas para os eixos e um título do gráfico.\n",
    "\n",
    "plt.figure()\n",
    "\n",
    "# O seu código aqui\n",
    "\n",
    "plt.show()"
   ]
  },
  {
   "cell_type": "markdown",
   "metadata": {},
   "source": [
    "Uma vez implementado corretamente, porque não varia os termos m e n e comprova que pode criar arrays de várias dimensões?"
   ]
  },
  {
   "cell_type": "markdown",
   "metadata": {},
   "source": [
    "## Tarefa 2: Criar um dataset sintético com um termo de error aleatório\n",
    "\n",
    "Agora vamos repetir os passos do ponto anterior, mas acrescentando um termo de erro aleatório a Y, para fazer um dataset com dados não tão precisos, mas semelhantes a uma situação real, podendo controlar este erro."
   ]
  },
  {
   "cell_type": "code",
   "execution_count": null,
   "metadata": {},
   "outputs": [],
   "source": [
    "# TODO: Criar as seguintes matrizes que definem o dataset original com um termo de erro aleatório\n",
    "\n",
    "# Escolher alguns valores de m e n (tipo: int)\n",
    "m = 0\n",
    "n = 0\n",
    "\n",
    "# X é um array 2D m x n de números aleatórios entre -100 e 100.\n",
    "# Usar funções Numpy para gerar um array m x n de números aleatórios entre [0, 1)\n",
    "# Número aleatório no intervalo [a, b): ndarray * (b - a) + a, onde a = -100 e b = 100\n",
    "X = [...]\n",
    "\n",
    "# Inserir o termo bias b ou X0 para paralelizar a equação.\n",
    "# Inserir uma coluna de 1. (float) à esquerda de X com a função inserir np.insert() do Numpy\n",
    "X = X\n",
    "\n",
    "# Theta é um array 1D 1 x n que também podemos implementar como n x 1 (coluna ou linha)\n",
    "# Gerar com n + 1 elementos aleatórios [0, 1) para adicionar o termo bias\n",
    "Theta = [...]\n",
    "\n",
    "# Computar Y multiplicando os vetores X e Theta com np.matmul()\n",
    "Y = [...]\n",
    "\n",
    "# A partir daqui, adicionamos o termo de erro e em percentagem (0,1 = 10%, 0,25 = 25%, etc.).\n",
    "e = 0.1\n",
    "\n",
    "# Na linha seguinte, substituir “termino_error” por um termo que represente um número aleatório no ran\n",
    "# Assim, o termo de erro será uma percentagem de +/- o termo de erro sobre o valor Y original.\n",
    "Y_final = Y + Y * termino_error\n",
    "\n",
    "# Verificar os valores e dimensões (forma o \"shape\") das matrizes com a propriedade ndarray.shape\n",
    "print('Theta a estimar') \n",
    "print()\n",
    "print()\n",
    "\n",
    "print('Primeiras 10 filas e 5 colunas de X e Y:') \n",
    "print()\n",
    "print()\n",
    "\n",
    "print('Dimensões de X e Y:') \n",
    "print('shape', 'shape')"
   ]
  },
  {
   "cell_type": "markdown",
   "metadata": {},
   "source": [
    "Variar o termo de erro para verificar o seu efeito no Y_final."
   ]
  },
  {
   "cell_type": "markdown",
   "metadata": {},
   "source": [
    "*Atreve-se a representar graficamente Y vs X e Y_final vs X para apreciar o termo de erro?*"
   ]
  },
  {
   "cell_type": "code",
   "execution_count": null,
   "metadata": {},
   "outputs": [],
   "source": [
    "# TODO: Representar X vs Y e X vs Y_final num gráfico de pontos Matplotlib\n",
    "\n",
    "plt.figure()\n",
    "\n",
    "# O seu código aqui\n",
    "\n",
    "plt.show()"
   ]
  },
  {
   "cell_type": "markdown",
   "metadata": {},
   "source": [
    "## Tarefa 3: Criar um dataset sintético com parâmetros não considerados\n",
    "\n",
    "Por vezes, com datasets da vida real, acontece que a nossa variável Y é influenciada por múltiplas características, das quais podemos nãoconsiderar todas. Imagine, por exemplo, uma avaliação de casas, mas com algumas características que os clientes têm em consideração, mas não as temos disponíveis no nosso dataset de formação. Por exemplo, a proximidade da paragem mais próxima do metro, autocarro ou comboio urbano, a hora da saída da autoestrada mais próxima, a modernidade do bairro ou a diferença nos impostos municipais em comparação com outros municípios próximos.\n",
    "\n",
    "Nesses casos, queremos comparar a nossa implementação ou os nossos modelos com modelos que têm em conta mais ou menos \n",
    "as características que efetivamente afetam a variável Y.\n",
    "\n",
    "Portanto, um dataset sintético muito útil nestas ocasiões seria aquele que é dado por múltiplas características (múltiplas colunas de X), mas cujas colunas são finalmente reduzidas a um número menor quando se forma o nosso modelo."
   ]
  },
  {
   "cell_type": "code",
   "execution_count": null,
   "metadata": {},
   "outputs": [],
   "source": [
    "# TODO: Criar as seguintes matrizes que definem o dataset original com um termo de erro aleatório\n",
    "\n",
    "# Escolher alguns valores de m e n (tipo: int)\n",
    "m = 0\n",
    "n = 0\n",
    "\n",
    "# X é um array 2D m x n de números aleatórios entre -100 e 100.\n",
    "# Usar funções Numpy para gerar um array m x n de números aleatórios entre [0, 1)\n",
    "# Número aleatório no intervalo [a, b): ndarray * (b - a) + a, onde a = -100 e b = 100\n",
    "X = [...]\n",
    "\n",
    "# Inserir o termo bias b ou X0 para paralelizar a equação.\n",
    "# Inserir uma coluna de 1. (float) à esquerda de X com a função inserir np.insert() do Numpy\n",
    "X = X\n",
    "\n",
    "# Theta é um array 1D 1 x n que também podemos implementar como n x 1 (coluna ou linha)\n",
    "# Gerar com n + 1 elementos aleatórios [0, 1) para adicionar o termo bias\n",
    "Theta = [...]\n",
    "\n",
    "# Computar Y multiplicando os vetores X e Theta com np.matmul()\n",
    "Y = [...]\n",
    "\n",
    "# A partir daqui, adicionamos o termo de erro e em percentagem (0,1 = 10%, 0,25 = 25%, etc.).\n",
    "e = 0.1\n",
    "\n",
    "# Na linha seguinte, substituir “termino_error” por um termo que represente um número aleatório no ran\n",
    "# Assim, o termo de erro será uma percentagem de +/- o termo de erro sobre o valor Y original.\n",
    "Y = Y + Y * termino_error\n",
    "\n",
    "# Finalmente, restringir o número de colunas X e valores Theta a serem considerados apenas aos primeiros n_final.\n",
    "# Pode usar os slices Numpy/Python para isso\n",
    "n_final\n",
    "\n",
    "Y_final = [Y] \n",
    "X_final = [X]\n",
    "\n",
    "# Verificar os valores e dimensões (forma o \"shape\") das matrizes com a propriedade ndarray.shape\n",
    "print('Theta a estimar') \n",
    "print()\n",
    "print()\n",
    "\n",
    "print('Primeiras 10 filas e 5 colunas de X e Y:') \n",
    "print()\n",
    "print()\n",
    "\n",
    "print('Dimensões de X e Y:')\n",
    "print('shape', 'shape')"
   ]
  },
  {
   "cell_type": "markdown",
   "metadata": {},
   "source": [
    "## Tarefa 4: Criar um dataset sintético com Scikit-learn\n",
    "\n",
    "Scikit-learn vem com vários módulos para disponibilizar datasets para desenvolvimento ou avaliação. Normalmente utilizamos datasets gerados sinteticamente para desenvolvimento, e utilizamos alguns dos conjuntos de dados mais comuns para avaliar e comparar diferentes algoritmos e implementações, como veremos durante o curso.\n",
    "\n",
    "As ferramentas para carregar e gerar datasets podem ser encontradas na documentação: https://scikit-learn.org/stable/datasets.html\n",
    "\n",
    "Recordar que, habitualmente, cada página da documentação inclui vários notebooks com exemplos do seu uso.\n",
    "\n",
    "Rever a documentação em detalhe, posto que estas funções as poderá utilizar durante o curso para qualquer dataset que \n",
    "necessite descarregar ou gerar sinteticamente."
   ]
  },
  {
   "cell_type": "code",
   "execution_count": null,
   "metadata": {},
   "outputs": [],
   "source": [
    "# TODO: Utilizar as funções Scikit-learn para gerar um conjunto de dados sintéticos concebido para resolver um problema.\n",
    "# Escolher a função certa para o mesmo\n",
    "\n",
    "# Importar o módulo correspondente\n",
    "from sklearn import [...]\n",
    "\n",
    "# Gerar o dataset com a função correspondente\n",
    "X, Y = [...]\n",
    "\n",
    "# Obter Theta ou coeficientes utilizados para gerar o dataset\n",
    "Theta = [...]\n",
    "\n",
    "# Verificar os valores e dimensões (forma o \"shape\") das matrizes com a propriedade ndarray.shape\n",
    "print('Theta a estimar') \n",
    "print()\n",
    "print()\n",
    "\n",
    "print('Primeiras 10 filas e 5 colunas de X e Y:') \n",
    "print()\n",
    "print()\n",
    "\n",
    "print('Dimensões de X e Y:')\n",
    "print('shape', 'shape')"
   ]
  },
  {
   "cell_type": "markdown",
   "metadata": {},
   "source": [
    "*O que terá o m e n desse dataset?*"
   ]
  },
  {
   "cell_type": "code",
   "execution_count": null,
   "metadata": {},
   "outputs": [],
   "source": [
    "# TODO: Averiguar o m e n deste dataset\n",
    "m = [...]\n",
    "n = [...]"
   ]
  },
  {
   "cell_type": "code",
   "execution_count": null,
   "metadata": {},
   "outputs": [],
   "source": [
    "# TODO: Repetir os passos na célula anterior para descarregar um pequeno dataset de amostra ou “toy” concebido para\n",
    "# Escolher um dos datasets corretos para este fim.\n",
    "\n",
    "# Importar o módulo correspondente\n",
    "from sklearn import [...]\n",
    "\n",
    "# Gerar o dataset com a função correspondente\n",
    "X, Y = [...]\n",
    "\n",
    "# Obter Theta ou coeficientes utilizados para gerar o dataset\n",
    "Theta = [...]\n",
    "\n",
    "# Verificar os valores e dimensões (forma o \"shape\") das matrizes com a propriedade ndarray.shape\n",
    "print('Theta a estimar') \n",
    "print()\n",
    "print()\n",
    "\n",
    "print('Primeiras 10 filas e 5 colunas de X e Y:') \n",
    "print()\n",
    "print()\n",
    "\n",
    "print('Dimensões de X e Y:') \n",
    "print('shape', 'shape')"
   ]
  }
 ],
 "metadata": {
  "environment": {
   "name": "common-cpu.m54",
   "type": "gcloud",
   "uri": "gcr.io/deeplearning-platform-release/base-cpu:m54"
  },
  "kernelspec": {
   "display_name": "Python 3",
   "language": "python",
   "name": "python3"
  },
  "language_info": {
   "codemirror_mode": {
    "name": "ipython",
    "version": 3
   },
   "file_extension": ".py",
   "mimetype": "text/x-python",
   "name": "python",
   "nbconvert_exporter": "python",
   "pygments_lexer": "ipython3",
   "version": "3.8.8"
  }
 },
 "nbformat": 4,
 "nbformat_minor": 4
}
