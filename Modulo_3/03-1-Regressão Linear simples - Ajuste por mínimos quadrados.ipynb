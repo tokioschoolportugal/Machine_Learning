{
 "cells": [
  {
   "cell_type": "markdown",
   "metadata": {},
   "source": [
    "# Regressão linear simples: ajuste por mínimos quadrados"
   ]
  },
  {
   "cell_type": "markdown",
   "metadata": {},
   "source": [
    "## O que vamos fazer?\n",
    "- Importar datasets no ambiente de trabalho\n",
    "- Ajustar uma regressão linear simples por mínimos quadrados manualmente\n",
    "- Resolver essa regressão usando funções matemáticas de Numpy \n",
    "- Visualizar a regressão com o Matplotlib"
   ]
  },
  {
   "cell_type": "markdown",
   "metadata": {},
   "source": [
    "## Tarefa 1: Importar datasets"
   ]
  },
  {
   "cell_type": "markdown",
   "metadata": {},
   "source": [
    "Para este exercício deve importar os seguintes datasets para o ambiente local, usados num exercício anterior e disponíveis nessa unidade:\n",
    "- módulo1-unidade1-exercício1-dataset-tarefa2.csv\n",
    "-  módulo1-unidade1-exercício1-dataset-tarefa3.csv\n",
    "\n",
    "Em função do seu ambiente, terá de seguir passos diferentes para os importar. Pode importá-los tanto no Google Colab como no VM, usando a interface de JupyterLab ou as funcionalidades do seu VM. Como os ambientes são tão diferentes, não incluímos instruções passo a passo para isso, mas não deve ter dificuldade nenhuma para o fazer :).\n",
    "\n",
    "Deve aproveitar este tempo para se familiarizar com o seu ambiente de trabalho e descobrir as opções para importar datasets locais.\n",
    "\n",
    "**Nota:** Assegurar-se de que os importa ou que os move posteriormente para o diretório de soluções, na pasta para esta unidade/sessão"
   ]
  },
  {
   "cell_type": "markdown",
   "metadata": {},
   "source": [
    "## Tarefa 2: Ajustar a regressão linear simples por mínimos quadrados"
   ]
  },
  {
   "cell_type": "markdown",
   "metadata": {},
   "source": [
    "Para esta tarefa, vamos ajustar a regressão passo a passo, calculando cada valor com o Numpy para nos familiarizarmos com as suas funções\n",
    "\n",
    "**Nota:** Vamos utilizar unicamente a função de soma de Numpy. Na seguinte tarefa iremos usar as funções para calcular diretamente a média de um array, desvios típicos ou covariância"
   ]
  },
  {
   "cell_type": "code",
   "execution_count": null,
   "metadata": {},
   "outputs": [],
   "source": [
    "import numpy as np"
   ]
  },
  {
   "cell_type": "markdown",
   "metadata": {},
   "source": [
    "### Importar o dataset no Numpy"
   ]
  },
  {
   "cell_type": "markdown",
   "metadata": {},
   "source": [
    "Executar a seguinte célula para importar o dataset com um array de Numpy, assegurando-se que o nome do dataset é correto e que o arquivo se encontra no mesmo diretório que o notebook"
   ]
  },
  {
   "cell_type": "code",
   "execution_count": null,
   "metadata": {},
   "outputs": [],
   "source": [
    "import csv\n",
    "\n",
    "with open('módulo1-unidade1-exercício1-dataset-tarefa2.csv') as csvfile:\n",
    "    \n",
    "    #dataset1 = np.asarray(list(csv.reader(csvfile))[1:])\n",
    "    read_csv = list(csv.reader(csvfile))\n",
    "\n",
    "    # Eliminar cabeçalho\n",
    "    read_csv = read_csv[1:]\n",
    "\n",
    "# Mudar de caracter decimal de vírgula para ponto\n",
    "for line in read_csv:\n",
    "    for i in [0, 1]:\n",
    "        line[i] = line[i].replace(',', '.')\n",
    "\n",
    "# Carregar como array de Numpy\n",
    "dataset1 = np.asarray(read_csv).astype(np.float)\n",
    "\n",
    "print(dataset1)"
   ]
  },
  {
   "cell_type": "markdown",
   "metadata": {},
   "source": [
    "Já dispomos dos dados num array 2D de Numpy.\n",
    "\n",
    "\n",
    "Agora, deve completar o código das seguintes células para ajustar a regressão linear:"
   ]
  },
  {
   "cell_type": "code",
   "execution_count": null,
   "metadata": {},
   "outputs": [],
   "source": [
    "## TODO: Criar 2 arrays 1D a partir do dataset importado que correspondam às colunas X e Y do CSV\n",
    "\n",
    "X = [...]\n",
    "Y = [...]"
   ]
  },
  {
   "cell_type": "code",
   "execution_count": null,
   "metadata": {},
   "outputs": [],
   "source": [
    "## TODO: Antes de formar o modelo, representar os dados numa gráfica de pontos de Matplotlib\n",
    "\n",
    "import matplotlib.pyplot as plt\n",
    "\n",
    "# Pode usar a função scatter()\n",
    "\n",
    "plt.show()"
   ]
  },
  {
   "cell_type": "markdown",
   "metadata": {},
   "source": [
    "Recordar as equações da regressão linear:\n",
    "$Y = m \\times X + b$\n",
    "\n",
    "$m=\\frac{\\sum xy-\\frac{(\\sum x)(\\sum y)}{n}}{\\sum x^2-\\frac{(\\sum x)^2}{n}}$\n",
    "\n",
    "$b=\\overline{y}-m\\times\\overline{x}$"
   ]
  },
  {
   "cell_type": "code",
   "execution_count": null,
   "metadata": {},
   "outputs": [],
   "source": [
    "## TODO: Calcular m usando a função np.sum(ndarray) ou ndarray.sum(), onde ndarray é o array a somar\n",
    "n = [...]\n",
    "XY = [...]    # Recordar, é uma multiplicação de vetores elemento-a-elemento. Usar a função np.multiply()\n",
    "X2 = [...]\n",
    "\n",
    "m = [...]"
   ]
  },
  {
   "cell_type": "code",
   "execution_count": null,
   "metadata": {},
   "outputs": [],
   "source": [
    "## TODO: Calcula b\n",
    "\n",
    "# TODO: Substituir \"sum_y\" e \"sum_x\" pelo código ou variáveis correspondentes\n",
    "y_avg = sum_y / n\n",
    "x_avg = sum_x / n\n",
    "\n",
    "b = [...]"
   ]
  },
  {
   "cell_type": "markdown",
   "metadata": {},
   "source": [
    "Avaliar o modelo calculando o seu R2.\n",
    "\n",
    "Recordar as equações para calcular o coeficiente de correlação:\n",
    "\n",
    "$R^2 = \\frac{\\sigma_{xy}}{\\sigma_x \\cdot \\sigma_y}$\n",
    "\n",
    "$\\sigma_{xy} = \\frac{\\overline{x \\cdot y}}{n}$\n",
    "\n",
    "$\\sigma_x = \\sqrt{\\frac{\\sum x^2}{n} - \\bar{x}^2}$"
   ]
  },
  {
   "cell_type": "code",
   "execution_count": null,
   "metadata": {},
   "outputs": [],
   "source": [
    "## TODO: Calcula r2\n",
    "\n",
    "x_std = [...]\n",
    "y_std = [...]\n",
    "cov_xy = [...]\n",
    "\n",
    "r2 = [...]"
   ]
  },
  {
   "cell_type": "markdown",
   "metadata": {},
   "source": [
    "Calcular as previsões de Y como y_pred para os valores de X originais, com os coeficientes do modelo ajustado:\n",
    "\n",
    "$y\\_pred = m \\times X + b$"
   ]
  },
  {
   "cell_type": "code",
   "execution_count": null,
   "metadata": {},
   "outputs": [],
   "source": [
    "## TODO: Calcular y_pred\n",
    "y_pred = [...]"
   ]
  },
  {
   "cell_type": "code",
   "execution_count": null,
   "metadata": {},
   "outputs": [],
   "source": [
    "# TODO: Representar com Matplotlib um gráfico com 2 séries em cores diferentes: Y vs X, y_pred vs X\n",
    "\n",
    "[...]"
   ]
  },
  {
   "cell_type": "markdown",
   "metadata": {},
   "source": [
    "## Tarefa 3:  Ajustar a regressão linear com as funções matemáticas de Numpy"
   ]
  },
  {
   "cell_type": "markdown",
   "metadata": {},
   "source": [
    "Agora, repetir os passos anteriores para ajustar a regressão linear aproveitando todas as capacidades de Numpy: as suas funções para calcular as somas, média, desvio típico e covariância de arrays"
   ]
  },
  {
   "cell_type": "code",
   "execution_count": null,
   "metadata": {},
   "outputs": [],
   "source": [
    "## TODO: Resolver a regressão linear com as funções avançadas de Numpy\n",
    "## Usar novos nomes de variáveis como np_x_avg, np_x_std, np_r2, etc.\n",
    "\n",
    "np_m = [...]\n",
    "np_b = [...]\n",
    "np_r2 = [...]"
   ]
  },
  {
   "cell_type": "markdown",
   "metadata": {},
   "source": [
    "## Tarefa 4: calcular os resíduos e fazer previsões"
   ]
  },
  {
   "cell_type": "markdown",
   "metadata": {},
   "source": [
    "Calcular os resíduos do seu modelo:\n",
    "\n",
    "$residuos = Y - Y\\_pred$"
   ]
  },
  {
   "cell_type": "code",
   "execution_count": null,
   "metadata": {},
   "outputs": [],
   "source": [
    "## TODO: Calcular os resíduos e represente-os com Matplotlib num gráfico de pontos vs X\n",
    "\n",
    "res = [...]\n",
    "\n",
    "# Gráfico de Matplotlib"
   ]
  },
  {
   "cell_type": "markdown",
   "metadata": {},
   "source": [
    "Realizar previsões para 2 (ou mais) valores novos de X, 1 valor para interpolação e 1 valor para extrapolação"
   ]
  },
  {
   "cell_type": "code",
   "execution_count": null,
   "metadata": {},
   "outputs": [],
   "source": [
    "# TODO: Fazer previsões com o modelo ajustado\n",
    "\n",
    "x_interpol = [...]\n",
    "y_interpol = [...]\n",
    "\n",
    "x_extrapol = [...]\n",
    "y_extrapol = [...]"
   ]
  },
  {
   "cell_type": "markdown",
   "metadata": {},
   "source": [
    "## Tarefa 5: resolução com Scikit-learn\n",
    "\n",
    "*Atreve-se a resolver uma regressão linear simples usando Scikit-learn? E a avaliar e fazer previsões?*\n",
    "\n",
    "Rever o código deste notebook e adapte-o para usar os nossos dados: https://scikit-learn.org/stable/auto_examples/linear_model/plot_ols.html"
   ]
  },
  {
   "cell_type": "code",
   "execution_count": null,
   "metadata": {},
   "outputs": [],
   "source": [
    "# TODO: Resolver a regressão linear simples usando Scikit-learn a partir desse exemplo"
   ]
  }
 ],
 "metadata": {
  "environment": {
   "name": "common-cpu.m54",
   "type": "gcloud",
   "uri": "gcr.io/deeplearning-platform-release/base-cpu:m54"
  },
  "kernelspec": {
   "display_name": "Python 3",
   "language": "python",
   "name": "python3"
  },
  "language_info": {
   "codemirror_mode": {
    "name": "ipython",
    "version": 3
   },
   "file_extension": ".py",
   "mimetype": "text/x-python",
   "name": "python",
   "nbconvert_exporter": "python",
   "pygments_lexer": "ipython3",
   "version": "3.8.8"
  }
 },
 "nbformat": 4,
 "nbformat_minor": 4
}
