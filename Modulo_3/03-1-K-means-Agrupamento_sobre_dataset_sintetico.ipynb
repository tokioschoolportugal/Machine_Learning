{
 "cells": [
  {
   "cell_type": "markdown",
   "metadata": {},
   "source": [
    "# K-means: Agrupamento sobre dataset sintético por K-means\n",
    "\n",
    "## O que vamos fazer?\n",
    "- Criar um dataset de agrupamento sintético \n",
    "- Pré-processar os dados.\n",
    "- Implementar o algoritmo de agrupamento K-means não supervisionado. \n",
    "- Comprovar a nossa implementação.\n",
    "- Formar um modelo K-means com múltiplas inicializações. \n",
    "- Avaliar o modelo e representar os resultados graficamente. \n",
    "- Escolher um número ótimo de poloes pela regra da curva.\n",
    "\n",
    "Neste exercício, vamos implementar um algoritmo de formação de modelos de agrupamento de K-means.\n",
    "\n",
    "Para isso, vamos criar um dataset sintético de agrupamento, desenvolver a nossa implementação de K-means e comprová-la.\n",
    "\n",
    "Como sabemos, os modelos de agrupamento são muito sensíveis às condições de inicialização, por isso vamos formar vários modelos em paralelo e comprovar graficamente se os seus resultados são visivelmente diferentes.\n",
    "\n",
    "Para os avaliar, vamos fazê-lo de uma forma gráfica, representando o resultado final."
   ]
  },
  {
   "cell_type": "code",
   "execution_count": null,
   "metadata": {},
   "outputs": [],
   "source": [
    "# TODO: Importar todos os módulos necessários para esta célula"
   ]
  },
  {
   "cell_type": "markdown",
   "metadata": {},
   "source": [
    "## Criar o dataset sintético\n",
    "\n",
    "Vamos criar um dataset sintético de classificação, Este dataset terá um n.º determinado de polos com um dado número de exemplos e um desvio padrão associado\n",
    "\n",
    "Para facilitar, pode usar a função de [sklearn.datasets.make_blobs](https://scikit-learn.org/stable/modules/generated/sklearn.datasets.make_blobs.html)."
   ]
  },
  {
   "cell_type": "code",
   "execution_count": null,
   "metadata": {},
   "outputs": [],
   "source": [
    "# TODO: Criar um dataset de agrupamento sintético\n",
    "# Usar os seguintes parâmetros para a criar\n",
    "n_samples = 1000\n",
    "n_features = 2\n",
    "centers = 5\n",
    "cluster_std = [1.0, 1.5, 0.5, 2.0, 2.5]\n",
    "return_centers = True\n",
    "random_state = 42"
   ]
  },
  {
   "cell_type": "markdown",
   "metadata": {},
   "source": [
    "## Pré-processar os dados\n",
    "\n",
    "Pré-processar os dados com os passos habituais, se necessário:\n",
    "\n",
    "- Reordenar os dados aleatoriamente. \n",
    "- Normalizar os dados.\n",
    "\n",
    "Como o agrupamento é um modelo de aprendizagem não supervisionado, não o iremos avaliar pelo método tradicional de comparação dos seus resultados com os resultados anteriormente conhecidos"
   ]
  },
  {
   "cell_type": "code",
   "execution_count": null,
   "metadata": {},
   "outputs": [],
   "source": [
    "# TODO: Reordenar os dados aleatoriamente"
   ]
  },
  {
   "cell_type": "code",
   "execution_count": null,
   "metadata": {},
   "outputs": [],
   "source": [
    "# TODO: Normalizar os dados se necessário"
   ]
  },
  {
   "cell_type": "markdown",
   "metadata": {},
   "source": [
    "## Implementar o algoritmo K-means\n",
    "\n",
    "Agora, implementar o algoritmo de agrupamento de K-means\n",
    "\n",
    "Recordar os passos do algoritmo:\n",
    "\n",
    "1. Definir o número de polos a considerar.\n",
    "1. Inicializar os centroides de cada agrupamento, por exemplo, escolhendo os primeiros exemplos do dataset.\n",
    "1. Atribuir cada exemplo no dataset ao seu centroide mais próximo.\n",
    "1. Calcular o ponto médio no espaço n-dimensional do dataset para cada polo.\n",
    "1. Atualizar o centroide correspondente a esse ponto.\n",
    "1. Retribuir cada exemplo ao seu centroide mais próximo.\n",
    "1. Continuar a iterar até a formação convergir: os centroides não variam de posição ou variam menos do que uma tolerância, ou atingimos o número máximo de iterações.."
   ]
  },
  {
   "cell_type": "code",
   "execution_count": null,
   "metadata": {},
   "outputs": [],
   "source": [
    "# TODO: Implementar uma função auxiliar para calcular a distância entre os exemplos e um ponto dado.\n",
    "def dist_examples(x, centroide):\n",
    "    \"\"\" Calcular a distância entre o ponto x e o centroide no espaço n-dimensional.\n",
    "    \n",
    "    Argumentos:\n",
    "    x -- array de Numpy n-dimensional com as características do exemplo \n",
    "    centroide -- matriz de Numpy n-dimensional com o ponto do centroide\n",
    "    \n",
    "    Devolver:\n",
    "    dist -- distância euclidiana no espaço n-dimensional entre x e o centroide\n",
    "    \"\"\"\n",
    "    return dist"
   ]
  },
  {
   "cell_type": "code",
   "execution_count": null,
   "metadata": {},
   "outputs": [],
   "source": [
    "# TODO: Implementar o algoritmo de agrupamento por K-means\n",
    "n_clusters = 5\n",
    "n_iter = 100 \n",
    "tol = 1e-3\n",
    "\n",
    "# Inicializar os centroides como uma matriz 2D com a posição n-dimensional dos primeiros exemplos dos n_clusters\n",
    "centroides = [...]\n",
    "\n",
    "# Iterar sobre o número máx. de iterações\n",
    "for i in range(n_iter):\n",
    "    # Atribuir cada exemplo ao seu centroide mais próximo usando dist_examples ()\n",
    "    for m in n_samples:\n",
    "        polo_atribuído_exemplos = [...] # tamanho m, valores [1, n_clusters]\n",
    "        \n",
    "    # Calcular o ponto médio n-dimensional para cada polo com os seus exemplos atribuídos.\n",
    "    for c in n_clusters:\n",
    "        for n in n_features:\n",
    "            # Dica: Pode utilizar as funções do Numpy para calcular a média de um array ou um slice do mesmo.\n",
    "            centroide[...] = [...]\n",
    "            \n",
    "        # Atualizar o centroide de cada polo para esse ponto médio.\n",
    "        centroides[...] = centroide\n",
    "        \n",
    "    # Verificar se o modelo converge: todos os centroides movem-se menos do que a tolerância tol\n",
    "    if [...]:\n",
    "        print('Modelo converge em iteração nº:', i)\n",
    "        \n",
    "        break\n",
    "else:\n",
    "    print('N.º máx. de iterações alcançado')\n",
    "print('Centroides finais:') \n",
    "print(centroides)\n",
    "\n",
    "print('Centroides atribuídos a cada exemplo:') \n",
    "print(polo_atribuído_exemplos)"
   ]
  },
  {
   "cell_type": "markdown",
   "metadata": {},
   "source": [
    "*Nota*: Recordar que as células de modelo de código são sempre guias simplesmente sugeridas para implementar o seu código. Se preferir modificar para desenvolver o seu código com uma estrutura diferente, pode fazê-lo em qualquer altura. O importante é que o cálculo final esteja correto e devolva os resultados finais a serem revistos."
   ]
  },
  {
   "cell_type": "markdown",
   "metadata": {},
   "source": [
    "## Avaliar e representar os resultados\n",
    "\n",
    "Vamos representar um gráfico 2D com os resultados da nossa formação: o centroide de cada polo e os exemplos atribuídos a cada um.\n",
    "Da mesma forma, vamos usar métricas de avaliação adequadas para o agrupamento (nomeadamente diferentes das usadas para a classificação).\n",
    "\n",
    "\n",
    "Para isso, pode ter como referência este exemplo: [A demo of K-Means clustering on the handwritten digits data](https://scikit-learn.org/stable/auto_examples/cluster/plot_kmeans_digits.html).\n",
    "\n",
    "Ao criar o dataset original, recuperámos o centroide de cada agrupamento utilizado para o criar, a *ground truth* deste dataset, que podemos usar nesta avaliação.\n",
    "\n",
    "No nosso caso, o nosso *n*, n.º de dimensões ou *n_features* é também de 2, pelo que não temos de reduzir a dimensionalidade por PCA (iremos introduzir este conceito ML numa sessão posterior)."
   ]
  },
  {
   "cell_type": "code",
   "execution_count": null,
   "metadata": {},
   "outputs": [],
   "source": [
    "# TODO: Avaliar o seu modelo com as métricas de homogeneidade, finalização, V-measure, índice de Rand ajustado, índice de medição em V"
   ]
  },
  {
   "cell_type": "markdown",
   "metadata": {},
   "source": [
    "*Nota*: Aproveitar a oportunidade para pesquisar na documentação e conhecer melhor estes coeficientes, utilizados para avaliar o agrupamento, que são diferentes dos usados na classificação: [Clustering performance evaluation](https://scikit-learn.org/stable/modules/clustering.html#clustering-evaluation)."
   ]
  },
  {
   "cell_type": "code",
   "execution_count": null,
   "metadata": {},
   "outputs": [],
   "source": [
    "# TODO: Representar o seu modelo formado: os centroides de cada polo e os exemplos atribuídos a cada um"
   ]
  },
  {
   "cell_type": "markdown",
   "metadata": {},
   "source": [
    "*Bonus*: *É possível calcular a distância total entre cada centroide formado e o centroide original correspondente?* Cuidado, não tem de ser o mais próximo (2 centroides formados podem ter o mesmo centroide original como o mais próximo\n",
    "\n",
    "*E se também representar os centroides na célula com os resultados do seu modelo, noutra cor?*"
   ]
  },
  {
   "cell_type": "code",
   "execution_count": null,
   "metadata": {},
   "outputs": [],
   "source": [
    "# TODO: Calcular a distância entre cada centroide formado e o centroide original correspondente"
   ]
  },
  {
   "cell_type": "markdown",
   "metadata": {},
   "source": [
    "## Formar um modelo K-means com múltiplas inicializações\n",
    "\n",
    "Como dissemos, o agrupamento K-means é um algoritmo bastante sensível à inicialização utilizada, uma vez que o resultado final pode variar. \n",
    "Para verificar isto graficamente, voltar a formar o modelo, escolhendo diferentes centroides iniciais, desta vez de forma aleatória entre os diferentes exemplos do dataset.\n",
    "\n",
    "Para o fazer, copiar as células de código que formam o modelo (modificando a escolha dos centroides originais), avaliá-lo e representar\n",
    "graficamente os resultados. Desta forma é possível ver os resultados em ambos os casos ao mesmo tempo para comparação\n",
    "\n",
    "*Nota*: Para a representação gráfica, alterar o número da figura em *plt.figure(1)*."
   ]
  },
  {
   "cell_type": "code",
   "execution_count": null,
   "metadata": {},
   "outputs": [],
   "source": [
    "# TODO: Implementar o algoritmo de agrupamento por K-means"
   ]
  },
  {
   "cell_type": "code",
   "execution_count": null,
   "metadata": {},
   "outputs": [],
   "source": [
    "# TODO: Avaliar o seu modelo com as métricas de homogeneidade, finalização, V-measure, índice de Rand ajustado, índice de medição em V"
   ]
  },
  {
   "cell_type": "code",
   "execution_count": null,
   "metadata": {},
   "outputs": [],
   "source": [
    "# TODO: Representar o seu modelo formado: os centroides de cada polo e os exemplos atribuídos a cada um"
   ]
  },
  {
   "cell_type": "markdown",
   "metadata": {},
   "source": [
    "*Como variam os resultados do seu modelo com outra inicialização aleatória, as suas métricas de avaliação e o gráfico de resultados? Como é que variam se formar de novo o modelo com inicializações aleatórias várias vezes?*\n",
    "\n",
    "Também se pode recriar o dataset original, mesmo alterando o tamanho ou desvio padrão de cada polo, e ver se afeta os resultados e a variação entre os polos."
   ]
  },
  {
   "cell_type": "markdown",
   "metadata": {},
   "source": [
    "## Escolher o número ótimo de polos\n",
    "\n",
    "Tendo criado um dataset sintético, escolhemos o número “correto” de polos para o mesmo. No entanto, num dataset real não conhecemos este número de polos, e em muitas ocasiões não haverá sequer um número correto de polos, uma vez que encontrar a separação entre um polo e outro, se estiverem muito próximos, pode ser uma tarefa não trivial e subjetiva.\n",
    "\n",
    "Por lógica matemática, quanto menor o número de polos, maior a distância média entre cada exemplo e o seu polo atribuído, e quanto maior o número de polos, menor a distância. Numa redução, quando usamos um número de polos igual ao número de exemplos, cada centroide corresponderá idealmente à posição de cada exemplo, e a distância média para o polo mais próximo será 0.\n",
    "\n",
    "Portanto, para escolher o número ótimo de polos, quando não temos quaisquer considerações ou restrições externas, podemos utilizar a chamada “regra da curva”.\n",
    "\n",
    "Vamos aplicar esta regra ao nosso dataset:\n",
    "1. Formar um modelo para cada número de polos a considerar num intervalo, por exemplo [1, 10].\n",
    "1. Para cada número de polos, formar vários modelos com múltiplas inicializações aleatórias, e escolher o que tem a melhor métrica de avaliação.\n",
    "1. Representar graficamente a métrica de avaliação do melhor modelo vs o número de polos considerado\n",
    "1. Escolher como número “ótimo” de polos aquele no qual existe uma “curva” no gráfico, onde a tendência ou inclinação muda de forma mais abrupta\n",
    "\n",
    "Num dataset real não iremos contar com a sua *ground truth*, os centroides corretos, pelo que, como avaliação, iremos utilizar a métrica do coeficiente de silhueta.\n",
    "\n",
    "Implementar a regra da curva para escolher um número ótimo de polos para este dataset:"
   ]
  },
  {
   "cell_type": "code",
   "execution_count": null,
   "metadata": {},
   "outputs": [],
   "source": [
    "# TODO: Implementar a regra da curva para escolher um número ótimo de polos para este :\n",
    "n_clusters = [...] # Array [1, 2, 3, ..., 10]\n",
    "n_iter = 100 \n",
    "tol = 1e-3\n",
    "\n",
    "# Iterar sobre o número de polos a considerar.\n",
    "for n_c in n_clusters:\n",
    "    # Formar vários modelos com inicializações aleatórias\n",
    "    for _ in range(5):\n",
    "        # Avaliar cada modelo por coeficiente de silhueta e manter o melhor modelo.\n",
    "        # Pseudo-código\n",
    "        if evaluacion > melhor_avaliação:\n",
    "            melhor_modelo = modelo\n",
    "            \n",
    "            # Usar o seu código modificado das células anteriores para formar os modelos\n",
    "            \n",
    "# Como resultado final procuramos:\n",
    "print('Centroides de cada modelo, segundo o nº de polos:')\n",
    "print()\n",
    "print('Coeficiente de silhueta de cada modelo, segundo o nº de polos:')\n",
    "print()"
   ]
  },
  {
   "cell_type": "code",
   "execution_count": null,
   "metadata": {},
   "outputs": [],
   "source": [
    "# TODO: Representar graficamente da regra de curva num gráfico de linhas: coeficiente de silhueta do melhor m\n",
    "plt.plot()"
   ]
  },
  {
   "cell_type": "markdown",
   "metadata": {},
   "source": [
    "*E se alterarmos o número original de polos no dataset? O número ótimo de polos ainda aparece no gráfico com a mesma clareza?*\n",
    "\n",
    "Modificar o dataset original e a resolução da regra de curva para comparação. Usar vários números de polos, como 5 de novo, 2, 4 e 6. "
   ]
  },
  {
   "cell_type": "markdown",
   "metadata": {},
   "source": [
    "Escolher um número ótimo de polos no seu último resultado e indique-o nesta célula:\n",
    "\n",
    "- N.º de polos ótimo pela regra da curva: X"
   ]
  },
  {
   "cell_type": "markdown",
   "metadata": {},
   "source": [
    "Finalmente, traçar novamente os resultados do modelo selecionado, com o número de polos ótimo:"
   ]
  },
  {
   "cell_type": "code",
   "execution_count": null,
   "metadata": {},
   "outputs": [],
   "source": [
    "# TODO: Representar o seu modelo formado: os centroides de cada polo e os exemplos atribuídos a cada um"
   ]
  }
 ],
 "metadata": {
  "environment": {
   "name": "common-cpu.m54",
   "type": "gcloud",
   "uri": "gcr.io/deeplearning-platform-release/base-cpu:m54"
  },
  "kernelspec": {
   "display_name": "Python 3",
   "language": "python",
   "name": "python3"
  },
  "language_info": {
   "codemirror_mode": {
    "name": "ipython",
    "version": 3
   },
   "file_extension": ".py",
   "mimetype": "text/x-python",
   "name": "python",
   "nbconvert_exporter": "python",
   "pygments_lexer": "ipython3",
   "version": "3.8.8"
  }
 },
 "nbformat": 4,
 "nbformat_minor": 4
}
