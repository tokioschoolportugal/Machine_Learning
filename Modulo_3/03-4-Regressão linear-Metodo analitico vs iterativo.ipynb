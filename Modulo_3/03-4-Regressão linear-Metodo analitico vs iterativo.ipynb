{
 "cells": [
  {
   "cell_type": "markdown",
   "metadata": {},
   "source": [
    "# Método analítico vs imperativo"
   ]
  },
  {
   "cell_type": "markdown",
   "metadata": {},
   "source": [
    "O que vamos fazer?\n",
    "\n",
    "- Resolver a regressão linear pelo método analítico"
   ]
  },
  {
   "cell_type": "code",
   "execution_count": null,
   "metadata": {},
   "outputs": [],
   "source": [
    "import numpy as np"
   ]
  },
  {
   "cell_type": "markdown",
   "metadata": {},
   "source": [
    "## Resolver o modelo pelo método analítico\n",
    "\n",
    "Nesta ocasião, vamos resolver ou formar o modelo usando a equação normal.\n",
    "\n",
    "A equação normal tem a seguinte forma:\n",
    "\n",
    "$\\Theta = (X^T \\times X)^{-1} \\times X^T \\times Y$"
   ]
  },
  {
   "cell_type": "markdown",
   "metadata": {},
   "source": [
    "### Tarefa 1: gerar um dataset sintético, sem termo de erro"
   ]
  },
  {
   "cell_type": "code",
   "execution_count": null,
   "metadata": {},
   "outputs": [],
   "source": [
    "#  TODO: Gerar um dataset sintético, sem termo de erro, sob a forma que escolher\n",
    "\n",
    "m = 0\n",
    "n = 0\n",
    "\n",
    "X = [...]\n",
    "\n",
    "Theta_verd = [...]\n",
    "\n",
    "Y = [...]\n",
    "\n",
    "# Comprovar os valores e dimensões (forma ou \"shape\") dos vetores\n",
    "print('Theta a estimar') \n",
    "print()\n",
    "\n",
    "print('Primeiras 10 filas e 5 colunas de X e Y:') \n",
    "print()\n",
    "print()\n",
    "\n",
    "print('Dimensões de X e Y:') \n",
    "print('shape', 'shape')"
   ]
  },
  {
   "cell_type": "markdown",
   "metadata": {},
   "source": [
    "### Tarefa 2: implementar a equação normal\n",
    "\n",
    "Implementar a seguinte função para resolver o modelo de regressão linear, otimizando os seus coeficientes Theta, completando a \n",
    "seguinte célula:"
   ]
  },
  {
   "cell_type": "code",
   "execution_count": null,
   "metadata": {},
   "outputs": [],
   "source": [
    "#  TODO: Implementar a função que resolve a equação normal\n",
    "\n",
    "def normal_equation(x, y):\n",
    "    \"\"\" Calcular o theta ótimo usando a equação normal para regressão linear multivariável\n",
    "    \n",
    "    Argumentos posicionais:\n",
    "    x -- array 2D de Numpu com os valores das variáveis independentes dos exemplos, de tamanho m x n \n",
    "    y -- array 1D Numpy com a variável dependente/objetivo, de tamanho m x 1\n",
    "    \n",
    "    Devolver:\n",
    "    theta -- array 1D Numpy com os pesos dos coeficientes do modelo, de tamanho 1 x n (vetor fila) \"\"\"\n",
    "    \n",
    "    theta = [...]\n",
    "    \n",
    "    return theta"
   ]
  },
  {
   "cell_type": "markdown",
   "metadata": {},
   "source": [
    "## Tarefa 3: comprovar a implementação\n",
    "\n",
    "Usar o dataset sintético que criou anteriormente para comprovar que a sua implementação devolve o mesmo valor de Theta original. \n",
    "\n",
    "Tentar comprovar várias vezes modificando o número de exemplos e o número de características.\n",
    "\n",
    "Acrescentar também uma vez mais um termo de erro ao Y. Neste caso, o Theta inicial e o final podem não corresponder exatamente, \n",
    "pois introduzimos erro ou “ruído” no dataset de formação.\n",
    "\n",
    "Em algumas ocasiões, a equação normal não é reversível, pelo que pode encontrar com esse erro. Neste caso, não se preocupe, é uma limitação do método analítico e não da sua implementação específica, se funcionar nos outros casos"
   ]
  }
 ],
 "metadata": {
  "environment": {
   "name": "common-cpu.m54",
   "type": "gcloud",
   "uri": "gcr.io/deeplearning-platform-release/base-cpu:m54"
  },
  "kernelspec": {
   "display_name": "Python 3",
   "language": "python",
   "name": "python3"
  },
  "language_info": {
   "codemirror_mode": {
    "name": "ipython",
    "version": 3
   },
   "file_extension": ".py",
   "mimetype": "text/x-python",
   "name": "python",
   "nbconvert_exporter": "python",
   "pygments_lexer": "ipython3",
   "version": "3.8.8"
  }
 },
 "nbformat": 4,
 "nbformat_minor": 4
}
