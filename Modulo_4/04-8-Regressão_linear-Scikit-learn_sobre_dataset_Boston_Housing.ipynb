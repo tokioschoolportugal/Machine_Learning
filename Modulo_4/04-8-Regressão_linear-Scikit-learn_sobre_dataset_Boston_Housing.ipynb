{
 "cells": [
  {
   "cell_type": "markdown",
   "metadata": {},
   "source": [
    "# Regressão linear: Scikit-learn sobre dataset Boston Housing\n",
    "\n",
    "## O que vamos fazer?\n",
    "- Analisar o dataset de amostra imobiliária de Boston Housing de Scikit-learn. \n",
    "- Formar um modelo de regressão linear multivariável sobre o mesmo.\n",
    "\n",
    "Mais uma vez, nesta ocasião, vamos formar completamente outro modelo de regressão linear usando o Scikit-learn. Uma vez que vamos seguir os mesmos passos, em geral, que no exercício anterior, vamos minimizar as indicações para não o distrair\n",
    "\n",
    "Para este exercício, pode contar com a seguinte referência:\n",
    "- [Boston Housing dataset](https://scikit-learn.org/stable/modules/generated/sklearn.datasets.load_boston.html#sklearn.datasets.load_boston)"
   ]
  },
  {
   "cell_type": "code",
   "execution_count": null,
   "metadata": {},
   "outputs": [],
   "source": [
    "# TODO: Importar todos os módulos necessários para esta célula"
   ]
  },
  {
   "cell_type": "markdown",
   "metadata": {},
   "source": [
    "## Carregar o dataset de Boston Housing\n",
    "\n",
    "Antes de começar a trabalhar com ele, analisa as suas características e alguns dos exemplos incluídos."
   ]
  },
  {
   "cell_type": "code",
   "execution_count": null,
   "metadata": {},
   "outputs": [],
   "source": [
    "# TODO: Carregar o dataset de Boston Housing, analisar as suas características e exemplos e, finalmente, carregá\u0002lo como\n",
    "# uma tupla (X, Y)"
   ]
  },
  {
   "cell_type": "markdown",
   "metadata": {},
   "source": [
    "## Pré-processar os dados\n",
    "- Reordená-los aleatoriamente \n",
    "- Normalizá-los\n",
    "- Dividi-los em subsets de formação e testes.\n",
    "\n",
    "*Nota*: Antes de normalizar os dados de um novo dataset, comprovar que é necessário e que não se normalizaram já previamente."
   ]
  },
  {
   "cell_type": "code",
   "execution_count": null,
   "metadata": {},
   "outputs": [],
   "source": [
    "# TODO: Reordenar os dados aleatoriamente"
   ]
  },
  {
   "cell_type": "code",
   "execution_count": null,
   "metadata": {},
   "outputs": [],
   "source": [
    "# TODO: Normalizar os exemplos se necessário"
   ]
  },
  {
   "cell_type": "code",
   "execution_count": null,
   "metadata": {},
   "outputs": [],
   "source": [
    "# TODO: Dividir os dataset e um subset de formação e testes"
   ]
  },
  {
   "cell_type": "markdown",
   "metadata": {},
   "source": [
    "## Formar um modelo inicial\n",
    "\n",
    "- Formar um modelo inicial sobre o subset de formação sem regularização. \n",
    "- Comprovar a adequação do modelo.\n",
    "- Comprovar se há desvio ou sobreajuste.\n",
    "\n",
    "Para isso, volte a usar um modelo de regressão linear mais simples, como o LinearRegression:"
   ]
  },
  {
   "cell_type": "code",
   "execution_count": null,
   "metadata": {},
   "outputs": [],
   "source": [
    "# TODO: Formar um modelo de regressão linear mais simples sobre o subset de formação sem regularização."
   ]
  },
  {
   "cell_type": "code",
   "execution_count": null,
   "metadata": {},
   "outputs": [],
   "source": [
    "# TODO: Comprovar a adequação do modelo avaliando-o sobre o set de teste com várias métricas"
   ]
  },
  {
   "cell_type": "code",
   "execution_count": 2,
   "metadata": {},
   "outputs": [],
   "source": [
    "# TODO: Comprovar se a avaliação sobre ambos os subsets é semelhante com o mean_squared_error"
   ]
  },
  {
   "cell_type": "markdown",
   "metadata": {},
   "source": [
    "## Formar o modelo com CV\n",
    "\n",
    "- Formar um modelo por cada valor de regularização a considerar. \n",
    "- Forma-os e avalia-os sobre o subset de formação por K-fold. \n",
    "- Escolher o modelo e a sua regularização ótima\n",
    "\n",
    "Formar o modelo pelo algoritmo de [Lasso](https://scikit-learn.org/stable/modules/linear_model.html#lasso):"
   ]
  },
  {
   "cell_type": "code",
   "execution_count": null,
   "metadata": {},
   "outputs": [],
   "source": [
    "# TODO: Formar um modelo diferente por cada alpha sobre um fold de K-fold diferente, avaliar e escolher\n",
    "# o modelo de melhor precisão usando GridSearchCV"
   ]
  },
  {
   "cell_type": "markdown",
   "metadata": {},
   "source": [
    "## Avaliar o modelo finalmente sobre o subset de teste\n",
    "\n",
    "- Mostrar os coeficientes e intercept do melhor modelo. \n",
    "- Avaliar o melhor modelo sobre o subset de teste inicial. \n",
    "- Calcular os resíduos no subset de teste e representá-los."
   ]
  },
  {
   "cell_type": "code",
   "execution_count": null,
   "metadata": {},
   "outputs": [],
   "source": [
    "# TODO: Avaliar o melhor modelo sobre o subset de teste inicial e calcular os seus resíduos"
   ]
  }
 ],
 "metadata": {
  "environment": {
   "name": "common-cpu.m54",
   "type": "gcloud",
   "uri": "gcr.io/deeplearning-platform-release/base-cpu:m54"
  },
  "kernelspec": {
   "display_name": "Python 3",
   "language": "python",
   "name": "python3"
  },
  "language_info": {
   "codemirror_mode": {
    "name": "ipython",
    "version": 3
   },
   "file_extension": ".py",
   "mimetype": "text/x-python",
   "name": "python",
   "nbconvert_exporter": "python",
   "pygments_lexer": "ipython3",
   "version": "3.8.8"
  }
 },
 "nbformat": 4,
 "nbformat_minor": 4
}
