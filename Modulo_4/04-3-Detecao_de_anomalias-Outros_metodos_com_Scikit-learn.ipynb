{
 "cells": [
  {
   "cell_type": "markdown",
   "metadata": {},
   "source": [
    "# Deteção de anomalias: Outros métodos com Scikit-learn\n",
    "\n",
    "## O que vamos fazer?\n",
    "- Resolver um dataset de deteção de anomalias com métodos de Scikit-learn\n",
    "\n",
    "Nesta ocasião, vamos utilizar um dos métodos que inclui Scikit-learn para deteção de anomalias. \n",
    "\n",
    "O método que vamos utilizar é [EllipticEnvelope](https://scikit-learn.org/stable/modules/generated/sklearn.covariance.EllipticEnvelope.html).\n",
    "\n",
    "Para isso, primeiro descarregar o primeiro exemplo de [Outlier detection on a real data set](https://scikit-learn.org/stable/auto_examples/applications/plot_outlier_detection_wine.html) e copiar na seguinte célula:"
   ]
  },
  {
   "cell_type": "code",
   "execution_count": null,
   "metadata": {},
   "outputs": [],
   "source": [
    "# TODO: Copiar o primeiro exemplo do tutorial do Elliptic Envelope"
   ]
  },
  {
   "cell_type": "markdown",
   "metadata": {},
   "source": [
    "Agora modificar o exemplo anterior para que apenas forme um modelo de Covariância empírica (“Empirical Covariance”):"
   ]
  },
  {
   "cell_type": "code",
   "execution_count": null,
   "metadata": {},
   "outputs": [],
   "source": [
    "# TODO: Formar apenas um modelo de covariância empírica"
   ]
  },
  {
   "cell_type": "markdown",
   "metadata": {},
   "source": [
    "Finalmente, iremos compará-lo com a nossa implementação, seguindo os mesmos passos que no exercício do dataset sintético:\n",
    "\n",
    "1. Criar um dataset sintético para a deteção de anomalias com datasets de dados normais e anómalos.\n",
    "1. Normalizar os dados de ambos datasets.\n",
    "1. Dividir os datasets em subsets de formação e teste, com dados normais e anómalos distribuídos por igual.\n",
    "1. Reordenar os dados aleatoriamente.\n",
    "1. Representar os 2 subsets graficamente.\n",
    "1. Formar o modelo de EllipticEnvelope sobre o subset de formação.\n",
    "1. Calcular a F1-score do modelo sobre o subset de teste.\n",
    "1. Representar os dados normais e anómalos diferenciados juntamente com a função de decisão do modelo sobre uma linha de contorno"
   ]
  },
  {
   "cell_type": "code",
   "execution_count": null,
   "metadata": {},
   "outputs": [],
   "source": [
    "# TODO: Criar um dataset sintético, pré-processar os dados, formar um modelo e avaliá-lo, seguindo os passos acima indicados."
   ]
  },
  {
   "cell_type": "markdown",
   "metadata": {},
   "source": [
    "Desta forma, vimos uma das formas disponíveis no Scikit-learn para resolver um problema de deteção de anomalias."
   ]
  }
 ],
 "metadata": {
  "environment": {
   "name": "common-cpu.m54",
   "type": "gcloud",
   "uri": "gcr.io/deeplearning-platform-release/base-cpu:m54"
  },
  "kernelspec": {
   "display_name": "Python 3",
   "language": "python",
   "name": "python3"
  },
  "language_info": {
   "codemirror_mode": {
    "name": "ipython",
    "version": 3
   },
   "file_extension": ".py",
   "mimetype": "text/x-python",
   "name": "python",
   "nbconvert_exporter": "python",
   "pygments_lexer": "ipython3",
   "version": "3.8.8"
  }
 },
 "nbformat": 4,
 "nbformat_minor": 4
}
