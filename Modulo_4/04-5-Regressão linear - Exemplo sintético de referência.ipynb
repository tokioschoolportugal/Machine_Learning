{
 "cells": [
  {
   "cell_type": "markdown",
   "metadata": {},
   "source": [
    "# Regressão linear: Exemplo sintético de referência\n",
    "\n",
    "## O que vamos fazer?\n",
    "- Criar um notebook de referência, com os passos para formar um modelo de regressão linear multivariável \n",
    "- Limpar o código de todos os comentários ou explicações que sobram\n",
    "- Modificar o dataset original para comprovar como afeta o modelo formado"
   ]
  },
  {
   "cell_type": "markdown",
   "metadata": {},
   "source": [
    "Este exercício vai ser diferente. O último notebook era bastante longo, e continha muitas informações e explicações adicionais.\n",
    "\n",
    "Queremos que tenha um notebook de referência onde possa ver claramente os passos a seguir para formar um modelo de regressão linear multivariável. Utilizaremos este notebook também como referência para formar outros tipos de modelos de regressão não linear e otimizá-los através de validação cruzada.\n",
    "\n",
    "Também queremos que aproveite a oportunidade para limpar as suas células de código, removendo quaisquer comentários de instruções, conselhos, etc., para poder usar estas células ou notebook no futuro diretamente.\n",
    "\n",
    "Portanto, a sua tarefa neste exercício será rápida e simples: copiar as células de código do exercício anterior, limpar e deixá-las prontas como referência para a formação de modelos de regressão linear:\n",
    "\n",
    "*Nota*: Pode modificar e adicionar qualquer célula de markdown para adicionar alguma explicação ou resumo para o ajudar a \n",
    "compreender os passos a seguir"
   ]
  },
  {
   "cell_type": "markdown",
   "metadata": {},
   "source": [
    "## Criar um dataset sintético para regressão linear\n",
    "\n",
    "- Adicionar um termo de bias e de erro modificável."
   ]
  },
  {
   "cell_type": "markdown",
   "metadata": {},
   "source": [
    "## Pré-processar os dados\n",
    "\n",
    "- Reordená-los aleatoriamente. \n",
    "- Normalizá-los.\n",
    "- Dividi-los em subconjuntos de formação, CV e testes"
   ]
  },
  {
   "cell_type": "markdown",
   "metadata": {},
   "source": [
    "## Formar um modelo inicia\n",
    "\n",
    "- Formar um modelo inicial sobre o subset de formação sem regularização. \n",
    "- Representar o histórico do seu custo para comprovar a sua evolução.\n",
    "- Comprovar a adequação do modelo.\n",
    "- Voltar a formar o modelo variando os hiper-parâmetros, se necessário. \n",
    "- Comprovar se há desvio ou sobreajuste."
   ]
  },
  {
   "cell_type": "markdown",
   "metadata": {},
   "source": [
    "## Encontrar o *lambda* ótimo no subset CV\n",
    "\n",
    "- Formar um modelo por cada valor de lambda a considerar\n",
    "- Representar graficamente o erro final sobre o subset de formação e CV para cada *lambda*\n",
    "- Escolher o modelo e valor *lambda* ótimos"
   ]
  },
  {
   "cell_type": "markdown",
   "metadata": {},
   "source": [
    "## Avaliar o modelo finalmente sobre o subset de teste\n",
    "\n",
    "- Calcular o erro do modelo no subset de teste com o *theta* e *lambda* correspondentes. \n",
    "- Calcular os resíduos no subset de teste e representá-los."
   ]
  },
  {
   "cell_type": "markdown",
   "metadata": {},
   "source": [
    "## Fazer previsões sobre novos exemplos\n",
    "\n",
    "- Gerar um novo exemplo seguindo o mesmo padrão que o dataset original. \n",
    "- Normalizar as suas características.\n",
    "- Gerar uma previsão para esse exemplo."
   ]
  },
  {
   "cell_type": "markdown",
   "metadata": {},
   "source": [
    "## Desafio adicional\n",
    "\n",
    "Imagine que, num sucesso real que queremos modelar, não reunimos todas as características que realmente o afetam. Por exemplo, 25 características afetam-no e apenas estimamos ou conseguimos recolher 12 delas.\n",
    "\n",
    "Como poderia isto afetar o modelo?\n",
    "\n",
    "*Pode criar um dataset sintéticos com um maior número de características que determinem Y maior do que o número de características usadas para formar o modelo, e assim verificá-lo?*"
   ]
  }
 ],
 "metadata": {
  "environment": {
   "name": "common-cpu.m54",
   "type": "gcloud",
   "uri": "gcr.io/deeplearning-platform-release/base-cpu:m54"
  },
  "kernelspec": {
   "display_name": "Python 3",
   "language": "python",
   "name": "python3"
  },
  "language_info": {
   "codemirror_mode": {
    "name": "ipython",
    "version": 3
   },
   "file_extension": ".py",
   "mimetype": "text/x-python",
   "name": "python",
   "nbconvert_exporter": "python",
   "pygments_lexer": "ipython3",
   "version": "3.8.8"
  }
 },
 "nbformat": 4,
 "nbformat_minor": 4
}
