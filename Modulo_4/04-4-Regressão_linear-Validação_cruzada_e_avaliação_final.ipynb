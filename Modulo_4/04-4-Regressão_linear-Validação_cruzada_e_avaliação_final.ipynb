{
 "cells": [
  {
   "cell_type": "markdown",
   "metadata": {},
   "source": [
    "# Regressão linear: Validação cruzada e avaliação final\n",
    "\n",
    "Finalmente, iremos formar um modelo de regressão linear completa, aplicando o pré-processamento de dados, verificando o modelo por validação cruzada, avaliando-o num subset de testes e, finalmente, fazendo previsões com ele.\n",
    "\n",
    "Este é, portanto, um exemplo completo de como formar um modelo de regressão linear multivariável.\n",
    "\n",
    "## O que vamos fazer?\n",
    "- Criar um dataset sintético para regressão linear multivariável \n",
    "- Reprocessar os dados\n",
    "- Formar o modelo no subset de formação e verificar a sua adequação \n",
    "- Encontrar o hiper-parâmetro lambda ótimo no subset de validação cruzada ou CV \n",
    "- Avaliar o modelo no subset de teste\n",
    "- Fazer previsões sobre novos exemplos"
   ]
  },
  {
   "cell_type": "code",
   "execution_count": null,
   "metadata": {},
   "outputs": [],
   "source": [
    "import time\n",
    "import numpy as np\n",
    "from matplotlib import pyplot as plt"
   ]
  },
  {
   "cell_type": "markdown",
   "metadata": {},
   "source": [
    "## Criar um dataset sintético para regressão linear\n",
    "\n",
    "Vamos começar, como habitualmente, por criar um dataset sintético para este exercício\n",
    "\n",
    "Criar um manualmente com um termo de erro modificável, não esquecendo o seu termo de bias"
   ]
  },
  {
   "cell_type": "code",
   "execution_count": null,
   "metadata": {},
   "outputs": [],
   "source": [
    "# TODO: Gerar um dataset sintéticos manualmente, com o termo de bias e o termo de erro\n",
    "\n",
    "m = 1000\n",
    "n = 3\n",
    "\n",
    "X = [...]\n",
    "\n",
    "Theta_verd = [...] \n",
    "\n",
    "error = 0,2\n",
    "\n",
    "Y = [...]\n",
    "\n",
    "# Comprovar os valores e dimensões dos vetores\n",
    "print('Theta a estimar e as suas dimensões') \n",
    "print()\n",
    "print()\n",
    "\n",
    "print('Primeiras 10 filas e 5 colunas de X e Y:') \n",
    "print()\n",
    "print()\n",
    "\n",
    "print('Dimensões de X e Y:') \n",
    "print()"
   ]
  },
  {
   "cell_type": "markdown",
   "metadata": {},
   "source": [
    "## Pré-processar os dados\n",
    "\n",
    "Vamos pré-processar os dados por completo, para os preparar.\n",
    "\n",
    "Desta vez, iremos seguir os passos seguintes para pré-processar os dados:\n",
    "- Reordená-los aleatoriamente. \n",
    "- Normalizá-los.\n",
    "- Dividi-los em subsets de formação, validação cruzada e de teste"
   ]
  },
  {
   "cell_type": "markdown",
   "metadata": {},
   "source": [
    "### Reordenar o dataset aleatoriamente\n",
    "\n",
    "Desta vez, vamos utilizar um dataset sintético criado com base em dados aleatórios. Por conseguinte, não seria necessário reordená-los, uma vez que, sendo aleatórios, já se encontram desorganizados por defeito.\n",
    "\n",
    "No entanto, podemos normalmente deparar-nos com dataset reais cujos dados têm uma certa ordem, um padrão, o que pode confundir a nossa formação.\n",
    "\n",
    "Portanto, sempre antes de começarmos a tratar os dados, a primeira coisa que fazemos é reordená-los aleatoriamente, principalmente antes de os dividirmos nos subsets de formação, CV e teste.\n",
    "\n",
    "*Nota*: Muito importante, recordar sempre de reordenar sempre *X* e *Y* na mesma ordem, para que a cada exemplo seja atribuído o mesmo resultado antes e depois da reordenação."
   ]
  },
  {
   "cell_type": "code",
   "execution_count": null,
   "metadata": {},
   "outputs": [],
   "source": [
    "# TODO: Reordenar aleatoriamente o dataset\n",
    "\n",
    "print('Primeiras 10 filas e 5 colunas de X e Y:') \n",
    "print()\n",
    "print()\n",
    "\n",
    "print('Reordenamos X e Y:')\n",
    "# Se preferir, pode usar a função sklearn.utils.shuffle convenience function.\n",
    "# Usar um estado inicial aleatório de 42, de modo a manter a reprodutibilidade.\n",
    "X, Y = [...]\n",
    "\n",
    "print('Primeiras 10 filas e 5 colunas de X e Y:') \n",
    "print()\n",
    "print()\n",
    "\n",
    "print('Dimensões de X e Y:') \n",
    "print()\n"
   ]
  },
  {
   "cell_type": "markdown",
   "metadata": {},
   "source": [
    "Comprovar se *X* e *Y* têm as dimensões corretas e uma ordem diferente da anterior"
   ]
  },
  {
   "cell_type": "markdown",
   "metadata": {},
   "source": [
    "## Normalizar o dataset\n",
    "\n",
    "Uma vez reordenados os dados aleatoriamente, vamos proceder à normalização do dataset de \n",
    "exemplos *X*.\n",
    "\n",
    "Para o fazer, copiar as células de código dos exercícios anteriores para o normalizar.\n",
    "\n",
    "*Nota*: Em exercícios anteriores utilizávamos 2 células de código diferentes, uma para definir a função de normalização e outra para normalizar o dataset. Pode combinar ambas as células numa única célula para guardar este pré-processamento numa célula reutilizável no futuro"
   ]
  },
  {
   "cell_type": "code",
   "execution_count": null,
   "metadata": {},
   "outputs": [],
   "source": [
    "# TODO: Normalizar o dataset ocom uma sua função de normalização.\n",
    "\n",
    "def normalize(x, mu, std):\n",
    "    \"\"\" Normalizar um dataset com exemplos X\n",
    "    \n",
    "    Argumentos posicionais:\n",
    "    x -- array 2D de Numpy com os exemplos, sem termo de bias\n",
    "    mu -- vetor 1D de Numpy com a média de cada característica/coluna\n",
    "    std -- vetor 1D de Numpy com o desvio típico de cada característica/coluna\n",
    "    \n",
    "    Devolver:\n",
    "    X norm -- array 2D de Numpy com os exemplos, com as suas características normalizadas \n",
    "    \"\"\"\n",
    "    return [...]\n",
    "\n",
    "# Encontrar a média e o desvio padrão das características de X (colunas), exceto a primeira (parcialidade).\n",
    "mu = [...]\n",
    "std = [...]\n",
    "\n",
    "print('X original:') \n",
    "print(X) \n",
    "print(X.shape)\n",
    "\n",
    "print('Média e desvio típico das características:') print(mu)\n",
    "print(mu.shape) \n",
    "print(std) \n",
    "print(std.shape)\n",
    "\n",
    "print('X normalizada:') \n",
    "X_norm = np.copy(X)\n",
    "X_norm[...] = normalize(X[...], mu, std) # Normalizar apenas a coluna 1 e as colunas seguintes, não a coluna 0.\n",
    "print(X_norm) \n",
    "print(X_norm.shape)"
   ]
  },
  {
   "cell_type": "markdown",
   "metadata": {},
   "source": [
    "*Nota*: Algumas pessoas preferem calcular a média *mu* e o desvio padrão *std* de cada característica/coluna de *X* na mesma função de normalização se não forem incluídos como argumentos (o que seria então opcional), devolvendo os 3 valores, uma vez que para fazer previsões precisamos de normalizar os dados com a mesma *mu* e *std* originais.\n",
    "\n",
    "Se preferir, pode modificar a sua implementação da função para o fazer."
   ]
  },
  {
   "cell_type": "markdown",
   "metadata": {},
   "source": [
    "### Dividir os dataset e subset de formação, CV e testes\n",
    "\n",
    "Finalmente, vamos dividir o dataset nos 3 subset a serem utilizados.\n",
    "\n",
    "Para isso, vamos utilizar uma proporção de 60%/20%/20%, uma vez que estamos a partir de 1 000 exemplos. Como dissemos, para um número diferente de exemplos, podemos modificar a proporção:"
   ]
  },
  {
   "cell_type": "code",
   "execution_count": null,
   "metadata": {},
   "outputs": [],
   "source": [
    "# TODO: Dividir o dataset X e Y nos 3 subconjuntos, de acordo com os ratios indicados.\n",
    "\n",
    "ratios = [60,20,20]\n",
    "print('Ratios:\\n', ratios, ratios[0] + ratios[1] + ratios[2])\n",
    "\n",
    "r = [0,0]\n",
    "# Dica: a função round() e o atributo x.shape podem ser úteis para si\n",
    "r[0] = [...]\n",
    "r[1] = [...]\n",
    "print('Índices de corte:\\n', r)\n",
    "\n",
    "# Dica: a função np.array_split() pode ser útil para si\n",
    "X_train, X_cv, X_test = [...] \n",
    "Y_train, Y_cv, Y_test = [...]\n",
    "\n",
    "print('Tamanhos dos subsets:') \n",
    "print(X_train.shape) \n",
    "print(Y_train.shape) \n",
    "print(X_cv.shape) print(Y_cv.shape) \n",
    "print(X_test.shape) \n",
    "print(Y_test.shape)"
   ]
  },
  {
   "cell_type": "markdown",
   "metadata": {},
   "source": [
    "## Formar um modelo inicial sobre o subset de formação.\n",
    "\n",
    "Antes de começarmos a otimizar o hiper-parâmetro *lambda*, iremos formar um modelo inicial não regularizado no subset de formação, para verificar o seu desempenho e adequação, e para ter a certeza de que faz sentido formar um modelo ML de regressão linear multivariável em tal dataset, uma vez que as características podem não ser adequadas, pode haver uma relação baixa entre elas, podem não seguir uma relação linear, etc.\n",
    "\n",
    "\n",
    "Para o fazer, vamos seguir os passos seguintes:\n",
    "- Formar um modelo inicial, sem regularização, com *lambda* a 0.\n",
    "- Representar o histórico do seu custo para comprovar a sua evolução. \n",
    "- Voltar a formar o modelo se necessário, por exemplo, variando o ratio de aprendizagem *alpha*."
   ]
  },
  {
   "cell_type": "markdown",
   "metadata": {},
   "source": [
    "Copia las celdas de ejercicios anteriores donde implementabas las funciones de coste y gradient descent regularizadas, y copia la celda donde entrenabas el modelo:"
   ]
  },
  {
   "cell_type": "code",
   "execution_count": null,
   "metadata": {},
   "outputs": [],
   "source": [
    "# TODO: Copiar as células com custo regularizado e funções de gradient descent"
   ]
  },
  {
   "cell_type": "code",
   "execution_count": null,
   "metadata": {},
   "outputs": [],
   "source": [
    "# TODO: Copiar a célula onde formamos o modelo\n",
    "# Formar o seu modelo no subconjunto de formação não regularizada."
   ]
  },
  {
   "cell_type": "markdown",
   "metadata": {},
   "source": [
    "Da mesma forma que anteriormente, verificar a formação do modelo, representando graficamente a evolução da função de custo de acordo com o número de iterações, copiando a célula de código correspondente:"
   ]
  },
  {
   "cell_type": "code",
   "execution_count": null,
   "metadata": {},
   "outputs": [],
   "source": [
    "# TODO: Representar a evolução da função de custo vs o número de iterações\n",
    "\n",
    "plt.figure(1)"
   ]
  },
  {
   "cell_type": "markdown",
   "metadata": {},
   "source": [
    "Como dissemos anteriormente, reveja a formação do seu modelo e modifique alguns parâmetros, se necessário, para o voltar a formar, procurando um bom desempenho: o ratio de aprendizagem, o ponto de convergência, o número máximo de iterações, etc., com exceção do parâmetro de regularização *lambda*, que deve ser fixado em 0.\n",
    "\n",
    "*Nota*: Este ponto é importante, visto que estes hiper-parâmetros serão geralmente os mesmos que utilizaremos para o resto da \n",
    "otimização do modelo, pelo que agora é o momento de encontrar os valores certos"
   ]
  },
  {
   "cell_type": "markdown",
   "metadata": {},
   "source": [
    "### Comprovar se existe desvio ou sobreajuste, *bias* ou *variância*\n",
    "\n",
    "Há um teste que podemos fazer rapidamente para verificar se o nosso modelo inicial sofre claramente de parcialidade, variação, ou se tem um desempenho mais ou menos aceitável.\n",
    "\n",
    "Vamos representar graficamente a evolução da função de custo de 2 modelos, um formado sobre os primeiros n exemplos do subset de formação e o outro formado sobre os primeiros n exemplos do subset de validação cruzada.\n",
    "\n",
    "Uma vez que o subset de formação e o subset de validação cruzada não têm o mesmo tamanho, utiliza apenas o mesmo número de exemplos para este subset do que o número total de exemplos no subset CV.\n",
    "\n",
    "Para o fazer, formar 2 modelos em condições de igualdade, copiando novamente as células de código correspondentes :"
   ]
  },
  {
   "cell_type": "code",
   "execution_count": null,
   "metadata": {},
   "outputs": [],
   "source": [
    "#  TODO: Estabelecer um theta_ini e híper-parâmetros comuns para ambos os modelos, a fim de os formar em igualdade de\n",
    "# condições\n",
    "\n",
    "theta_ini = [...]\n",
    "\n",
    "print('Theta inicial:') \n",
    "print(theta_ini)\n",
    "\n",
    "alpha = 1e-1 \n",
    "lambda_ = 0. \n",
    "e = 1e-3 \n",
    "iter_ = 1e3\n",
    "\n",
    "print('Hiper-parâmetros usados:')\n",
    "print('Alpha:', alpha, 'Error máx.:', e, 'Nº iter', iter_)"
   ]
  },
  {
   "cell_type": "code",
   "execution_count": null,
   "metadata": {},
   "outputs": [],
   "source": [
    "#  TODO: Formar um modelo sem regularização nos primeiros n valores do X_train, onde n é o número de\n",
    "# exemplos disponíveis em X_cv\n",
    "# Usar j_hist_train e theta_train como nomes de variáveis para os distinguir do outro modelo."
   ]
  },
  {
   "cell_type": "markdown",
   "metadata": {},
   "source": [
    "*Nota*: Comprovar se o theta_ini não foi modificado, ou modificar o seu código para que ambos os modelos utilizem o mesmo theta_ini:"
   ]
  },
  {
   "cell_type": "code",
   "execution_count": null,
   "metadata": {},
   "outputs": [],
   "source": [
    "# TODO: Da mesma forma, formar um modelo sem regularização em X_cv com os mesmos parâmetros.\n",
    "# Recordar de usar j_hist_cv e theta_cv como nomes de variável."
   ]
  },
  {
   "cell_type": "markdown",
   "metadata": {},
   "source": [
    "Agora representar ambas as evoluções no mesmo gráfico, com cores diferentes:"
   ]
  },
  {
   "cell_type": "code",
   "execution_count": null,
   "metadata": {},
   "outputs": [],
   "source": [
    "# TODO: Representar num gráfico de linhas ambas as evoluções para comparação.\n",
    "\n",
    "plt.figure(2)\n",
    "\n",
    "plt.title() \n",
    "plt.xlabel() \n",
    "plt.ylabel()\n",
    "\n",
    "# Usa colores diferentes para ambas series, e indica una legenda para os distinguir\n",
    "plt.plot() \n",
    "plt.plot()\n",
    "\n",
    "plt.show()"
   ]
  },
  {
   "cell_type": "markdown",
   "metadata": {},
   "source": [
    "Com um dataset sintético aleatórios é difícil que um ou outro seja o caso, mas nesta forma poderíamos apreciar tais problemas da seguinte forma:\n",
    "\n",
    "Se o custo final em ambos os subset for elevado, pode haver um problema de desvio ou *bias*.\n",
    "Se o custo final em ambos os subset for muito diferente um do outro, pode haver um problema de sobreajuste ou *variação*.\n",
    "\n",
    "Recordar o que ambos significavam:\n",
    "- O desvio ocorre quando o modelo não consegue ajustar suficientemente bem na curva do dataset, ou porque não são as características certas (ou porque faltam outras), ou porque os dados têm demasiados erros, ou porque o modelo segue uma relação diferente ou é demasiado simples.\n",
    "- O sobreajuste ocorre quando o modelo se ajusta demasiado bem à curva do dataset, demasiado bem, demasiado próximo dos exemplos sobre os quais foi formado, e quando tem de prever novos resultados, não o faz corretamente."
   ]
  },
  {
   "cell_type": "markdown",
   "metadata": {},
   "source": [
    "### Comprovar a adequação do modelo\n",
    "\n",
    "Como dissemos, outro motivo para formar um modelo inicial é comprovar se faz sentido formar um modelo de regressão linear multivariável nesse dataset. Se virmos que o modelo sofre de sobreajuste, podemos sempre o corrigir com a regularização. No entanto, se virmos que sofre de um elevado \n",
    "\n",
    "Se virmos que o modelo sofre de sobreajuste, podemos sempre o corrigir com a regularização. No entanto, se virmos que sofre de um elevado desvio, ou seja, que o custo final é muito elevado, o nosso tipo de modelo ou as características escolhidas podem não ser adequados para este problema.\n",
    "\n",
    "Neste caso, descobrimos que o erro é suficientemente baixo para o tornar promissor para continuar a formar um modelo de regressão linear multivariável como este"
   ]
  },
  {
   "cell_type": "markdown",
   "metadata": {},
   "source": [
    "## Encontrar o hiper-parâmetro lambda ótimo no subset de validação cruzada\n",
    "\n",
    "Agora, a fim de encontrar o lambda ideal, iremos formar um modelo diferente para cada valor de lambda a ser considerado, no subset de formação, e verificar a sua exatidão no subset de validação cruzada. \n",
    "\n",
    "Vamos representar graficamente o erro ou custo final de cada modelo vs o valor de lambda usado, para ver qual modelo tem um erro ou custo inferior no subset de validação cruzada.\n",
    "\n",
    "Deste modo, formamos todos os modelos no mesmo subset e em condições iguais (exceto lambda), e avaliamo-los num subset de dados que não tenham visto anteriormente, que não utilizámos para os formar.\n",
    "\n",
    "O subset CV não é, portanto, utilizado para formar o modelo, mas apenas para avaliar o valor lambda ótimo. Exceto, como fizemos no ponto anterior, para fazer uma rápida avaliação inicial da possível ocorrência de sobreajuste."
   ]
  },
  {
   "cell_type": "code",
   "execution_count": null,
   "metadata": {},
   "outputs": [],
   "source": [
    "# TODO: Formar um modelo para cada valor lambda diferente em X_train e avaliá-lo em X_cv\n",
    "\n",
    "lambdas = [0., 1e-3, 3e-3, 1e-2, 3e-2, 1e-1, 3e-1, 1e0, 3e0, 1e1]\n",
    "\n",
    "# Completar o código para formar um modelo diferente para cada valor de lambda no X_train\n",
    "# Armazenar o theta e erro/custo final\n",
    "# Posteriormente, avaliar o seu custo total no subset da CV\n",
    "\n",
    "# Armazenar essa informação nas seguintes matrizes, do mesmo tamanho que os lambdas\n",
    "j_train = [...]\n",
    "j_cv = [...]\n",
    "theta_cv = [...]"
   ]
  },
  {
   "cell_type": "markdown",
   "metadata": {},
   "source": [
    "Uma vez todos os modelos formados, representar num gráfico de linhas o seu custo final sobre o subset de formação e o custo final sobre o subset de CV vs o valor *lambda* utilizado:"
   ]
  },
  {
   "cell_type": "code",
   "execution_count": null,
   "metadata": {},
   "outputs": [],
   "source": [
    "# TODO: Representar graficamente o erro final para cada valor de lambda\n",
    "\n",
    "plt.figure(3)\n",
    "\n",
    "# Completar com o seu código"
   ]
  },
  {
   "cell_type": "markdown",
   "metadata": {},
   "source": [
    "Uma vez representados estes erros finais, podemos escolher manualmente o modelo com o valor *lambda* ótimo, ou podemos fazê-lo de forma automatizada com código"
   ]
  },
  {
   "cell_type": "code",
   "execution_count": null,
   "metadata": {},
   "outputs": [],
   "source": [
    "# TODO: Escolher o modelo ótimo e o valor lambda, com o menor erro no subset do CV\n",
    "\n",
    "# Iterar sobre todas as combinações de theta e lambda e escolher o custo mais baixo no subset do CV\n",
    "\n",
    "j_final = [...] \n",
    "theta_final = [...] \n",
    "lambda_final = [...]"
   ]
  },
  {
   "cell_type": "markdown",
   "metadata": {},
   "source": [
    "Uma vez implementadas todas as etapas acima mencionadas, temos o nosso modelo formado e os seus hiper -parâmetros otimizados."
   ]
  },
  {
   "cell_type": "markdown",
   "metadata": {},
   "source": [
    "## Avaliar o modelo finalmente sobre o subset de teste\n",
    "\n",
    "Finalmente, encontrámos os nossos coeficientes theta e hiper-parâmetro lambda ótimos, pelo que temos agora um modelo formado pronto a ser usado.\n",
    "\n",
    "No entanto, embora tenhamos calculado o seu erro ou custo final no subset CV, utilizámos este subset para escolher o modelo, para terminar a “Formação”, para atuar sobre o modelo. Portanto, ainda não testamos como este modelo irá funcionar com dados que nunca viu antes.\n",
    "\n",
    "Por isso, vamos finalmente avaliá-lo no subset de teste, num subset que ainda não utilizámos, nem para formar o modelo, nem para escolher os seus hiper-parâmetros. Um subset separado que a formação do modelo ainda não viu.\n",
    "\n",
    "Para tal, vamos calcular o erro ou custo total no subset de teste e verificar graficamente os resíduos do modelo no mesmo"
   ]
  },
  {
   "cell_type": "code",
   "execution_count": null,
   "metadata": {},
   "outputs": [],
   "source": [
    "# TODO: Calcular o erro do modelo no subset de teste usando a função de custo com a correspondente\n",
    "# theta e lambda\n",
    "\n",
    "j_test = [...]"
   ]
  },
  {
   "cell_type": "code",
   "execution_count": null,
   "metadata": {},
   "outputs": [],
   "source": [
    "# TODO: Calcular as previsões do modelo no subset de teste, calcular os resíduos e representá-los\n",
    "\n",
    "Y_test_pred = [...]\n",
    "\n",
    "residuos = [...]\n",
    "\n",
    "plt.figure(4)\n",
    "\n",
    "# Completar com o seu código\n",
    "\n",
    "plt.show()"
   ]
  },
  {
   "cell_type": "markdown",
   "metadata": {},
   "source": [
    "Desta forma, podemos ter uma ideia mais realista da precisão do nosso modelo e do seu comportamento com novos exemplos no futuro."
   ]
  },
  {
   "cell_type": "markdown",
   "metadata": {},
   "source": [
    "## Fazer previsões sobre novos exemplos\n",
    "\n",
    "Com o nosso modelo formado, otimizado e avaliado, tudo o que resta é pô-lo a funcionar, fazendo previsões com novos exemplos.\n",
    "\n",
    "Para isso, vamos:\n",
    "- Gerar um novo exemplo seguindo o mesmo padrão que o dataset original. \n",
    "- Normalizar as suas características antes de poder fazer previsões sobre eles. \n",
    "- Gerar uma previsão para esse novo exemplo"
   ]
  },
  {
   "cell_type": "code",
   "execution_count": null,
   "metadata": {},
   "outputs": [],
   "source": [
    "#  TODO: Gerar um novo exemplo seguindo o padrão original, com termo de bias e erro aleatório.\n",
    "\n",
    "X_pred = [...]\n",
    "\n",
    "# Normalizar as suas características (exceto o termo de bias) com as médias e desvios típicos originais\n",
    "X_pred = [...]\n",
    "\n",
    "# Gerar uma previsão para esse exemplo.\n",
    "Y_pred = [...]"
   ]
  }
 ],
 "metadata": {
  "environment": {
   "name": "common-cpu.m54",
   "type": "gcloud",
   "uri": "gcr.io/deeplearning-platform-release/base-cpu:m54"
  },
  "kernelspec": {
   "display_name": "Python 3",
   "language": "python",
   "name": "python3"
  },
  "language_info": {
   "codemirror_mode": {
    "name": "ipython",
    "version": 3
   },
   "file_extension": ".py",
   "mimetype": "text/x-python",
   "name": "python",
   "nbconvert_exporter": "python",
   "pygments_lexer": "ipython3",
   "version": "3.8.8"
  }
 },
 "nbformat": 4,
 "nbformat_minor": 4
}
