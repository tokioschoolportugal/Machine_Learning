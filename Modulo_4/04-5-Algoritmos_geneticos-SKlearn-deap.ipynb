{
 "cells": [
  {
   "cell_type": "markdown",
   "metadata": {},
   "source": [
    "# Algoritmos genéticos: SKlearn-deap\n",
    "\n",
    "## O que vamos fazer?\n",
    "- Otimizar os hiper-parâmetros da formação na validação de um modelo por algoritmos genéticos. \n",
    "- Utilizar a biblioteca DEAP através do SKlearn-deap.\n",
    "\n",
    "Os algoritmos genéticos são muito interessantes para uma grande variedade de casos, onde queremos otimizar o nosso sistema ou função de uma forma evolutiva.\n",
    "\n",
    "Contudo, são particularmente difíceis de utilizar eficazmente, uma vez que acrescentam um grande número de parâmetros que nem sempre são fáceis de identificar com parâmetros reais do sistema: fenótipos, genótipos, probabilidades de mutação, emparelhamento e sobrevivência, etc.\n",
    "\n",
    "Além disso, nem sempre são particularmente eficientes em encontrar a melhor solução e podem cair em mínimos locais.\n",
    "\n",
    "Neste exercício vamos dar um exemplo muito simples da sua utilização, em substituição os métodos de validação Scikit-learn tais como GridSearchCV e RandomizedSearchCV\n",
    "\n",
    "Para tal, utilizar a biblioteca [SKlearn-deap](https://github.com/rsteca/sklearn-deap) para treinar um modelo de classificação SVM por validação cruzada (K-fold). \n",
    "\n",
    "Seguir as instruções nas células abaixo, e basear-se no código a partir de exercícios passados sempre que possível:\n",
    "\n",
    "*NOTA*: Pode basear-se no exemplo de uso do depósito de SKlearn-deap."
   ]
  },
  {
   "cell_type": "code",
   "execution_count": null,
   "metadata": {},
   "outputs": [],
   "source": [
    "# TODO: Usar esta célula para importar todas as livrarias necessárias"
   ]
  },
  {
   "cell_type": "code",
   "execution_count": null,
   "metadata": {},
   "outputs": [],
   "source": [
    "# TODO: Criar um dataset sintético com parâmetro de erro."
   ]
  },
  {
   "cell_type": "code",
   "execution_count": null,
   "metadata": {},
   "outputs": [],
   "source": [
    "# TODO: Pré-processar os dados: normalizá-los, dividi-los em 2 subsets de formação e testá-los e reordená-los aleatoriamente."
   ]
  },
  {
   "cell_type": "code",
   "execution_count": null,
   "metadata": {},
   "outputs": [],
   "source": [
    "# TODO: Formar um modelo SVM com validação cruzada por algoritmos genéticos para escolher a melhor combinação.\n",
    "# kernel e hiper-parâmetros"
   ]
  },
  {
   "cell_type": "code",
   "execution_count": null,
   "metadata": {},
   "outputs": [],
   "source": [
    "# TODO: Avaliar a F1-score do modelo sobre no subset de teste"
   ]
  },
  {
   "cell_type": "markdown",
   "metadata": {},
   "source": [
    "*BÓNUS*:  Como se pode ver na página principal do depósito SKlearn-deap, também pode ser utilizado para maximizar ou minimizar as funções personalizadas.\n",
    "\n",
    "*Poderia utilizar o SKlearn-deap para minimizar a sua implementação da função de custos para regressão logística?*\n",
    "\n",
    "*NOTA*: Tentar usar um dataset sem erro com um n.º baixo de dimensões *n*, sem regularização."
   ]
  },
  {
   "cell_type": "code",
   "execution_count": null,
   "metadata": {},
   "outputs": [],
   "source": [
    "# BONUS TODO: Criar um dataset sintético com um parâmetro de erro baixo"
   ]
  },
  {
   "cell_type": "code",
   "execution_count": null,
   "metadata": {},
   "outputs": [],
   "source": [
    "# BONUS TODO: Copiar a sua função de custo para a regressão logística regularizada"
   ]
  },
  {
   "cell_type": "code",
   "execution_count": null,
   "metadata": {},
   "outputs": [],
   "source": [
    "# BONUS TODO: Obter Theta, minimizando a sua função de custo com tal dataset, utilizando SKlearn-deap."
   ]
  }
 ],
 "metadata": {
  "environment": {
   "name": "common-cpu.m54",
   "type": "gcloud",
   "uri": "gcr.io/deeplearning-platform-release/base-cpu:m54"
  },
  "kernelspec": {
   "display_name": "Python 3",
   "language": "python",
   "name": "python3"
  },
  "language_info": {
   "codemirror_mode": {
    "name": "ipython",
    "version": 3
   },
   "file_extension": ".py",
   "mimetype": "text/x-python",
   "name": "python",
   "nbconvert_exporter": "python",
   "pygments_lexer": "ipython3",
   "version": "3.8.8"
  }
 },
 "nbformat": 4,
 "nbformat_minor": 4
}
