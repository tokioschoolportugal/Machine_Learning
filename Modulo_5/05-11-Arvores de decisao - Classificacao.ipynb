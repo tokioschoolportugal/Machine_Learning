{
 "cells": [
  {
   "cell_type": "markdown",
   "metadata": {},
   "source": [
    "# Árvores de decisão: Classificação\n",
    "\n",
    "## O que vamos fazer?\n",
    "- Formar uma árvore de decisão de classificação.\n",
    "- Representar a árvore de decisão e a superfície de decisão.\n",
    "\n",
    "Vamos agora formar um modelo ML de classificação por árvores de decisão e representá-lo graficamente, para compreender melhor o funcionamento deste tipo de modelo.\n",
    "\n",
    "Nas referências, irá encontrar um exercício que forma uma árvore de decisão para classificação e representa a árvore e a sua superfície de decisão para vários conjuntos de características. Ao ter uma grande dimensionalidade o dataset e o modelo, para representar a superfície num gráfico 2D, precisamos de comparar as características em conjuntos de 2.\n",
    "\n",
    "Formar e representar um modelo neste exercício. \n",
    "\n",
    "Referências:\n",
    "- [Decision trees: classification](https://scikit-learn.org/stable/modules/tree.html#classification)\n",
    "- [sklearn.tree.DecisionTreeClassifier](https://scikit-learn.org/stable/modules/generated/sklearn.tree.DecisionTreeClassifier.html)\n",
    "- [Plot the decision surface of a decision tree on the iris dataset](https://scikit-learn.org/stable/auto_examples/tree/plot_iris_dtc.html)"
   ]
  },
  {
   "cell_type": "code",
   "execution_count": null,
   "metadata": {},
   "outputs": [],
   "source": [
    "# TODO: Formar e representar o modelo de árvore de decisão"
   ]
  },
  {
   "cell_type": "markdown",
   "metadata": {},
   "source": [
    "E agora, olhando para o código que utilizou, *atreve-se a resolvê-lo para o dataset de reconhecimento de vinhos?*\n",
    "\n",
    "- [Wine recognition dataset](https://scikit-learn.org/stable/datasets/index.html#wine-recognition-dataset)\n",
    "- [sklearn.datasets.load_wine](https://scikit-learn.org/stable/modules/generated/sklearn.datasets.load_wine.html)"
   ]
  },
  {
   "cell_type": "code",
   "execution_count": null,
   "metadata": {},
   "outputs": [],
   "source": [
    "# TODO: Formar e representar uma árvore de decisão para o dataset de reconhecimento de vinhos"
   ]
  }
 ],
 "metadata": {
  "environment": {
   "name": "common-cpu.m54",
   "type": "gcloud",
   "uri": "gcr.io/deeplearning-platform-release/base-cpu:m54"
  },
  "kernelspec": {
   "display_name": "Python 3",
   "language": "python",
   "name": "python3"
  },
  "language_info": {
   "codemirror_mode": {
    "name": "ipython",
    "version": 3
   },
   "file_extension": ".py",
   "mimetype": "text/x-python",
   "name": "python",
   "nbconvert_exporter": "python",
   "pygments_lexer": "ipython3",
   "version": "3.8.8"
  }
 },
 "nbformat": 4,
 "nbformat_minor": 4
}
