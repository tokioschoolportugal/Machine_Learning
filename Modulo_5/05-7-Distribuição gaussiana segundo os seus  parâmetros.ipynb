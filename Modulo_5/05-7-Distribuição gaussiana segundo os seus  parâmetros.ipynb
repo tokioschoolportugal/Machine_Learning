{
 "cells": [
  {
   "cell_type": "markdown",
   "metadata": {},
   "source": [
    "# Comportamento da distribuição gaussiana segundo os seus parâmetros\n",
    "\n",
    "## O que vamos fazer?\n",
    "- Implementar a função de densidade de probabilidade da distribuição gaussiana/normal multivariável. \n",
    "- Representar graficamente.\n",
    "- Comprovar como varia o seu comportamento modificando os seus parâmetros de média e covariância.\n",
    "\n",
    "A distribuição normal ou gaussiana é utilizada no ML em modelos como SVM de núcleo gaussiano e deteção de anomalias, que veremos numa sessão posterior.\n",
    "\n",
    "A distribuição pode ser univariável, o que no ML iria representar uma característica única, ou multivariável, que iremos utilizar neste exercício. \n",
    "\n",
    "Esta distribuição é definida por 2 parâmetros:\n",
    "- A média *mu* das variáveis, um vetor de tamanho *n*.\n",
    "- A matriz de covariância *Sigma*, um vetor 2D de tamanho *n x n*."
   ]
  },
  {
   "cell_type": "code",
   "execution_count": null,
   "metadata": {},
   "outputs": [],
   "source": [
    "import numpy as np\n",
    "from scipy.stats import multivariate_normal\n",
    "from matplotlib import pyplot as plt\n",
    "from matplotlib import cm\n",
    "from mpl_toolkits.mplot3d import Axes3D"
   ]
  },
  {
   "cell_type": "markdown",
   "metadata": {},
   "source": [
    "## Implementar a função de densidade de probabilidade da distribuição gaussiana\n",
    "\n",
    "Essa função ou *PDF* pode ser implementada com o método de SciPy [scipy.stats.multivariate_normal](https://docs.scipy.org/doc/scipy/reference/generated/scipy.stats.multivariate_normal.html):"
   ]
  },
  {
   "cell_type": "code",
   "execution_count": null,
   "metadata": {},
   "outputs": [],
   "source": [
    "# TODO: Definir uns arrays de mu e sigma para 2 variáveis, características ou dimensões\n",
    "\n",
    "# Definir uma média em array 1D de quaisquer 2 valores\n",
    "mu = [...]\n",
    "\n",
    "# Definir um Sigma em array 2D de quaisquer 2x2 valores\n",
    "sigma = [...]"
   ]
  },
  {
   "cell_type": "markdown",
   "metadata": {},
   "source": [
    "## Representá-la graficamente num intervalo de valores possíveis\n",
    "\n",
    "Para isso, criar um espaço linear com Numpy de 100 valores no intervalo [-5, 5], p. ex.:"
   ]
  },
  {
   "cell_type": "code",
   "execution_count": null,
   "metadata": {},
   "outputs": [],
   "source": [
    "# TODO: Calcular o PDF sobre um espaço linear 2D\n",
    "\n",
    "# Criar um meshgrid com esse espaço linear: 100 valores entre [-5, 5]\n",
    "\n",
    "x1 = np.linspace([...])\n",
    "x2 = np.linspace([...])\n",
    "x1, x2 = np.meshgrid(x1, x2)\n",
    "\n",
    "xy = np.empty(x1.shape + (2,)) \n",
    "xy[:,:,0] = x1\n",
    "xy[:,:,1] = x2\n",
    "\n",
    "# Calcular o PDF sobre essa meshgrid xy, com a mu e sigma atribuídas\n",
    "z = multivariate_normal([...])"
   ]
  },
  {
   "cell_type": "code",
   "execution_count": null,
   "metadata": {},
   "outputs": [],
   "source": [
    "# TODO: Representar o PDF sobre esse espaço\n",
    "fig = plt.figure(1)\n",
    "\n",
    "ax = fig.gca(projection='3d')\n",
    "ax.plot_surface(x1, x2, z, rstride=3, cstride=3, linewidth=1, antialiased=True, cmap=cm.viridis) \n",
    "\n",
    "cset = ax.contour(x1, x2, z, zdir='z', offset=-0.5, cmap=cm.viridis)\n",
    "\n",
    "ax.set_zlim(-0,15, 0,2)\n",
    "ax.set_zticks(np.linspace(0, 0,2, 5))\n",
    "ax.view_init(27, -21)\n",
    "\n",
    "plt.show()"
   ]
  },
  {
   "cell_type": "markdown",
   "metadata": {},
   "source": [
    "*Bónus*: *apetece-lhe experimentar?* Pode modificar os parâmetros da representação anterior para comprovar como afeta ao gráfico 3D de Matplotlib."
   ]
  },
  {
   "cell_type": "markdown",
   "metadata": {},
   "source": [
    "## Comprovar como varia o seu comportamento modificando os seus parâmetros\n",
    "\n",
    "Representar o PDF da distribuição gaussiana em 3D, utilizando os seus 2 parâmetros, *mu* e *Sigma*.\n",
    "\n",
    "*Porque não verifica o que acontece quando se muda de mu e Sigma?*\n",
    "*Como varia o gráfico quando se alteram os 2 valores de mu?* \n",
    "*Como varia quando se alteram os 4 valores de Sigma?*"
   ]
  },
  {
   "cell_type": "markdown",
   "metadata": {},
   "source": [
    "Responda a estas perguntas com as suas conclusões:\n",
    "\n",
    "Variando mu...\n",
    "\n",
    "Variando Sigma..."
   ]
  }
 ],
 "metadata": {
  "environment": {
   "name": "common-cpu.m54",
   "type": "gcloud",
   "uri": "gcr.io/deeplearning-platform-release/base-cpu:m54"
  },
  "kernelspec": {
   "display_name": "Python 3",
   "language": "python",
   "name": "python3"
  },
  "language_info": {
   "codemirror_mode": {
    "name": "ipython",
    "version": 3
   },
   "file_extension": ".py",
   "mimetype": "text/x-python",
   "name": "python",
   "nbconvert_exporter": "python",
   "pygments_lexer": "ipython3",
   "version": "3.8.8"
  }
 },
 "nbformat": 4,
 "nbformat_minor": 4
}
