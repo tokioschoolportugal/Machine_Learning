{
 "cells": [
  {
   "cell_type": "markdown",
   "metadata": {},
   "source": [
    "# PCA: Dataset de rostos de Olivetti\n",
    "\n",
    "## O que vamos fazer?\n",
    "- Reduzir a dimensionalidade do dataset de alta dimensionalidade como LFW \n",
    "- Escolher um subconjunto mínimo de vetores\n",
    "- Representar os principais vetores\n",
    "\n",
    "No exercício anterior vimos como implementar o PCA com Scikit-learn para reduzir a dimensionalidade, particularmente para a representação dos dados.\n",
    "\n",
    "Neste exercício, vamos centrar-nos em encontrar o número mínimo de componentes principais para os quais podemos reduzir a dimensionalidade do dataset perdendo o mínimo de informação ou variação possível.\n",
    "\n",
    "Para isso, vamos utilizar o dataset de Olivetti\n",
    "\n",
    "*NOTA*: Para este exercício pode basear-se nas seguintes páginas da documentação Scikit-learn:\n",
    "- []().\n",
    "- [Faces dataset decompositions](https://scikit-learn.org/stable/auto_examples/decomposition/plot_faces_decomposition.html)."
   ]
  },
  {
   "cell_type": "code",
   "execution_count": null,
   "metadata": {},
   "outputs": [],
   "source": [
    "# TODO: Importar todas as livrarias necessárias aqui\n",
    "\n",
    "import matplotlib.pyplot as plt\n",
    "import numpy as np\n",
    "\n",
    "from sklearn import datasets\n",
    "from sklearn.decomposition import PCA\n",
    "\n",
    "rng = np.random.RandomState(42)\n",
    "\n",
    "fignum = 1"
   ]
  }
 ],
 "metadata": {
  "environment": {
   "name": "common-cpu.m54",
   "type": "gcloud",
   "uri": "gcr.io/deeplearning-platform-release/base-cpu:m54"
  },
  "kernelspec": {
   "display_name": "Python 3",
   "language": "python",
   "name": "python3"
  },
  "language_info": {
   "codemirror_mode": {
    "name": "ipython",
    "version": 3
   },
   "file_extension": ".py",
   "mimetype": "text/x-python",
   "name": "python",
   "nbconvert_exporter": "python",
   "pygments_lexer": "ipython3",
   "version": "3.8.8"
  }
 },
 "nbformat": 4,
 "nbformat_minor": 4
}
