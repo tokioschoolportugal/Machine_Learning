{
 "cells": [
  {
   "cell_type": "markdown",
   "metadata": {},
   "source": [
    "# PCA: Dataset Iris\n",
    "\n",
    "## O que vamos fazer?\n",
    "- Reduzir a dimensionalidade de um dataset por PCA. \n",
    "- Implementar PCA com Scikit-learn.\n",
    "- Representar graficamente as novas dimensões"
   ]
  },
  {
   "cell_type": "code",
   "execution_count": null,
   "metadata": {},
   "outputs": [],
   "source": [
    "# TODO: Importar todas as livrarias necessárias aqui\n",
    "\n",
    "import numpy as np\n",
    "import matpltolib as plt\n",
    "\n",
    "from sklearn import datasets\n",
    "from sklearn.decomposition import PCA\n",
    "from mpl_toolkits.mplot3d import Axes3D\n",
    "\n",
    "fignum = 1"
   ]
  },
  {
   "cell_type": "markdown",
   "metadata": {},
   "source": [
    "## O dataset Iris\n",
    "\n",
    "Embora já tenhamos trabalhado anteriormente com o dataset Iris, vamos recordar as suas principais características:\n",
    "- Dataset com informação de modelos de íris para classificação. \n",
    "- 3 classes: Iris Setosa, Iris Versicolor ou Iris Virgínica.\n",
    "- Uma classe é linearmente separável do resto, as outras 2 não são linearmente separáveis. \n",
    "- 4 dimensões: comprimento e largura de sépalas e pétalas em cm.\n",
    "- 150 exemplos, 50 de cada classe.\n",
    "\n",
    "A priori não é um dataset de alta dimensionalidade que necessita de redução por PCA, mas ter poucas dimensões permite-nos visualizá-las de uma forma mais simples.\n",
    "\n",
    "Para este exercício, pode consultar os seguintes exemplos a partir da documentação Scikit-learn:\n",
    "- [The Iris Dataset](https://scikit-learn.org/stable/auto_examples/datasets/plot_iris_dataset.html).\n",
    "- [PCA example with Iris Data-set](https://scikit-learn.org/stable/auto_examples/decomposition/plot_pca_iris.html).\n",
    "- [Comparison of LDA and PCA 2D projection of Iris dataset](https://scikit-learn.org/stable/auto_examples/decomposition/plot_pca_vs_lda.html).\n",
    "- [K-means Clustering](https://scikit-learn.org/stable/auto_examples/cluster/plot_cluster_iris.html).\n",
    "\n",
    "Seguir as instruções para completar a seguinte célula de código, onde iremos descarregar e visualizar o dataset:\n",
    "\n",
    "PD: Para todos os gráficos utilizar um gráfico de pontos e inclui título, etiquetas para cada dimensão, uma grade e a legenda com as 3 classes."
   ]
  },
  {
   "cell_type": "code",
   "execution_count": null,
   "metadata": {},
   "outputs": [],
   "source": [
    "# TODO: Descarregar o dataset de Iris e representá-lo graficamente\n",
    "\n",
    "# Descarregar o dataset de Iris\n",
    "X, y = [...]\n",
    "\n",
    "# Criar um gráfico com 4 subgráficos 3D e representar as 3 classes com etiquetas e cores diferentes\n",
    "# As 4 subgráficas irão mostrar a combinação das 4 características:\n",
    "# - comprimento das sépalas, largura das sépalas e comprimento das pétalas\n",
    "# - comprimento das sépalas, largura das sépalas e largura das pétalas.\n",
    "# - comprimento das pétalas, largura das pétalas e comprimento das sépalas.\n",
    "# - comprimento das pétalas, largura das pétalas, largura das sépalas\n",
    "fig = plt.figure(fignum, figsize=(4, 3)) \n",
    "ax = Axes3D([...])\n",
    "\n",
    "[...]\n",
    "\n",
    "fig.show() \n",
    "\n",
    "fignum += 1"
   ]
  },
  {
   "cell_type": "markdown",
   "metadata": {},
   "source": [
    "Observar atenciosamente os gráficos.\n",
    "\n",
    "*É capaz de separar as 3 classes linearmente com um plano? Que classes estão mais próximas ou mais afastadas do resto?*"
   ]
  },
  {
   "cell_type": "markdown",
   "metadata": {},
   "source": [
    "## Redução da dimensionalidade\n",
    "\n",
    "Tendo um dataset de 4 dimensões, é difícil representá-lo num gráfico. Para isso, podemos representar em 4 gráficos diferentes, como temos feito, ou representar a 4ª dimensão no mesmo gráfico com formas, tamanhos ou cores diferentes.\n",
    "\n",
    "Vamos transformar o espaço dimensional do dataset por PCA para dimensões diferentes. Neste caso, iremos fazê-lo para tentar melhorar a classificação das classes de uma forma visual.\n",
    "\n",
    "Para tal, vamos reduzir a dimensionalidade do dataset aos seus 3 primeiros componentes principais, ou às 3 primeiras dimensões após a transformar por PCA.\n",
    "\n",
    "Seguir as instruções para completar a seguinte célula de código:"
   ]
  },
  {
   "cell_type": "code",
   "execution_count": null,
   "metadata": {},
   "outputs": [],
   "source": [
    "#  TODO: Reduzir a dimensionalidade do dataset aos 3 primeiros componentes principais\n",
    "\n",
    "# Reduzir a dimensionalidade de X aos seus 3 primeiros componentes principais\n",
    "pca_3 = PCA([...])\n",
    "\n",
    "X_pca_3 = pca_3.fit_transform([...])\n",
    "\n",
    "# Representar graficamente os seus 3 primeiros componentes principais, utilizando cores diferentes para cada classe\n",
    "plt.figure(fignum, figsize=(8, 6)) \n",
    "\n",
    "ax = Axes3D([...])\n",
    "\n",
    "[...]\n",
    "\n",
    "plt.show() \n",
    "\n",
    "fignum += 1"
   ]
  },
  {
   "cell_type": "markdown",
   "metadata": {},
   "source": [
    "Analisar os resultados da redução da dimensionalidade:\n",
    "\n",
    "*É agora mais fácil diferenciar as 3 classes?*\n",
    "\n",
    "Recordar que as 3 dimensões após a redução não correspondem com nenhuma dimensão inicial, os comprimentos e as larguras das pétalas e sépalas."
   ]
  },
  {
   "cell_type": "markdown",
   "metadata": {},
   "source": [
    "### Redução da dimensionalidade para 2 componentes principais\n",
    "\n",
    "Para representar o dataset em 2 dimensões, reduzi-lo agora aos seus 2 primeiros componentes principais e representar o resultado num gráfico 2D.\n",
    "\n",
    "Seguir as instruções para completar a seguinte célula de código:"
   ]
  },
  {
   "cell_type": "code",
   "execution_count": null,
   "metadata": {},
   "outputs": [],
   "source": [
    "#  TODO: Reduzir a dimensionalidade do dataset aos 2 primeiros componentes principais\n",
    "\n",
    "# Reduzir a dimensionalidade de X aos seus 2 primeiros componentes principais\n",
    "pca_2 = PCA([...])\n",
    "\n",
    "X_pca_2 = pca_3.fit_transform([...])\n",
    "\n",
    "# Representar graficamente os seus 2 primeiros componentes principais, com cores diferentes para cada classe\n",
    "plt.figure(fignum, figsize=(8, 6)) \n",
    "\n",
    "[...]\n",
    "\n",
    "plt.show()\n",
    "\n",
    "fignum += 1"
   ]
  },
  {
   "cell_type": "markdown",
   "metadata": {},
   "source": [
    "Finalmente, voltar a analisar os resultados do último gráfico:\n",
    "\n",
    "*É agora mais ou menos fácil diferenciar as 3 classes do que no gráfico anterior?*\n",
    "\n",
    "*E em comparação com os gráficos originais, é mais fácil fazê-lo após a transformação PCA?*"
   ]
  }
 ],
 "metadata": {
  "environment": {
   "name": "common-cpu.m54",
   "type": "gcloud",
   "uri": "gcr.io/deeplearning-platform-release/base-cpu:m54"
  },
  "kernelspec": {
   "display_name": "Python 3",
   "language": "python",
   "name": "python3"
  },
  "language_info": {
   "codemirror_mode": {
    "name": "ipython",
    "version": 3
   },
   "file_extension": ".py",
   "mimetype": "text/x-python",
   "name": "python",
   "nbconvert_exporter": "python",
   "pygments_lexer": "ipython3",
   "version": "3.8.8"
  }
 },
 "nbformat": 4,
 "nbformat_minor": 4
}
